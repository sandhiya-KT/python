{
 "cells": [
  {
   "cell_type": "markdown",
   "id": "d0603f1d",
   "metadata": {},
   "source": [
    "# Python Functions\n",
    "- A function is a block of code which only runs when it is called.\n",
    "- You can pass data, known as parameters, into a function.\n",
    "- A function can return data as a result."
   ]
  },
  {
   "cell_type": "markdown",
   "id": "c4f93fb3",
   "metadata": {},
   "source": [
    "### Creating a Function\n",
    "- In Python a function is defined using the def keyword."
   ]
  },
  {
   "cell_type": "code",
   "execution_count": 3,
   "id": "6f28d94f",
   "metadata": {},
   "outputs": [
    {
     "name": "stdout",
     "output_type": "stream",
     "text": [
      "Hello from a function\n"
     ]
    }
   ],
   "source": [
    "def my_function():\n",
    "    print(\"Hello from a function\")\n",
    "my_function()\n"
   ]
  },
  {
   "cell_type": "code",
   "execution_count": null,
   "id": "9dbaa991",
   "metadata": {},
   "outputs": [],
   "source": [
    "# Function\n",
    "\n",
    "- in function we have two important things\n",
    "\n",
    "1. function defination - we define a function or we define a task that we want to do\n",
    "2. function call - we exceute the function\n",
    "\n",
    "syntax\n",
    "\n",
    "function defination\n",
    "\n",
    "    def func_name(paramter):\n",
    "        \n",
    "        statment1\n",
    "        statment2\n",
    "        statment3\n",
    "        \n",
    "        return statment4\n",
    "    \n",
    "- optional- paramter , return\n",
    "\n",
    "2. function call\n",
    "\n",
    "func_name(args)\n",
    "\n",
    "Note: - if paramter is der in function dfination then only argument is needed in function call"
   ]
  },
  {
   "cell_type": "markdown",
   "id": "d8a14ad2",
   "metadata": {},
   "source": [
    "### Calling a Function\n",
    "- To call a function, use the function name followed by parenthesis"
   ]
  },
  {
   "cell_type": "code",
   "execution_count": 5,
   "id": "d7b5da40",
   "metadata": {},
   "outputs": [
    {
     "name": "stdout",
     "output_type": "stream",
     "text": [
      "Emil Refsnes\n",
      "Tobias Refsnes\n",
      "Linus Refsnes\n"
     ]
    }
   ],
   "source": [
    "def my_function(fname):\n",
    "     print(fname + \" Refsnes\")\n",
    "\n",
    "my_function(\"Emil\")\n",
    "my_function(\"Tobias\")\n",
    "my_function(\"Linus\")"
   ]
  },
  {
   "cell_type": "code",
   "execution_count": 6,
   "id": "0ef93cf1",
   "metadata": {},
   "outputs": [
    {
     "name": "stdout",
     "output_type": "stream",
     "text": [
      "Emil Refsnes\n"
     ]
    }
   ],
   "source": [
    "def my_function(fname, lname):\n",
    "    print(fname + \" \" + lname)\n",
    "\n",
    "my_function(\"Emil\", \"Refsnes\")"
   ]
  },
  {
   "cell_type": "code",
   "execution_count": 8,
   "id": "dd341eb9",
   "metadata": {},
   "outputs": [
    {
     "name": "stdout",
     "output_type": "stream",
     "text": [
      "The youngest child is Linus\n"
     ]
    }
   ],
   "source": [
    "def my_function(*kids):\n",
    "    print(\"The youngest child is \" + kids[2])\n",
    "\n",
    "my_function(\"Emil\", \"Tobias\", \"Linus\")"
   ]
  },
  {
   "cell_type": "code",
   "execution_count": 9,
   "id": "0c9663ef",
   "metadata": {},
   "outputs": [
    {
     "name": "stdout",
     "output_type": "stream",
     "text": [
      "The youngest child is Linus\n"
     ]
    }
   ],
   "source": [
    "def my_function(child3, child2, child1):\n",
    "    print(\"The youngest child is \" + child3)\n",
    "\n",
    "my_function(child1 = \"Emil\", child2 = \"Tobias\", child3 = \"Linus\")"
   ]
  },
  {
   "cell_type": "markdown",
   "id": "36580969",
   "metadata": {},
   "source": [
    "### Types of arguments\n",
    "- 1. Positional argument\n",
    "- 2. deafult arguments\n",
    "- 3. keyword arguments"
   ]
  },
  {
   "cell_type": "markdown",
   "id": "8b408093",
   "metadata": {},
   "source": [
    "#### 1. Positional argument\n",
    "- the order is important\n",
    "- number of args should match number of paramters"
   ]
  },
  {
   "cell_type": "code",
   "execution_count": 3,
   "id": "78c94b6d",
   "metadata": {},
   "outputs": [
    {
     "name": "stdout",
     "output_type": "stream",
     "text": [
      "[1, 2, 3]\n",
      "4000\n",
      "23\n"
     ]
    }
   ],
   "source": [
    "def emp_info(emp_name, emp_sal, emp_age):\n",
    "    print(emp_name)\n",
    "    print(emp_sal)    \n",
    "    print(emp_age)    \n",
    "emp_info([1,2,3,], 4000 , 23)"
   ]
  },
  {
   "cell_type": "code",
   "execution_count": 4,
   "id": "941bbe19",
   "metadata": {},
   "outputs": [
    {
     "name": "stdout",
     "output_type": "stream",
     "text": [
      "['Male']\n"
     ]
    }
   ],
   "source": [
    "data = ['Male', 'Male', 'Female', 'Other', 'None', 'Male', None, 10, 'Female', 1, 0, 'Yes', 'No']\n",
    "def my_filter(inp, gen):\n",
    "    out_lst = []\n",
    "    for ele in inp:\n",
    "        if ele in gen:\n",
    "            out_lst.append(ele)\n",
    "            return out_lst\n",
    "\n",
    "print(my_filter(data, ['Male', 'Female']))\n"
   ]
  },
  {
   "cell_type": "markdown",
   "id": "06fe582a",
   "metadata": {},
   "source": [
    "#### 2. Default Parameters and Arguments\n",
    "- Define a function which takes a list of data as input and returns a list of 'Male' values\n",
    "- If the argument is passed then it will take the value which is passed during function call Else it will take the default value\n",
    "- Default parameter should always be after positional parameters\n"
   ]
  },
  {
   "cell_type": "code",
   "execution_count": 13,
   "id": "18b6ef35",
   "metadata": {},
   "outputs": [
    {
     "name": "stdout",
     "output_type": "stream",
     "text": [
      "['Female', 'Female']\n"
     ]
    }
   ],
   "source": [
    "\n",
    "data = ['Male', 'Male', 'Female', 'Other', 'None', 'Male', None, 10, 'Female', 1, 0, 'Yes', 'No']\n",
    "def my_filter(inp, gen = \"male\"):\n",
    "    out_lst = []\n",
    "    for ele in inp:\n",
    "        if type(ele) == str:\n",
    "            if ele.lower() == gen:\n",
    "                out_lst.append(ele)\n",
    "    return out_lst\n",
    "print(my_filter(data, 'female'))\n"
   ]
  },
  {
   "cell_type": "markdown",
   "id": "b7f2d922",
   "metadata": {},
   "source": [
    "#### 3. Keyworded Arguments\n",
    "- Position does not matter\n",
    "- Arguments are passed to the parameters name directly in function call\n",
    "- Keyworded should always come after non-default arguments"
   ]
  },
  {
   "cell_type": "code",
   "execution_count": 15,
   "id": "9efcb457",
   "metadata": {},
   "outputs": [
    {
     "name": "stdout",
     "output_type": "stream",
     "text": [
      "afsaan\n",
      "34\n",
      "35\n",
      "goa\n",
      "hsr\n"
     ]
    }
   ],
   "source": [
    "def emp_info(name, age, sal , loc = 'banglore',  place = 'hsr'): \n",
    "    print(name) \n",
    "    print(age) \n",
    "    print(sal) \n",
    "    print(loc) \n",
    "    print(place) \n",
    "    \n",
    "emp_info(age = 34 , loc ='goa' , sal = 35 , name = 'afsaan')"
   ]
  },
  {
   "cell_type": "markdown",
   "id": "dfaf4527",
   "metadata": {},
   "source": [
    "#### # Variable legth arguments\n",
    "     1. *args - Variable legth positional arguments\n",
    "     2. **kwargs - Variable legth keyworded arguments"
   ]
  },
  {
   "cell_type": "markdown",
   "id": "2cf765fa",
   "metadata": {},
   "source": [
    "#### 1. *args - Variable legth positional arguments\n",
    " - Stores the extra values in the form of tuple"
   ]
  },
  {
   "cell_type": "code",
   "execution_count": 17,
   "id": "a25ffcfa",
   "metadata": {},
   "outputs": [
    {
     "name": "stdout",
     "output_type": "stream",
     "text": [
      "ABC\n",
      "9988776655\n",
      "abc@gmail.com\n",
      "('1st Cross', 'Marathahalli', 'Bengaluru', 765432, 'India') <class 'tuple'>\n",
      "Execution completed\n"
     ]
    }
   ],
   "source": [
    "def form_submit(name, mob, email, *var_name):\n",
    "    print(name)\n",
    "    print(mob)\n",
    "    print(email)\n",
    "    print(var_name, type(var_name))\n",
    "    print('Execution completed')\n",
    "\n",
    "form_submit('ABC', 9988776655, 'abc@gmail.com', '1st Cross', 'Marathahalli', 'Bengaluru', 765432, 'India')\n"
   ]
  },
  {
   "cell_type": "code",
   "execution_count": 19,
   "id": "0bc87ce0",
   "metadata": {},
   "outputs": [
    {
     "name": "stdout",
     "output_type": "stream",
     "text": [
      "(20, 30, 40, 50, 60, 70, 80, 90)\n"
     ]
    },
    {
     "data": {
      "text/plain": [
       "551"
      ]
     },
     "execution_count": 19,
     "metadata": {},
     "output_type": "execute_result"
    }
   ],
   "source": [
    "def my_add(a = 10, *c,):\n",
    "    print(c)\n",
    "    return sum(c)+a\n",
    "\n",
    "my_add(111,20, 30, 40, 50, 60, 70 ,80, 90)\n"
   ]
  },
  {
   "cell_type": "code",
   "execution_count": 22,
   "id": "bb1f192d",
   "metadata": {},
   "outputs": [
    {
     "name": "stdout",
     "output_type": "stream",
     "text": [
      "The youngest child is Linus\n"
     ]
    }
   ],
   "source": [
    "def my_function(*kids):\n",
    "    print(\"The youngest child is \" + kids[2])\n",
    "\n",
    "my_function(\"Emil\", \"Tobias\", \"Linus\")"
   ]
  },
  {
   "cell_type": "markdown",
   "id": "5b428b09",
   "metadata": {},
   "source": [
    "####  2. **kwargs - Variable legth keyworded arguments\n",
    "- Stores the extra values in the form of dictionary"
   ]
  },
  {
   "cell_type": "code",
   "execution_count": 20,
   "id": "db16df43",
   "metadata": {},
   "outputs": [
    {
     "name": "stdout",
     "output_type": "stream",
     "text": [
      "ABC\n",
      "9988776655\n",
      "abc@gmail.com\n",
      "{'street': '1st Cross', 'location': 'Marathahalli', 'city': 'Bengaluru', 'pin_code': 765432, 'country': 'India'} <class 'dict'>\n",
      "Execution completed\n"
     ]
    }
   ],
   "source": [
    "def form_submit(name, mob, email, **var_name):\n",
    "    print(name)\n",
    "    print(mob)\n",
    "    print(email)\n",
    "    print(var_name, type(var_name))\n",
    "    print('Execution completed')\n",
    "\n",
    "form_submit('ABC', 9988776655, 'abc@gmail.com', street = '1st Cross', \n",
    "            location = 'Marathahalli', city = 'Bengaluru', pin_code = 765432, country = 'India')"
   ]
  },
  {
   "cell_type": "code",
   "execution_count": 21,
   "id": "b72ca5bc",
   "metadata": {},
   "outputs": [
    {
     "name": "stdout",
     "output_type": "stream",
     "text": [
      "His last name is Refsnes\n"
     ]
    }
   ],
   "source": [
    "def my_function(**kid):\n",
    "    print(\"His last name is \" + kid[\"lname\"])\n",
    "\n",
    "my_function(fname = \"Tobias\", lname = \"Refsnes\")"
   ]
  },
  {
   "cell_type": "markdown",
   "id": "a754f0eb",
   "metadata": {},
   "source": [
    "#### Passing a List as an Argument\n",
    "- You can send any data types of argument to a function (string, number, list, dictionary etc.), and it will be treated as the same data type inside the function."
   ]
  },
  {
   "cell_type": "code",
   "execution_count": 24,
   "id": "83a0b333",
   "metadata": {},
   "outputs": [
    {
     "name": "stdout",
     "output_type": "stream",
     "text": [
      "apple\n",
      "banana\n",
      "cherry\n"
     ]
    }
   ],
   "source": [
    "def my_function(food):\n",
    "    for x in food:\n",
    "        print(x)\n",
    "\n",
    "fruits = [\"apple\", \"banana\", \"cherry\"]\n",
    "\n",
    "my_function(fruits)"
   ]
  },
  {
   "cell_type": "markdown",
   "id": "b6cc3e01",
   "metadata": {},
   "source": [
    "#### Return Values"
   ]
  },
  {
   "cell_type": "code",
   "execution_count": 25,
   "id": "d40b9a32",
   "metadata": {},
   "outputs": [
    {
     "name": "stdout",
     "output_type": "stream",
     "text": [
      "15\n",
      "25\n",
      "45\n"
     ]
    }
   ],
   "source": [
    "def my_function(x):\n",
    "  return 5 * x\n",
    "\n",
    "print(my_function(3))\n",
    "print(my_function(5))\n",
    "print(my_function(9))"
   ]
  },
  {
   "cell_type": "markdown",
   "id": "26242b07",
   "metadata": {},
   "source": [
    "#### The pass Statement\n",
    "- function definitions cannot be empty, but if you for some reason have a function definition with no content, put in the pass statement to avoid getting an error."
   ]
  },
  {
   "cell_type": "code",
   "execution_count": 26,
   "id": "e86eb20e",
   "metadata": {},
   "outputs": [],
   "source": [
    "def myfunction():\n",
    "    pass"
   ]
  },
  {
   "cell_type": "markdown",
   "id": "9b555d9b",
   "metadata": {},
   "source": [
    "#### Recursion"
   ]
  },
  {
   "cell_type": "code",
   "execution_count": 28,
   "id": "d08f68bc",
   "metadata": {},
   "outputs": [
    {
     "name": "stdout",
     "output_type": "stream",
     "text": [
      "\n",
      "\n",
      "Recursion Example Results\n",
      "1\n",
      "3\n",
      "6\n",
      "10\n",
      "15\n",
      "21\n"
     ]
    },
    {
     "data": {
      "text/plain": [
       "21"
      ]
     },
     "execution_count": 28,
     "metadata": {},
     "output_type": "execute_result"
    }
   ],
   "source": [
    "def tri_recursion(k):\n",
    "    if(k > 0):\n",
    "        result = k + tri_recursion(k - 1)\n",
    "        print(result)\n",
    "    else:\n",
    "        result = 0\n",
    "    return result\n",
    "\n",
    "print(\"\\n\\nRecursion Example Results\")\n",
    "tri_recursion(6)"
   ]
  },
  {
   "cell_type": "markdown",
   "id": "b7a61226",
   "metadata": {},
   "source": [
    "### Python Lambda\n",
    "- A lambda function is a small anonymous function.\n",
    "- A lambda function can take any number of arguments, but can only have one expression.\n",
    "- lambda arguments : expression"
   ]
  },
  {
   "cell_type": "code",
   "execution_count": 29,
   "id": "3b7a86b7",
   "metadata": {},
   "outputs": [
    {
     "name": "stdout",
     "output_type": "stream",
     "text": [
      "15\n"
     ]
    }
   ],
   "source": [
    "x = lambda a : a + 10\n",
    "print(x(5))"
   ]
  },
  {
   "cell_type": "code",
   "execution_count": 30,
   "id": "a5d682a6",
   "metadata": {},
   "outputs": [
    {
     "name": "stdout",
     "output_type": "stream",
     "text": [
      "30\n"
     ]
    }
   ],
   "source": [
    "x = lambda a, b : a * b\n",
    "print(x(5, 6))"
   ]
  },
  {
   "cell_type": "code",
   "execution_count": 31,
   "id": "7a55362c",
   "metadata": {},
   "outputs": [
    {
     "name": "stdout",
     "output_type": "stream",
     "text": [
      "13\n"
     ]
    }
   ],
   "source": [
    "x = lambda a, b, c : a + b + c\n",
    "print(x(5, 6, 2))"
   ]
  },
  {
   "cell_type": "markdown",
   "id": "9ea6dcef",
   "metadata": {},
   "source": [
    "#### Why Use Lambda Functions?\n",
    "- The power of lambda is better shown when you use them as an anonymous function inside another function.\n",
    "- Say you have a function definition that takes one argument, and that argument will be multiplied with an unknown number:"
   ]
  },
  {
   "cell_type": "code",
   "execution_count": 32,
   "id": "f2deca55",
   "metadata": {},
   "outputs": [],
   "source": [
    "def myfunc(n):\n",
    "    return lambda a : a * n"
   ]
  },
  {
   "cell_type": "code",
   "execution_count": 36,
   "id": "374ab9f3",
   "metadata": {},
   "outputs": [
    {
     "name": "stdout",
     "output_type": "stream",
     "text": [
      "22\n"
     ]
    }
   ],
   "source": [
    "def myfunc(n):\n",
    "    return lambda a : a * n\n",
    "\n",
    "mydoubler = myfunc(2)\n",
    "\n",
    "print(mydoubler(11))"
   ]
  },
  {
   "cell_type": "code",
   "execution_count": 37,
   "id": "af52e643",
   "metadata": {},
   "outputs": [
    {
     "name": "stdout",
     "output_type": "stream",
     "text": [
      "33\n"
     ]
    }
   ],
   "source": [
    "def myfunc(n):\n",
    "    return lambda a : a * n\n",
    "\n",
    "mytripler = myfunc(3)\n",
    "\n",
    "print(mytripler(11))"
   ]
  },
  {
   "cell_type": "code",
   "execution_count": 38,
   "id": "256d96ba",
   "metadata": {},
   "outputs": [
    {
     "name": "stdout",
     "output_type": "stream",
     "text": [
      "22\n",
      "33\n"
     ]
    }
   ],
   "source": [
    "def myfunc(n):\n",
    "    return lambda a : a * n\n",
    "\n",
    "mydoubler = myfunc(2)\n",
    "mytripler = myfunc(3)\n",
    "\n",
    "print(mydoubler(11))\n",
    "print(mytripler(11))"
   ]
  },
  {
   "cell_type": "code",
   "execution_count": null,
   "id": "ccc5fe6a",
   "metadata": {},
   "outputs": [],
   "source": []
  },
  {
   "cell_type": "code",
   "execution_count": null,
   "id": "5e6a7e2f",
   "metadata": {},
   "outputs": [],
   "source": []
  }
 ],
 "metadata": {
  "kernelspec": {
   "display_name": "Python 3 (ipykernel)",
   "language": "python",
   "name": "python3"
  },
  "language_info": {
   "codemirror_mode": {
    "name": "ipython",
    "version": 3
   },
   "file_extension": ".py",
   "mimetype": "text/x-python",
   "name": "python",
   "nbconvert_exporter": "python",
   "pygments_lexer": "ipython3",
   "version": "3.11.4"
  }
 },
 "nbformat": 4,
 "nbformat_minor": 5
}
