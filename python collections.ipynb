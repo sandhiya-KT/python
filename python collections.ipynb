{
 "cells": [
  {
   "cell_type": "markdown",
   "id": "c3399595",
   "metadata": {},
   "source": [
    "# python collections\n",
    "- List\n",
    "- Tuple\n",
    "- Set\n",
    "- dictionary"
   ]
  },
  {
   "cell_type": "markdown",
   "id": "39ae07e4",
   "metadata": {},
   "source": [
    "## List\n",
    "- anything that can be wriiten inside a [] and elements are sep by comma\n",
    "- Allows Duplicate\n",
    "- Any type of data can be stored\n",
    "- We can modify the list item. We can add and remove\n",
    "- insert(), append(), extend(),pop()"
   ]
  },
  {
   "cell_type": "code",
   "execution_count": 1,
   "id": "e7fa2749",
   "metadata": {},
   "outputs": [
    {
     "name": "stdout",
     "output_type": "stream",
     "text": [
      "<class 'type'>\n"
     ]
    }
   ],
   "source": [
    "a=[1,2,3,4,5,6]\n",
    "print(type)"
   ]
  },
  {
   "cell_type": "code",
   "execution_count": 2,
   "id": "5a536dab",
   "metadata": {},
   "outputs": [
    {
     "name": "stdout",
     "output_type": "stream",
     "text": [
      "[1, 1, 1, 1, 1, 1, 1, 1, 1]\n",
      "<class 'list'>\n"
     ]
    }
   ],
   "source": [
    "# 1. allows duplicate element\n",
    "\n",
    "a = [1,1,1,1,1,1,1,1,1]\n",
    "\n",
    "print(a)\n",
    "print(type(a))"
   ]
  },
  {
   "cell_type": "code",
   "execution_count": 3,
   "id": "731eed4c",
   "metadata": {},
   "outputs": [
    {
     "name": "stdout",
     "output_type": "stream",
     "text": [
      "[1, 2.2, (10+6j), None, (1, 2, 3), 'abc', True, False]\n"
     ]
    }
   ],
   "source": [
    "# 2. it can store any data type\n",
    "\n",
    "a = [1 , 2.2 , 10+6j , None , (1,2,3) , 'abc' , True , False]\n",
    "print(a)"
   ]
  },
  {
   "cell_type": "code",
   "execution_count": 5,
   "id": "ba76eab7",
   "metadata": {},
   "outputs": [
    {
     "name": "stdout",
     "output_type": "stream",
     "text": [
      "[1, 2.2, (10+6j), None, (1, 2, 3), 'abc', True, False, 7, 'sand', 6, 7]\n",
      "[1, 2.2, (10+6j), None, (1, 2, 3), 'abc', True, False, 7, 'sand', 6, 7, 'sand', 6]\n",
      "2.2\n"
     ]
    }
   ],
   "source": [
    "# 1.append\n",
    "\"\"\"\n",
    "appends an element to the end of the list\n",
    "you can only enter one element at a time\n",
    "\"\"\"\n",
    "a.append(7)\n",
    "print(a)\n",
    "\n",
    "a.append(\"sand\")\n",
    "a.append(6)\n",
    "print(a)\n",
    "\n",
    "print(a[1])"
   ]
  },
  {
   "cell_type": "code",
   "execution_count": 6,
   "id": "0027654d",
   "metadata": {},
   "outputs": [
    {
     "name": "stdout",
     "output_type": "stream",
     "text": [
      "[11, 1, 2.2, (10+6j), None, (1, 2, 3), 'abc', True, False, 7, 'sand', 6, 7, 'sand', 6]\n"
     ]
    }
   ],
   "source": [
    "# 2. insert - Returns the index of the first element with the specified value\n",
    "\n",
    "\"\"\"\n",
    "insert method insert the value at a particular index\n",
    "\n",
    "syntax - list.insert(index , element to be inserted)\n",
    "\n",
    "only one element at a time\n",
    "\n",
    "\"\"\"\n",
    "a.insert(0,11)\n",
    "print(a)"
   ]
  },
  {
   "cell_type": "code",
   "execution_count": 7,
   "id": "2735af05",
   "metadata": {
    "scrolled": true
   },
   "outputs": [
    {
     "data": {
      "text/plain": [
       "['hey', 'wassup']"
      ]
     },
     "execution_count": 7,
     "metadata": {},
     "output_type": "execute_result"
    }
   ],
   "source": [
    "a = 'hey wassup'\n",
    "a.split()"
   ]
  },
  {
   "cell_type": "code",
   "execution_count": 11,
   "id": "3fbf6922",
   "metadata": {},
   "outputs": [
    {
     "name": "stdout",
     "output_type": "stream",
     "text": [
      "[1, 2, 3, 5, 6]\n"
     ]
    }
   ],
   "source": [
    "# 3.pop - Removes the element at the specified position\n",
    "\"\"\"\n",
    "removes the ele by index\n",
    "\n",
    "pop() deafult removes the last element\n",
    "\n",
    "\n",
    "it is the only method that returns a value\n",
    "\n",
    "syntax = l1.pop(index)\n",
    "\n",
    "\"\"\"\n",
    "a=[1,2,3,4,5,6]\n",
    "a.pop(3)\n",
    "print(a)"
   ]
  },
  {
   "cell_type": "code",
   "execution_count": 12,
   "id": "3d4e4659",
   "metadata": {},
   "outputs": [
    {
     "name": "stdout",
     "output_type": "stream",
     "text": [
      "[1, 2, 3, 4, 5, 6, 11, 22, 35]\n"
     ]
    }
   ],
   "source": [
    "# 4. extend\n",
    "\"\"\"\n",
    "extent is similar to concatinatio but the object is getting changed in extend\n",
    "\n",
    " - merges two list\n",
    "\"\"\"\n",
    "a=[1,2,3,4,5,6]\n",
    "b=[11,22,35]\n",
    "a.extend(b)\n",
    "print(a)"
   ]
  },
  {
   "cell_type": "code",
   "execution_count": 13,
   "id": "d712cfb7",
   "metadata": {},
   "outputs": [
    {
     "data": {
      "text/plain": [
       "[1, 2, 3, 4]"
      ]
     },
     "execution_count": 13,
     "metadata": {},
     "output_type": "execute_result"
    }
   ],
   "source": [
    "# 5. remove\n",
    "\"\"\"\n",
    "removes the specified value from a list\n",
    "\n",
    "only removes the first occurance\n",
    "\"\"\"\n",
    "a= [1,2,3,4,5]\n",
    "a.remove(5)\n",
    "a"
   ]
  },
  {
   "cell_type": "code",
   "execution_count": 14,
   "id": "709350d8",
   "metadata": {},
   "outputs": [
    {
     "data": {
      "text/plain": [
       "3"
      ]
     },
     "execution_count": 14,
     "metadata": {},
     "output_type": "execute_result"
    }
   ],
   "source": [
    "# 6.count - count and returns the occurance of a value\n",
    "\n",
    "a = [1,1,1,2,2,3,3,4,4,5,6]\n",
    "a.count(1)"
   ]
  },
  {
   "cell_type": "code",
   "execution_count": 15,
   "id": "22c2a2d7",
   "metadata": {},
   "outputs": [
    {
     "data": {
      "text/plain": [
       "1"
      ]
     },
     "execution_count": 15,
     "metadata": {},
     "output_type": "execute_result"
    }
   ],
   "source": [
    "# 7. index - Returns the index of the first element with the specified value\n",
    "\"\"\"\n",
    "returns the index of the element\n",
    "\n",
    "\"\"\"\n",
    "\n",
    "l2 = [10,12,30,10,10,30,20]\n",
    "l2.index(12)"
   ]
  },
  {
   "cell_type": "code",
   "execution_count": 80,
   "id": "a677d33f",
   "metadata": {},
   "outputs": [
    {
     "name": "stdout",
     "output_type": "stream",
     "text": [
      "[]\n"
     ]
    }
   ],
   "source": [
    "# 8. clear - Removes all the elements from the list\n",
    "a = ['apple', 'banana', 'cherry', 'orange']\n",
    "\n",
    "a.clear()\n",
    "print(a)\n"
   ]
  },
  {
   "cell_type": "code",
   "execution_count": 18,
   "id": "352b6b1d",
   "metadata": {},
   "outputs": [
    {
     "name": "stdout",
     "output_type": "stream",
     "text": [
      "[5, 4, 3, 2, 1]\n"
     ]
    }
   ],
   "source": [
    "# 9.reverse - Reverses the order of the list\n",
    "l = [1,2,3,4,5]\n",
    "l.reverse()\n",
    "print(l)"
   ]
  },
  {
   "cell_type": "code",
   "execution_count": 26,
   "id": "5cf95ba4",
   "metadata": {},
   "outputs": [
    {
     "name": "stdout",
     "output_type": "stream",
     "text": [
      "[1, 3, 4, 4, 6, 8, 56]\n",
      "None\n"
     ]
    }
   ],
   "source": [
    "# sort - Sorts the list\n",
    "\"\"\"\n",
    "will sort the element in list\n",
    "\n",
    "Note - sort will only work on list of homogenous data\n",
    "\n",
    "behind the scene - comparison operators\n",
    "\"\"\"\n",
    "l = [4,1,6,8,3,4,56]\n",
    "l.sort()\n",
    "print(l)\n",
    "\n",
    "print(l.sort(reverse = True))"
   ]
  },
  {
   "cell_type": "code",
   "execution_count": 25,
   "id": "9a023ca0",
   "metadata": {},
   "outputs": [
    {
     "data": {
      "text/plain": [
       "[9, 8, 7, 6, 4, 4, 3, 2]"
      ]
     },
     "execution_count": 25,
     "metadata": {},
     "output_type": "execute_result"
    }
   ],
   "source": [
    "# sorting in descending order\n",
    "\n",
    "l = [6,4,7,8,9,2,3,4]\n",
    "l.sort(reverse = True)\n",
    "l"
   ]
  },
  {
   "cell_type": "code",
   "execution_count": 21,
   "id": "b2af3c61",
   "metadata": {},
   "outputs": [
    {
     "name": "stdout",
     "output_type": "stream",
     "text": [
      "[1, 2, 3, 4, 5, 6]\n",
      "[]\n"
     ]
    }
   ],
   "source": [
    "# clear\n",
    "\n",
    "a = [1,2,3,4,5,6]\n",
    "print(a)\n",
    "a.clear()\n",
    "print(a)"
   ]
  },
  {
   "cell_type": "code",
   "execution_count": 22,
   "id": "bfcd7725",
   "metadata": {},
   "outputs": [
    {
     "name": "stdout",
     "output_type": "stream",
     "text": [
      "2849090277376 [1, 2, 3, 4, 5]\n",
      "2849090242304 [1, 2, 3, 4, 5]\n",
      "2849090277376 [1, 2, 3, 4, 5]\n",
      "2849090242304 [100, 2, 3, 4, 5]\n"
     ]
    }
   ],
   "source": [
    "# shallow copy\n",
    "a = [1,2,3,4,5]\n",
    "b = a.copy()\n",
    "\n",
    "print(id(a) , a)\n",
    "print(id(b), b)\n",
    "\n",
    "b[0] = 100\n",
    "print(id(a) , a)\n",
    "print(id(b), b)"
   ]
  },
  {
   "cell_type": "code",
   "execution_count": 23,
   "id": "a21404ac",
   "metadata": {},
   "outputs": [
    {
     "name": "stdout",
     "output_type": "stream",
     "text": [
      "2849090528960\n"
     ]
    }
   ],
   "source": [
    "a=[1,2,3,4,5]\n",
    "print(id(a))"
   ]
  },
  {
   "cell_type": "code",
   "execution_count": 27,
   "id": "0d606e16",
   "metadata": {},
   "outputs": [
    {
     "name": "stdout",
     "output_type": "stream",
     "text": [
      "['__add__', '__class__', '__class_getitem__', '__contains__', '__delattr__', '__delitem__', '__dir__', '__doc__', '__eq__', '__format__', '__ge__', '__getattribute__', '__getitem__', '__getstate__', '__gt__', '__hash__', '__iadd__', '__imul__', '__init__', '__init_subclass__', '__iter__', '__le__', '__len__', '__lt__', '__mul__', '__ne__', '__new__', '__reduce__', '__reduce_ex__', '__repr__', '__reversed__', '__rmul__', '__setattr__', '__setitem__', '__sizeof__', '__str__', '__subclasshook__', 'append', 'clear', 'copy', 'count', 'extend', 'index', 'insert', 'pop', 'remove', 'reverse', 'sort']\n"
     ]
    }
   ],
   "source": [
    "print(dir(list))"
   ]
  },
  {
   "cell_type": "markdown",
   "id": "bf414f76",
   "metadata": {},
   "source": [
    "#### nested list\n",
    "\n",
    "- list inside a list is called as nested list"
   ]
  },
  {
   "cell_type": "code",
   "execution_count": 28,
   "id": "05865a08",
   "metadata": {},
   "outputs": [
    {
     "data": {
      "text/plain": [
       "11"
      ]
     },
     "execution_count": 28,
     "metadata": {},
     "output_type": "execute_result"
    }
   ],
   "source": [
    "a = [1,2,3,[10,11,12]]\n",
    "\n",
    "a[3][1]"
   ]
  },
  {
   "cell_type": "code",
   "execution_count": 29,
   "id": "e0fa1f11",
   "metadata": {},
   "outputs": [
    {
     "data": {
      "text/plain": [
       "'afsaan'"
      ]
     },
     "execution_count": 29,
     "metadata": {},
     "output_type": "execute_result"
    }
   ],
   "source": [
    "b = [[1,2,3,4] , ['learnbay' , 'afsaan' , 'hello'] , [None , True , False]]\n",
    "\n",
    "b[-2][-2]"
   ]
  },
  {
   "cell_type": "markdown",
   "id": "7caac3b4",
   "metadata": {},
   "source": [
    "## Tuple\n",
    "- Allows Duplicate\n",
    "- Any type of data can be stored\n",
    "- We cannot modify the tuple item. We cannot add or remove."
   ]
  },
  {
   "cell_type": "code",
   "execution_count": 30,
   "id": "bb7e28aa",
   "metadata": {},
   "outputs": [
    {
     "name": "stdout",
     "output_type": "stream",
     "text": [
      "(1, 1.2, None, [1, 2, 3], 'abc', True)\n"
     ]
    }
   ],
   "source": [
    "# 1. Any type of data can be stored:\n",
    "\n",
    "a = (1, 1.2, None, [1,2,3], 'abc', True)\n",
    "print(a)"
   ]
  },
  {
   "cell_type": "code",
   "execution_count": 31,
   "id": "bb74e8d6",
   "metadata": {},
   "outputs": [
    {
     "name": "stdout",
     "output_type": "stream",
     "text": [
      "(1, 1, 1, 1, 2, 2, 2, 3, 3, 3, 4, 4)\n"
     ]
    }
   ],
   "source": [
    "# 2. allows duplicate ele\n",
    "\n",
    "a = (1,1,1,1,2,2,2,3,3,3,4,4)\n",
    "print(a)"
   ]
  },
  {
   "cell_type": "code",
   "execution_count": 32,
   "id": "b1e5b47a",
   "metadata": {},
   "outputs": [
    {
     "name": "stdout",
     "output_type": "stream",
     "text": [
      "(1, 2, 3, 4, 5, 6)\n",
      "<class 'tuple'>\n"
     ]
    }
   ],
   "source": [
    "a=(1,2,3,4,5,6)\n",
    "print(a)\n",
    "print(type(a))"
   ]
  },
  {
   "cell_type": "code",
   "execution_count": 33,
   "id": "93e84d8e",
   "metadata": {},
   "outputs": [
    {
     "name": "stdout",
     "output_type": "stream",
     "text": [
      "enter the input10\n",
      "10 <class 'int'>\n"
     ]
    }
   ],
   "source": [
    "tup1 = eval(input('enter the input'))\n",
    "print(tup1 , type(tup1))"
   ]
  },
  {
   "cell_type": "code",
   "execution_count": 34,
   "id": "5cf18359",
   "metadata": {},
   "outputs": [
    {
     "data": {
      "text/plain": [
       "('m', 'e', 's', 's', 'i')"
      ]
     },
     "execution_count": 34,
     "metadata": {},
     "output_type": "execute_result"
    }
   ],
   "source": [
    "a = 'messi'\n",
    "tuple(a)"
   ]
  },
  {
   "cell_type": "code",
   "execution_count": 36,
   "id": "d6703c75",
   "metadata": {},
   "outputs": [
    {
     "name": "stdout",
     "output_type": "stream",
     "text": [
      "[1, 2, 3, 4, 5, 6]\n"
     ]
    }
   ],
   "source": [
    "a=(1,2,3,4,5,6)\n",
    "b=list(a)\n",
    "print(b)"
   ]
  },
  {
   "cell_type": "code",
   "execution_count": 37,
   "id": "8ca9644b",
   "metadata": {},
   "outputs": [
    {
     "name": "stdout",
     "output_type": "stream",
     "text": [
      "1\n"
     ]
    }
   ],
   "source": [
    "# indexing\n",
    "a = (1 , 1.2 , None , [1,2,3], 'abc' , True)\n",
    "print(a[0])"
   ]
  },
  {
   "cell_type": "code",
   "execution_count": 38,
   "id": "d7c6f9da",
   "metadata": {},
   "outputs": [
    {
     "name": "stdout",
     "output_type": "stream",
     "text": [
      "('abc', None, 1)\n"
     ]
    }
   ],
   "source": [
    "# slicing\n",
    "a = (1 , 1.2 , None , [1,2,3], 'abc' , )\n",
    "print(a[::-2])"
   ]
  },
  {
   "cell_type": "code",
   "execution_count": 39,
   "id": "331ef9fd",
   "metadata": {},
   "outputs": [
    {
     "data": {
      "text/plain": [
       "(1, 2, 3, 4, 1, 2, 3, 4, 1, 2, 3, 4)"
      ]
     },
     "execution_count": 39,
     "metadata": {},
     "output_type": "execute_result"
    }
   ],
   "source": [
    "# repetition\n",
    "\n",
    "\"\"\"\n",
    "op- *\n",
    "operand - one should be tuples and other should be int\n",
    "\"\"\"\n",
    "\n",
    "(1,2,3,4) * 3"
   ]
  },
  {
   "cell_type": "code",
   "execution_count": 46,
   "id": "9595d332",
   "metadata": {},
   "outputs": [
    {
     "name": "stdout",
     "output_type": "stream",
     "text": [
      "1\n",
      "3\n"
     ]
    }
   ],
   "source": [
    "# methods in tuple\n",
    "\n",
    "# 1. count - count the occourance of a specified value\n",
    "\n",
    "a = (1,2,3,4,5)\n",
    "print(a.count(2))\n",
    "b = (10,20,20.30, 20, 100, 10, 20, 90, 9, 89, 10, 20)\n",
    "print(b.count(10))"
   ]
  },
  {
   "cell_type": "code",
   "execution_count": 47,
   "id": "40732b90",
   "metadata": {},
   "outputs": [
    {
     "name": "stdout",
     "output_type": "stream",
     "text": [
      "5\n",
      "0\n"
     ]
    }
   ],
   "source": [
    "# 2. index - returns the index of a given value - only the first occurance\n",
    "a = (1,2,3,4,5,6)\n",
    "print(a.index(6))\n",
    "b = (10,20,20.30, 20, 100, 10, 20, 90, 9, 89, 10, 20)\n",
    "print(b.index(10))"
   ]
  },
  {
   "cell_type": "code",
   "execution_count": 44,
   "id": "267ff932",
   "metadata": {},
   "outputs": [
    {
     "data": {
      "text/plain": [
       "[10, 20, 30, 40]"
      ]
     },
     "execution_count": 44,
     "metadata": {},
     "output_type": "execute_result"
    }
   ],
   "source": [
    "a = [10,20,30,40]\n",
    "b = a.copy()\n",
    "b"
   ]
  },
  {
   "cell_type": "code",
   "execution_count": 45,
   "id": "6e5cddef",
   "metadata": {},
   "outputs": [
    {
     "name": "stdout",
     "output_type": "stream",
     "text": [
      "Enter a tuple: 10\n",
      "10 <class 'int'>\n"
     ]
    }
   ],
   "source": [
    "# Taking tuple as an input from user\n",
    "tpl = eval(input('Enter a tuple: '))\n",
    "print(tpl, type(tpl))\n"
   ]
  },
  {
   "cell_type": "code",
   "execution_count": 50,
   "id": "ebfdedc4",
   "metadata": {},
   "outputs": [
    {
     "name": "stdout",
     "output_type": "stream",
     "text": [
      "('Krishna', 'Learnbay', 'LB101', 123456, True) <class 'tuple'>\n"
     ]
    }
   ],
   "source": [
    "emp_name = 'Krishna'\n",
    "emp_company = 'Learnbay'\n",
    "emp_id = 'LB101'\n",
    "emp_pin = 123456\n",
    "emp_married = True\n",
    "emp_info = emp_name, emp_company, emp_id, emp_pin, emp_married        \n",
    "print(emp_info, type(emp_info))\n",
    "\n",
    "\n"
   ]
  },
  {
   "cell_type": "code",
   "execution_count": 51,
   "id": "c3e6c455",
   "metadata": {},
   "outputs": [
    {
     "name": "stdout",
     "output_type": "stream",
     "text": [
      "Aniket\n",
      "15\n",
      "IX\n",
      "98.89\n"
     ]
    }
   ],
   "source": [
    "student_info = ('Aniket', 15, 'IX', 98.89)\n",
    "st_name, st_age, st_std, st_marks = student_info\n",
    "print(st_name)\n",
    "print(st_age)\n",
    "print(st_std)\n",
    "print(st_marks)"
   ]
  },
  {
   "cell_type": "code",
   "execution_count": 42,
   "id": "ebb230d0",
   "metadata": {},
   "outputs": [
    {
     "name": "stdout",
     "output_type": "stream",
     "text": [
      "['__add__', '__class__', '__class_getitem__', '__contains__', '__delattr__', '__dir__', '__doc__', '__eq__', '__format__', '__ge__', '__getattribute__', '__getitem__', '__getnewargs__', '__getstate__', '__gt__', '__hash__', '__init__', '__init_subclass__', '__iter__', '__le__', '__len__', '__lt__', '__mul__', '__ne__', '__new__', '__reduce__', '__reduce_ex__', '__repr__', '__rmul__', '__setattr__', '__sizeof__', '__str__', '__subclasshook__', 'count', 'index']\n"
     ]
    }
   ],
   "source": [
    "print(dir(tuple))"
   ]
  },
  {
   "cell_type": "markdown",
   "id": "c1e391a2",
   "metadata": {},
   "source": [
    "## Set{}\n",
    "- Do not allow duplicate, Duplicate values will be removed.\n",
    "- any type of data can be stored.\n",
    "- We cannot modify the set item but we can add or remove items.\n",
    "- set are unordered .\n",
    "- add(), update(), remove(), pop()"
   ]
  },
  {
   "cell_type": "code",
   "execution_count": 52,
   "id": "d3053ed2",
   "metadata": {},
   "outputs": [
    {
     "name": "stdout",
     "output_type": "stream",
     "text": [
      "{1, 2, 3, 4, 5}\n"
     ]
    }
   ],
   "source": [
    "a={1,2,3,4,5,4}\n",
    "print(a)"
   ]
  },
  {
   "cell_type": "code",
   "execution_count": 54,
   "id": "3eb46c3b",
   "metadata": {},
   "outputs": [
    {
     "name": "stdout",
     "output_type": "stream",
     "text": [
      "{1, 2, 3, 4, 5, 10}\n"
     ]
    }
   ],
   "source": [
    "a={1,2,3,4,5,4}\n",
    "a.add(10)\n",
    "print(a)"
   ]
  },
  {
   "cell_type": "code",
   "execution_count": 55,
   "id": "c90fe595",
   "metadata": {},
   "outputs": [
    {
     "name": "stdout",
     "output_type": "stream",
     "text": [
      "{1, 2, 3, 5}\n"
     ]
    }
   ],
   "source": [
    "a={1,2,3,4,5,4}\n",
    "a.remove(4)\n",
    "print(a)"
   ]
  },
  {
   "cell_type": "code",
   "execution_count": 56,
   "id": "39f1f68f",
   "metadata": {},
   "outputs": [
    {
     "name": "stdout",
     "output_type": "stream",
     "text": [
      "{2, 3, 4, 5}\n"
     ]
    }
   ],
   "source": [
    "a={1,2,3,4,5,4}\n",
    "a.pop()\n",
    "print(a)"
   ]
  },
  {
   "cell_type": "code",
   "execution_count": 58,
   "id": "d86f6e51",
   "metadata": {},
   "outputs": [
    {
     "name": "stdout",
     "output_type": "stream",
     "text": [
      "['__and__', '__class__', '__class_getitem__', '__contains__', '__delattr__', '__dir__', '__doc__', '__eq__', '__format__', '__ge__', '__getattribute__', '__getstate__', '__gt__', '__hash__', '__iand__', '__init__', '__init_subclass__', '__ior__', '__isub__', '__iter__', '__ixor__', '__le__', '__len__', '__lt__', '__ne__', '__new__', '__or__', '__rand__', '__reduce__', '__reduce_ex__', '__repr__', '__ror__', '__rsub__', '__rxor__', '__setattr__', '__sizeof__', '__str__', '__sub__', '__subclasshook__', '__xor__', 'add', 'clear', 'copy', 'difference', 'difference_update', 'discard', 'intersection', 'intersection_update', 'isdisjoint', 'issubset', 'issuperset', 'pop', 'remove', 'symmetric_difference', 'symmetric_difference_update', 'union', 'update']\n"
     ]
    }
   ],
   "source": [
    "print(dir(set))"
   ]
  },
  {
   "cell_type": "markdown",
   "id": "5d967bf2",
   "metadata": {},
   "source": [
    "## Dictionary {}\n",
    "- Do not allow Duplicate, Duplicate values will overwrite existing value\n",
    "- Any type of data can be stored\n",
    "- Key: Values pair {\"name\":,\"EMC\"}\n",
    "- get(), keys(), values(), items(), update({\"year\":2020}), this dict[\"color\"] = \"red\", thisdict.pop(\"model\"), del(), clear()\n"
   ]
  },
  {
   "cell_type": "markdown",
   "id": "1d7a41af",
   "metadata": {},
   "source": [
    "#### Properties of dict\n",
    "\n",
    "- 1. it is a collection of key value pair\n",
    "- 2.  key,value pair is called item\n",
    "- 3. items are sep by ,\n",
    "- 4. key and value are sep by :\n",
    "- 5. key cannot be duplicated whereas value can be duplicated\n",
    "- 6. key is always immutable data type\n",
    "- 7. value can be any data type( mutable , immutable)\n",
    "- 8. all the items are into {}\n",
    "- 9. dict is not a seq data type - no slicing , no indexing , no condcatination , no repition\n",
    "- 10. membership is applicable only on keys\n",
    "- 11. identity op os possible\n",
    "- 12. dic is mutable"
   ]
  },
  {
   "cell_type": "code",
   "execution_count": 59,
   "id": "7e927aeb",
   "metadata": {},
   "outputs": [
    {
     "name": "stdout",
     "output_type": "stream",
     "text": [
      "Sandhiya\n",
      "26\n",
      "700\n"
     ]
    }
   ],
   "source": [
    "a = ['Sandhiya' , 26 , 700]\n",
    "\n",
    "#name\n",
    "print(a[0])\n",
    "print(a[1])\n",
    "print(a[2])"
   ]
  },
  {
   "cell_type": "code",
   "execution_count": 60,
   "id": "2cb9d7a1",
   "metadata": {},
   "outputs": [
    {
     "name": "stdout",
     "output_type": "stream",
     "text": [
      "{'emp1': 'data not present', 'emp2': 'data not present', 'emp3': 'data not present'}\n"
     ]
    }
   ],
   "source": [
    "# fromkeys method\n",
    "\n",
    "\"\"\"\n",
    "create a new dict with the keys from the iterables and value set to default\n",
    "\n",
    "dict.fromkeys(iterable)\n",
    "\n",
    "\"\"\"\n",
    "\n",
    "list_1 = ['emp1' , 'emp2', 'emp3']\n",
    "\n",
    "data = dict.fromkeys(list_1 , 'data not present')\n",
    "\n",
    "print(data)"
   ]
  },
  {
   "cell_type": "code",
   "execution_count": 61,
   "id": "9c1d5fa7",
   "metadata": {},
   "outputs": [
    {
     "name": "stdout",
     "output_type": "stream",
     "text": [
      "[1, 2, 3, 4, 5, 6, 7, 8, 9, 10]\n"
     ]
    }
   ],
   "source": [
    "print(list(range(1, 11)))"
   ]
  },
  {
   "cell_type": "code",
   "execution_count": 62,
   "id": "fc56452b",
   "metadata": {},
   "outputs": [
    {
     "name": "stdout",
     "output_type": "stream",
     "text": [
      "{1: 'Monday', 'b': 'Tuesday'}\n"
     ]
    }
   ],
   "source": [
    "a= dict(((1,'Monday'),('b','Tuesday')))\n",
    "print(a)"
   ]
  },
  {
   "cell_type": "code",
   "execution_count": 63,
   "id": "0b338ccc",
   "metadata": {},
   "outputs": [
    {
     "name": "stdout",
     "output_type": "stream",
     "text": [
      "None\n",
      "{}\n"
     ]
    }
   ],
   "source": [
    "a = {'st_101':{'st_name':'Abhishek',\n",
    "                     'st_std':'X',\n",
    "                     'st_marks':99.89},\n",
    "            'st_102':{'st_name':'Abhishek',\n",
    "                      'st_std':'X',\n",
    "                      'st_marks':99.89}}\n",
    "\n",
    "print(a.clear())    \n",
    "print(a)"
   ]
  },
  {
   "cell_type": "code",
   "execution_count": 64,
   "id": "f040328a",
   "metadata": {},
   "outputs": [
    {
     "name": "stdout",
     "output_type": "stream",
     "text": [
      "(20+30j)\n",
      "{1: 100, 10.2: 20.3, (10+20j): (20+30j), 'a': 'Python', False: True, (1, 2, 3): [1, 2, 3]}\n"
     ]
    }
   ],
   "source": [
    "# If key is present then it returns the value associated with irt\n",
    "# If key is not present and 2nd argument is not provided then It return None\n",
    "# If key is not present and 2nd argument is provided then It return 2nd arg as output\n",
    "# In all these case it does not update the dictionary whether key is present or not present\n",
    "\n",
    "a = {1:100, 10.20:20.30, 10+20j:20+30j, 'a':'Python', False:True, (1, 2, 3):[1,2, 3]}\n",
    "print(a.get(10+20j))\n",
    "print(a)"
   ]
  },
  {
   "cell_type": "code",
   "execution_count": 65,
   "id": "d962c7a3",
   "metadata": {},
   "outputs": [
    {
     "name": "stdout",
     "output_type": "stream",
     "text": [
      "(20+30j)\n",
      "{1: 100, 10.2: 20.3, (10+20j): (20+30j), 'a': 'Python', False: True, (1, 2, 3): [1, 2, 3]}\n"
     ]
    }
   ],
   "source": [
    "# If key is present then it returns the value associated with it\n",
    "# If key is not present and 2nd argument is not provided then It return None and creates a key value pair key: None in the dictionary\n",
    "# If key is not present and 2nd argument is provided then It return 2nd arg as output and creates a key value pair key: 2nd arg in the dictionary\n",
    "\n",
    "a = {1:100, 10.20:20.30, 10+20j:20+30j, 'a':'Python', False:True, (1, 2, 3):[1,2, 3]}\n",
    "print(a.setdefault(10+20j))\n",
    "print(a)"
   ]
  },
  {
   "cell_type": "code",
   "execution_count": 73,
   "id": "4c8c93eb",
   "metadata": {},
   "outputs": [
    {
     "name": "stdout",
     "output_type": "stream",
     "text": [
      "True\n"
     ]
    }
   ],
   "source": [
    "# membership op - only on keys\n",
    "\n",
    "dic_a = {'name':'Afsan' , 'lastname':'khan'}\n",
    "\n",
    "print('name' in dic_a)"
   ]
  },
  {
   "cell_type": "code",
   "execution_count": 66,
   "id": "0c20dd8d",
   "metadata": {},
   "outputs": [
    {
     "name": "stdout",
     "output_type": "stream",
     "text": [
      "{'st_name': [], 'st_id': [], 'st_marks': []}\n"
     ]
    }
   ],
   "source": [
    "# my_dict = {}\n",
    "my_lst = ['st_name', 'st_id', 'st_marks']\n",
    "my_dict = {}.fromkeys(my_lst, [])\n",
    "print(my_dict)"
   ]
  },
  {
   "cell_type": "code",
   "execution_count": 67,
   "id": "a59d4a2b",
   "metadata": {},
   "outputs": [
    {
     "name": "stdout",
     "output_type": "stream",
     "text": [
      "{1: 100, 10.2: 20.3, (10+20j): (20+30j), 'a': 'Python', False: True, (1, 2, 3): {1: [111, 2, 3]}} 2849090540416\n",
      "{1: 100, 10.2: 20.3, (10+20j): (20+30j), 'a': 'Python', False: True, (1, 2, 3): {1: [111, 2, 3]}} 2849090121664\n"
     ]
    }
   ],
   "source": [
    "my_dict = {1:100, 10.20:20.30, 10+20j:20+30j, 'a':'Python', False:True, (1, 2, 3):{1:[1,2, 3]}}\n",
    "dup_dict = my_dict.copy()  # Shallow copy\n",
    "dup_dict[(1,2, 3)][1][0] = 111\n",
    "print(dup_dict, id(dup_dict))\n",
    "print(my_dict, id(my_dict))"
   ]
  },
  {
   "cell_type": "code",
   "execution_count": 68,
   "id": "e7ddcca5",
   "metadata": {},
   "outputs": [
    {
     "name": "stdout",
     "output_type": "stream",
     "text": [
      "{1: 100, 10.2: 20.3, (10+20j): (20+30j), 'a': 'Python', False: True, (1, 2, 3): {1: [111, 2, 3]}} 2849090111040\n",
      "{1: 100, 10.2: 20.3, (10+20j): (20+30j), 'a': 'Python', False: True, (1, 2, 3): {1: [1, 2, 3]}} 2849090191168\n"
     ]
    }
   ],
   "source": [
    "from copy import deepcopy\n",
    "my_dict = {1:100, 10.20:20.30, 10+20j:20+30j, 'a':'Python', False:True, (1, 2, 3):{1:[1,2, 3]}}\n",
    "dup_dict = deepcopy(my_dict)  # Deep copy\n",
    "dup_dict[(1,2, 3)][1][0] = 111\n",
    "print(dup_dict, id(dup_dict))\n",
    "print(my_dict, id(my_dict))"
   ]
  },
  {
   "cell_type": "code",
   "execution_count": 69,
   "id": "b117ee60",
   "metadata": {},
   "outputs": [
    {
     "name": "stdout",
     "output_type": "stream",
     "text": [
      "afsaan\n",
      "24\n",
      "24\n"
     ]
    }
   ],
   "source": [
    "dic_a = {'age':24 , 'name': 'afsaan' , 'salary':24}\n",
    "\n",
    "print(dic_a['name'])\n",
    "print(dic_a['age'])\n",
    "print(dic_a['salary'])"
   ]
  },
  {
   "cell_type": "code",
   "execution_count": 75,
   "id": "394afc24",
   "metadata": {},
   "outputs": [
    {
     "name": "stdout",
     "output_type": "stream",
     "text": [
      "{'emp1': {'name': 'afsan', 'age': 22, 'courses': ['ai', 'machine learning']}, 'emp2': {'name': 'rahul', 'age': 32}, 'emp4': {'name': 'aditya'}, 'emp5': {'name': 'xyz'}}\n"
     ]
    }
   ],
   "source": [
    "# update\n",
    "\n",
    "# updated method is similar to extent in list\n",
    "employee_data = {'emp1':{'name':'afsan' , 'age':22 , 'courses':['ai' , 'machine learning']} , \n",
    "                 'emp2':{'name':'rahul' ,'age':32 }}\n",
    "\n",
    "\n",
    "new_data = {'emp4': {'name':'aditya'} , 'emp5': {'name':'xyz'}}\n",
    "\n",
    "employee_data.update(new_data)\n",
    "\n",
    "print(employee_data)"
   ]
  },
  {
   "cell_type": "code",
   "execution_count": 76,
   "id": "dd002f31",
   "metadata": {},
   "outputs": [
    {
     "name": "stdout",
     "output_type": "stream",
     "text": [
      "['__class__', '__class_getitem__', '__contains__', '__delattr__', '__delitem__', '__dir__', '__doc__', '__eq__', '__format__', '__ge__', '__getattribute__', '__getitem__', '__getstate__', '__gt__', '__hash__', '__init__', '__init_subclass__', '__ior__', '__iter__', '__le__', '__len__', '__lt__', '__ne__', '__new__', '__or__', '__reduce__', '__reduce_ex__', '__repr__', '__reversed__', '__ror__', '__setattr__', '__setitem__', '__sizeof__', '__str__', '__subclasshook__', 'clear', 'copy', 'fromkeys', 'get', 'items', 'keys', 'pop', 'popitem', 'setdefault', 'update', 'values']\n"
     ]
    }
   ],
   "source": [
    "print(dir(dict))"
   ]
  },
  {
   "cell_type": "code",
   "execution_count": null,
   "id": "d2afc904",
   "metadata": {},
   "outputs": [],
   "source": []
  }
 ],
 "metadata": {
  "kernelspec": {
   "display_name": "Python 3 (ipykernel)",
   "language": "python",
   "name": "python3"
  },
  "language_info": {
   "codemirror_mode": {
    "name": "ipython",
    "version": 3
   },
   "file_extension": ".py",
   "mimetype": "text/x-python",
   "name": "python",
   "nbconvert_exporter": "python",
   "pygments_lexer": "ipython3",
   "version": "3.11.4"
  }
 },
 "nbformat": 4,
 "nbformat_minor": 5
}
