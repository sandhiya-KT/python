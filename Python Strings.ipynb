{
 "cells": [
  {
   "cell_type": "markdown",
   "id": "48084524",
   "metadata": {},
   "source": [
    "# Python Strings "
   ]
  },
  {
   "cell_type": "markdown",
   "id": "32eb3481",
   "metadata": {},
   "source": [
    "#### # What is Strings?\n",
    "- If we write any thing in '...', \"...\", '''...''', \"\"\"...\"\"\"."
   ]
  },
  {
   "cell_type": "code",
   "execution_count": 1,
   "id": "9a8340a7",
   "metadata": {},
   "outputs": [],
   "source": [
    "# String, string indexing, slicing and string methods count, split, strip, rstrip, lstrip, rsplit\n",
    "# find, index, startswith, endswith, format\n",
    "# upper, lower, swapcase, replace, rfind\n",
    "# rindex, title, isalpha, isalnum, isupper islower, istitle, join, isspace, isprintable isdigit, isnumeric, isdecimal, etc."
   ]
  },
  {
   "cell_type": "code",
   "execution_count": 2,
   "id": "53d15002",
   "metadata": {},
   "outputs": [],
   "source": [
    "# Note: in the result, the line breaks are inserted at the same position as in the code."
   ]
  },
  {
   "cell_type": "code",
   "execution_count": 3,
   "id": "4058aaf0",
   "metadata": {},
   "outputs": [
    {
     "name": "stdout",
     "output_type": "stream",
     "text": [
      "san\n",
      "san\n",
      "san\n",
      "san\n"
     ]
    }
   ],
   "source": [
    "print('san')\n",
    "print(\"san\")\n",
    "print('''san''')\n",
    "print(\"\"\"san\"\"\")"
   ]
  },
  {
   "cell_type": "markdown",
   "id": "f043d860",
   "metadata": {},
   "source": [
    "#### 1. string indexing"
   ]
  },
  {
   "cell_type": "code",
   "execution_count": 4,
   "id": "c6374bc1",
   "metadata": {},
   "outputs": [
    {
     "name": "stdout",
     "output_type": "stream",
     "text": [
      "s\n",
      "s\n",
      "s\n",
      "a\n",
      "a\n"
     ]
    },
    {
     "data": {
      "text/plain": [
       "<function print(*args, sep=' ', end='\\n', file=None, flush=False)>"
      ]
     },
     "execution_count": 4,
     "metadata": {},
     "output_type": "execute_result"
    }
   ],
   "source": [
    "# Indexing - Access one characters\n",
    "# First Character\n",
    "a=\"sandhiya\"\n",
    "print(a[0])\n",
    "print(a[-8])\n",
    "print(a[-len(a)])\n",
    "\n",
    "# Last Character\n",
    "\n",
    "print(a[7])\n",
    "print(a[-1])\n",
    "print"
   ]
  },
  {
   "cell_type": "markdown",
   "id": "e4018975",
   "metadata": {},
   "source": [
    "#### 2. slicing and string methods count\n",
    "- You can return a range of characters by using the slice syntax.\n",
    "- Specify the start index and the end index, separated by a colon, to return a part of the string."
   ]
  },
  {
   "cell_type": "code",
   "execution_count": 5,
   "id": "1c0bd539",
   "metadata": {},
   "outputs": [
    {
     "name": "stdout",
     "output_type": "stream",
     "text": [
      "sandh\n",
      "ndhiya, sandy\n",
      "san\n",
      "sis\n",
      "ydnas ,ayihdnas\n",
      "ydnas ,ayihdnas\n",
      "yns,yhns\n",
      "sandhiya, sandy\n",
      "sandhiya, sandy\n",
      "\n"
     ]
    }
   ],
   "source": [
    "# Slicing - Taking out a piece of the string\n",
    "# str_name[start_index:end_index:step]\n",
    "\n",
    "# Step +ve or -ve\n",
    "# +ve - Slicing will be done from left to right\n",
    "# -ve - Slicing will be done from right to left\n",
    "x = \"sandhiya, sandy\"\n",
    "print(x[:5]) # Get the characters from the start to position 5 (not included):\n",
    "print(x[2:]) # Get the characters from position 2, and all the way to the end:\n",
    "print(x[-5:-2]) # From: \"\"s in \"sandy\" (position -5) #To, but not included: \"d\" in \"sandy\" (position -2):\n",
    "print(x[::5])\n",
    "print(x[::-1])\n",
    "print(x[:-len(x)-1:-1])\n",
    "print(x[::-2])\n",
    "print(x[::])\n",
    "print(x[0:len(x):1])\n",
    "print(x[6:4:5])\n"
   ]
  },
  {
   "cell_type": "markdown",
   "id": "951f0219",
   "metadata": {},
   "source": [
    "#### 3.split"
   ]
  },
  {
   "cell_type": "code",
   "execution_count": 57,
   "id": "c83f19f1",
   "metadata": {},
   "outputs": [
    {
     "name": "stdout",
     "output_type": "stream",
     "text": [
      "['sandhiya', 'is', 'beauty', 'girl']\n",
      "['she', 'sells', 'the', 'shells', 'at', 'seashore']\n"
     ]
    }
   ],
   "source": [
    "x=\"sandhiya is beauty girl\"\n",
    "print(x.split())\n",
    "y = 'she sells the shells at seashore'\n",
    "print(y.split())"
   ]
  },
  {
   "cell_type": "markdown",
   "id": "ee3e259c",
   "metadata": {},
   "source": [
    "#### 4.strip"
   ]
  },
  {
   "cell_type": "code",
   "execution_count": 55,
   "id": "38a155c8",
   "metadata": {},
   "outputs": [
    {
     "name": "stdout",
     "output_type": "stream",
     "text": [
      "Hello, World!\n",
      "**python**\n",
      "python\n"
     ]
    }
   ],
   "source": [
    "a = \" Hello, World! \"\n",
    "print(a.strip())\n",
    "s = '**python**'\n",
    "print(s)\n",
    "print(s.strip('*')) \n"
   ]
  },
  {
   "cell_type": "markdown",
   "id": "3b3f02aa",
   "metadata": {},
   "source": [
    "#### 5.rstrip"
   ]
  },
  {
   "cell_type": "code",
   "execution_count": 53,
   "id": "4e30ebcb",
   "metadata": {},
   "outputs": [
    {
     "name": "stdout",
     "output_type": "stream",
     "text": [
      "of all fruits      banana      is my favorite\n",
      "**python**\n",
      "**python\n"
     ]
    }
   ],
   "source": [
    "x = \"     banana     \"\n",
    "\n",
    "x.rstrip()\n",
    "\n",
    "print(\"of all fruits\", x, \"is my favorite\")\n",
    "s = '**python**'\n",
    "print(s)\n",
    "print(s.rstrip('*')) "
   ]
  },
  {
   "cell_type": "markdown",
   "id": "b0abf3b0",
   "metadata": {},
   "source": [
    "#### 6.lstrip"
   ]
  },
  {
   "cell_type": "code",
   "execution_count": 54,
   "id": "78cc19d9",
   "metadata": {},
   "outputs": [
    {
     "name": "stdout",
     "output_type": "stream",
     "text": [
      "of all fruits      banana      is my favorite\n",
      "**python**\n",
      "python**\n"
     ]
    }
   ],
   "source": [
    "x = \"     banana     \"\n",
    "\n",
    "x.lstrip()\n",
    "\n",
    "print(\"of all fruits\", x, \"is my favorite\")\n",
    "\n",
    "s = '**python**'\n",
    "print(s)\n",
    "print(s.lstrip('*')) "
   ]
  },
  {
   "cell_type": "code",
   "execution_count": 10,
   "id": "c5ad0f93",
   "metadata": {},
   "outputs": [
    {
     "name": "stdout",
     "output_type": "stream",
     "text": [
      "This is****++++ Python ++++ class\n"
     ]
    }
   ],
   "source": [
    "x = '+++++****This is****++++ Python ++++ class+++++++'\n",
    "print(x.strip('+').lstrip('*'))"
   ]
  },
  {
   "cell_type": "markdown",
   "id": "a49fd8be",
   "metadata": {},
   "source": [
    "#### 7.rsplit"
   ]
  },
  {
   "cell_type": "code",
   "execution_count": 11,
   "id": "4b7e836a",
   "metadata": {},
   "outputs": [
    {
     "data": {
      "text/plain": [
       "['apple,', 'banana,', 'cherry']"
      ]
     },
     "execution_count": 11,
     "metadata": {},
     "output_type": "execute_result"
    }
   ],
   "source": [
    "x = \"apple, banana, cherry\"\n",
    "x.rsplit()\n"
   ]
  },
  {
   "cell_type": "markdown",
   "id": "f27a0b30",
   "metadata": {},
   "source": [
    "#### 8.find"
   ]
  },
  {
   "cell_type": "code",
   "execution_count": 12,
   "id": "6b5db0f7",
   "metadata": {},
   "outputs": [
    {
     "data": {
      "text/plain": [
       "7"
      ]
     },
     "execution_count": 12,
     "metadata": {},
     "output_type": "execute_result"
    }
   ],
   "source": [
    "x= \"Hello, welcome to my world.\" # string.find(value, start, end)\n",
    "x.find(\"w\")\n"
   ]
  },
  {
   "cell_type": "code",
   "execution_count": 13,
   "id": "d7b12830",
   "metadata": {},
   "outputs": [
    {
     "data": {
      "text/plain": [
       "8"
      ]
     },
     "execution_count": 13,
     "metadata": {},
     "output_type": "execute_result"
    }
   ],
   "source": [
    "x = \"Hello, welcome to my world.\"\n",
    "x.find(\"e\", 5, 10)\n"
   ]
  },
  {
   "cell_type": "markdown",
   "id": "e79b02ce",
   "metadata": {},
   "source": [
    "#### 9.rfind"
   ]
  },
  {
   "cell_type": "code",
   "execution_count": 14,
   "id": "5390986f",
   "metadata": {},
   "outputs": [
    {
     "data": {
      "text/plain": [
       "25"
      ]
     },
     "execution_count": 14,
     "metadata": {},
     "output_type": "execute_result"
    }
   ],
   "source": [
    "x = \"Hello, welcome to my world.\"\n",
    "x.rfind('d') # [, start_index, stop_index]"
   ]
  },
  {
   "cell_type": "markdown",
   "id": "e3b52c65",
   "metadata": {},
   "source": [
    "#### 10.upper"
   ]
  },
  {
   "cell_type": "code",
   "execution_count": 15,
   "id": "70e56a7a",
   "metadata": {},
   "outputs": [
    {
     "name": "stdout",
     "output_type": "stream",
     "text": [
      "HELLO, WORLD!\n"
     ]
    }
   ],
   "source": [
    "a = \"Hello, World!\"\n",
    "print(a.upper())# It capitalizes all the letters\n"
   ]
  },
  {
   "cell_type": "markdown",
   "id": "c25c7904",
   "metadata": {},
   "source": [
    "#### 11.lower"
   ]
  },
  {
   "cell_type": "code",
   "execution_count": 16,
   "id": "4dbc7732",
   "metadata": {},
   "outputs": [
    {
     "name": "stdout",
     "output_type": "stream",
     "text": [
      "hello, world!\n",
      "fließen\n",
      "fliessen\n"
     ]
    }
   ],
   "source": [
    "a = \"Hello, World!\"\n",
    "print(a.lower()) # It converts all the letters inlower case\n",
    "x = 'fließen'\n",
    "print(x.lower())\n",
    "print(x.casefold())"
   ]
  },
  {
   "cell_type": "markdown",
   "id": "6fae1d2a",
   "metadata": {},
   "source": [
    "#### 12.swapcase "
   ]
  },
  {
   "cell_type": "code",
   "execution_count": 17,
   "id": "15ef979a",
   "metadata": {},
   "outputs": [
    {
     "name": "stdout",
     "output_type": "stream",
     "text": [
      "hELLO, wORLD!\n"
     ]
    }
   ],
   "source": [
    "a = \"Hello, World!\"\n",
    "print(a.swapcase()) # It swaps the cases of each letters\n"
   ]
  },
  {
   "cell_type": "markdown",
   "id": "c327edb0",
   "metadata": {},
   "source": [
    "#### 13.replace"
   ]
  },
  {
   "cell_type": "code",
   "execution_count": 61,
   "id": "95b5e844",
   "metadata": {},
   "outputs": [
    {
     "name": "stdout",
     "output_type": "stream",
     "text": [
      "Hhllo, World!\n",
      "* sells the *lls at seashore\n"
     ]
    }
   ],
   "source": [
    "a = \"Hello, World!\"\n",
    "print(a.replace('e','h'))\n",
    "y = 'she sells the shells at seashore'\n",
    "print(y.replace('she', '*' ,5))"
   ]
  },
  {
   "cell_type": "markdown",
   "id": "69e78278",
   "metadata": {},
   "source": [
    "#### 14.start_index"
   ]
  },
  {
   "cell_type": "code",
   "execution_count": 19,
   "id": "04f1b51f",
   "metadata": {},
   "outputs": [
    {
     "name": "stdout",
     "output_type": "stream",
     "text": [
      "True\n"
     ]
    }
   ],
   "source": [
    "my_str = 'This is Python class'\n",
    "print(my_str.startswith('T'))\n"
   ]
  },
  {
   "cell_type": "markdown",
   "id": "ee927fa9",
   "metadata": {},
   "source": [
    "#### 15. stop_index"
   ]
  },
  {
   "cell_type": "code",
   "execution_count": 20,
   "id": "d83ae98d",
   "metadata": {},
   "outputs": [
    {
     "name": "stdout",
     "output_type": "stream",
     "text": [
      "False\n"
     ]
    }
   ],
   "source": [
    "my_str = 'This is Python class'\n",
    "print(my_str.endswith('T'))\n"
   ]
  },
  {
   "cell_type": "markdown",
   "id": "c7bf40b3",
   "metadata": {},
   "source": [
    "#### 16.index"
   ]
  },
  {
   "cell_type": "code",
   "execution_count": 21,
   "id": "b26c8aaf",
   "metadata": {},
   "outputs": [
    {
     "name": "stdout",
     "output_type": "stream",
     "text": [
      "2\n"
     ]
    }
   ],
   "source": [
    "my_str = 'This is Python class'\n",
    "print(my_str.index('i'))"
   ]
  },
  {
   "cell_type": "code",
   "execution_count": 22,
   "id": "42ed0476",
   "metadata": {},
   "outputs": [
    {
     "name": "stdout",
     "output_type": "stream",
     "text": [
      "5\n"
     ]
    }
   ],
   "source": [
    "my_str = 'This is Python class'\n",
    "print(my_str.rindex('i'))"
   ]
  },
  {
   "cell_type": "markdown",
   "id": "5bf56144",
   "metadata": {},
   "source": [
    "#### 17. cpitalize."
   ]
  },
  {
   "cell_type": "code",
   "execution_count": 23,
   "id": "491a0a2a",
   "metadata": {},
   "outputs": [
    {
     "name": "stdout",
     "output_type": "stream",
     "text": [
      "This is python class\n"
     ]
    }
   ],
   "source": [
    "x = 'this is Python Class'\n",
    "print(x.capitalize())  # It capitalizes the first letter of the string"
   ]
  },
  {
   "cell_type": "markdown",
   "id": "773841de",
   "metadata": {},
   "source": [
    "#### 18. Title"
   ]
  },
  {
   "cell_type": "code",
   "execution_count": 24,
   "id": "0c2d472f",
   "metadata": {},
   "outputs": [
    {
     "name": "stdout",
     "output_type": "stream",
     "text": [
      "This Is Python Class\n"
     ]
    }
   ],
   "source": [
    "x = 'this is Python Class'\n",
    "print(x.title())  # It capitalizes the first letter each word in the string"
   ]
  },
  {
   "cell_type": "code",
   "execution_count": 25,
   "id": "cbcb3c68",
   "metadata": {},
   "outputs": [],
   "source": [
    "# Returns Boolean values\n",
    "\n",
    "# isalnum - It checks whether all characters are either alphabet or numeric or alphanumeric or not\n",
    "# isalpha - It checks whether all characters are alphabet or not\n",
    "# isdecimal - It checks whether all characters are alphabet or not\n",
    "# isdigit - It checks whether all characters are alphabet or not\n",
    "# isnumeric - It checks whether all characters are alphabet or not"
   ]
  },
  {
   "cell_type": "code",
   "execution_count": 26,
   "id": "e8403e4b",
   "metadata": {},
   "outputs": [
    {
     "name": "stdout",
     "output_type": "stream",
     "text": [
      "False\n",
      "True\n",
      "True\n",
      "False\n",
      "False\n"
     ]
    }
   ],
   "source": [
    "print('23²'.isdecimal())\n",
    "print('23²'.isdigit())\n",
    "print('Ⅶ'.isnumeric())\n",
    "print('Ⅶ'.isdecimal())\n",
    "print('Ⅶ'.isdigit())"
   ]
  },
  {
   "cell_type": "code",
   "execution_count": 27,
   "id": "e539d54d",
   "metadata": {},
   "outputs": [
    {
     "name": "stdout",
     "output_type": "stream",
     "text": [
      "True\n"
     ]
    }
   ],
   "source": [
    "x= 'this is python class'\n",
    "print(x.isprintable())"
   ]
  },
  {
   "cell_type": "markdown",
   "id": "c022a875",
   "metadata": {},
   "source": [
    "#### 19.count"
   ]
  },
  {
   "cell_type": "code",
   "execution_count": 28,
   "id": "06535c7e",
   "metadata": {},
   "outputs": [
    {
     "name": "stdout",
     "output_type": "stream",
     "text": [
      "4\n",
      "2\n",
      "1\n"
     ]
    }
   ],
   "source": [
    "\n",
    "x = 'This is Python class'\n",
    "print(x.count('s'))\n",
    "print(x.count('is'))\n",
    "print(x.count('is', 5, 10))"
   ]
  },
  {
   "cell_type": "markdown",
   "id": "3d31cbd3",
   "metadata": {},
   "source": [
    "#### 20. String formatting \n"
   ]
  },
  {
   "cell_type": "code",
   "execution_count": 29,
   "id": "e2d989a9",
   "metadata": {},
   "outputs": [
    {
     "name": "stdout",
     "output_type": "stream",
     "text": [
      "       Python       \n",
      "        Python       \n",
      "********Python*******\n",
      "Python++++++++++++++\n",
      "++++++++++++++Python\n",
      "00000000000000Python\n",
      "0000098765\n"
     ]
    }
   ],
   "source": [
    "# center, zfill, rjust, ljust\n",
    "\n",
    "x = 'Python'\n",
    "print(x.center(20))\n",
    "print(x.center(21))\n",
    "print(x.center(21, '*'))\n",
    "print(x.ljust(20, '+'))\n",
    "print(x.rjust(20, '+'))\n",
    "print(x.zfill(20))\n",
    "y = '98765'\n",
    "print(y.zfill(10))\n"
   ]
  },
  {
   "cell_type": "markdown",
   "id": "91d538d2",
   "metadata": {},
   "source": [
    "#### 21.Join"
   ]
  },
  {
   "cell_type": "code",
   "execution_count": 58,
   "id": "9fe1ae0b",
   "metadata": {},
   "outputs": [
    {
     "name": "stdout",
     "output_type": "stream",
     "text": [
      "This is Python class\n",
      "This-->is-->Python-->class\n",
      "This+is+Python+class\n"
     ]
    },
    {
     "data": {
      "text/plain": [
       "'she--->sells--->the--->shells--->at--->seashore'"
      ]
     },
     "execution_count": 58,
     "metadata": {},
     "output_type": "execute_result"
    }
   ],
   "source": [
    "x= ['This', 'is', 'Python', 'class']\n",
    "print(' '.join(x))\n",
    "print('-->'.join(x))\n",
    "print('+'.join(x))\n",
    "y = ['she', 'sells', 'the', 'shells', 'at', 'seashore']\n",
    "\"--->\".join(y)"
   ]
  },
  {
   "cell_type": "code",
   "execution_count": 31,
   "id": "589c44cf",
   "metadata": {},
   "outputs": [
    {
     "name": "stdout",
     "output_type": "stream",
     "text": [
      "sreppep delkcip fo kcep a dekcip repip retep\n",
      "['retep', 'repip', 'dekcip', 'a', 'kcep', 'fo', 'delkcip', 'sreppep']\n",
      "peppers pickled of peck a picked piper peter\n"
     ]
    }
   ],
   "source": [
    "x = 'peter piper picked a peck of pickled peppers'\n",
    "\n",
    "# Output1:- 'sreppep delkcip fo kcep a dekcip repip retep'\n",
    "# Output2:- 'retep repip dekcip a kcep fo delkcip sreppep'\n",
    "# Output3:- 'peppers pickled of peck a picked piper peter'\n",
    "print(x[::-1])\n",
    "print(x[::-1].split()[::-1])\n",
    "print(' '.join(x.split()[::-1]))"
   ]
  },
  {
   "cell_type": "markdown",
   "id": "f010485e",
   "metadata": {},
   "source": [
    "####  21. Conditional Statmenets - if, elif, else\n"
   ]
  },
  {
   "cell_type": "code",
   "execution_count": 32,
   "id": "6363fc48",
   "metadata": {},
   "outputs": [
    {
     "name": "stdout",
     "output_type": "stream",
     "text": [
      "Enter a number in the range 1-7: 6\n",
      "Friday\n"
     ]
    }
   ],
   "source": [
    "# if\n",
    "# if else\n",
    "# if elif else\n",
    "\n",
    "num = int(input('Enter a number in the range 1-7: '))\n",
    "if num == 1:\n",
    "  print('Sunday')\n",
    "elif num == 2:\n",
    "  print('Monday')\n",
    "elif num == 3:\n",
    "  print('Tuesday')\n",
    "elif num == 4:\n",
    "  print('Wednesday')\n",
    "elif num == 5:\n",
    "  print('Thursday')\n",
    "elif num == 6:\n",
    "  print('Friday')\n",
    "elif num == 7:\n",
    "  print('Saturday')\n",
    "else:\n",
    "  print('Input is wrong')"
   ]
  },
  {
   "cell_type": "code",
   "execution_count": 33,
   "id": "707f3009",
   "metadata": {},
   "outputs": [
    {
     "name": "stdout",
     "output_type": "stream",
     "text": [
      "Enter a number in the range 1-7: 9\n",
      "Input is wrong\n"
     ]
    }
   ],
   "source": [
    "num = int(input('Enter a number in the range 1-7: '))\n",
    "if num == 1:\n",
    "  print('Sunday')\n",
    "elif num == 2:\n",
    "  print('Monday')\n",
    "elif num == 3:\n",
    "  print('Tuesday')\n",
    "elif num == 4:\n",
    "  print('Wednesday')\n",
    "elif num == 5:\n",
    "  print('Thursday')\n",
    "elif num == 6:\n",
    "  print('Friday')\n",
    "elif num == 7:\n",
    "  print('Saturday')\n",
    "else:\n",
    "  print('Input is wrong')"
   ]
  },
  {
   "cell_type": "code",
   "execution_count": 34,
   "id": "bf1dd5cc",
   "metadata": {},
   "outputs": [
    {
     "name": "stdout",
     "output_type": "stream",
     "text": [
      "Enter an year: 20\n",
      "20 is a leap Year\n"
     ]
    }
   ],
   "source": [
    "year = int(input('Enter an year: '))\n",
    "if year%4 == 0:\n",
    "    if year%100 == 0:\n",
    "        if year%400 == 0:\n",
    "            print(f'{year} is a leap Year')\n",
    "        else:\n",
    "            print(f'{year} is not a leap Year')\n",
    "    else:\n",
    "        print(f'{year} is a leap Year')\n",
    "else:\n",
    "    print(f'{year} is not a leap Year')"
   ]
  },
  {
   "cell_type": "code",
   "execution_count": 35,
   "id": "3fd9cd06",
   "metadata": {},
   "outputs": [
    {
     "name": "stdout",
     "output_type": "stream",
     "text": [
      "Year is a leap Year\n"
     ]
    }
   ],
   "source": [
    "if(year%400 == 0) or ((year%4 == 0) and (year%100)!= 0):\n",
    "  print('Year is a leap Year')\n",
    "else:\n",
    "  print('Year is not a leap year')"
   ]
  },
  {
   "cell_type": "markdown",
   "id": "359828d4",
   "metadata": {},
   "source": [
    "#### 22.Concatenation"
   ]
  },
  {
   "cell_type": "code",
   "execution_count": 36,
   "id": "7d433522",
   "metadata": {},
   "outputs": [
    {
     "name": "stdout",
     "output_type": "stream",
     "text": [
      "Python\n",
      "Class\n",
      "PythonClass\n"
     ]
    }
   ],
   "source": [
    "x = 'Python'\n",
    "x1 = 'Class'\n",
    "x2 = x + x1\n",
    "print(x)\n",
    "print(x1)\n",
    "print(x2)"
   ]
  },
  {
   "cell_type": "markdown",
   "id": "33e4feed",
   "metadata": {},
   "source": [
    "#### 23.Repetition"
   ]
  },
  {
   "cell_type": "code",
   "execution_count": 37,
   "id": "c2190db6",
   "metadata": {},
   "outputs": [
    {
     "data": {
      "text/plain": [
       "'pythonpythonpython'"
      ]
     },
     "execution_count": 37,
     "metadata": {},
     "output_type": "execute_result"
    }
   ],
   "source": [
    "x='python'\n",
    "x*3"
   ]
  },
  {
   "cell_type": "markdown",
   "id": "a913939b",
   "metadata": {},
   "source": [
    "#### 24.Membership - in, not in"
   ]
  },
  {
   "cell_type": "code",
   "execution_count": 38,
   "id": "99b31c6d",
   "metadata": {},
   "outputs": [
    {
     "name": "stdout",
     "output_type": "stream",
     "text": [
      "True\n",
      "True\n",
      "True\n",
      "True\n"
     ]
    }
   ],
   "source": [
    "x = 'This is Python class'\n",
    "print('T' in x)\n",
    "print('This' in x)\n",
    "print('p' not in x)\n",
    "print('Pn'not in x)"
   ]
  },
  {
   "cell_type": "code",
   "execution_count": 39,
   "id": "3f974a6d",
   "metadata": {},
   "outputs": [
    {
     "name": "stdout",
     "output_type": "stream",
     "text": [
      "['__add__', '__class__', '__contains__', '__delattr__', '__dir__', '__doc__', '__eq__', '__format__', '__ge__', '__getattribute__', '__getitem__', '__getnewargs__', '__getstate__', '__gt__', '__hash__', '__init__', '__init_subclass__', '__iter__', '__le__', '__len__', '__lt__', '__mod__', '__mul__', '__ne__', '__new__', '__reduce__', '__reduce_ex__', '__repr__', '__rmod__', '__rmul__', '__setattr__', '__sizeof__', '__str__', '__subclasshook__', 'capitalize', 'casefold', 'center', 'count', 'encode', 'endswith', 'expandtabs', 'find', 'format', 'format_map', 'index', 'isalnum', 'isalpha', 'isascii', 'isdecimal', 'isdigit', 'isidentifier', 'islower', 'isnumeric', 'isprintable', 'isspace', 'istitle', 'isupper', 'join', 'ljust', 'lower', 'lstrip', 'maketrans', 'partition', 'removeprefix', 'removesuffix', 'replace', 'rfind', 'rindex', 'rjust', 'rpartition', 'rsplit', 'rstrip', 'split', 'splitlines', 'startswith', 'strip', 'swapcase', 'title', 'translate', 'upper', 'zfill']\n"
     ]
    }
   ],
   "source": [
    "print(dir(str))\n"
   ]
  },
  {
   "cell_type": "markdown",
   "id": "7d992128",
   "metadata": {},
   "source": [
    "#### String Properties\n",
    "- string is seq - it allows +ve and -ve index\n",
    "- +ve indexing starts with 0 from l to r\n",
    "- -ve indexing starts with -1 from r to l\n",
    "- indexing, slicing, concatination, repetition, membership, identity\n",
    "- string is immutable - item assignment is not allowed"
   ]
  },
  {
   "cell_type": "code",
   "execution_count": 41,
   "id": "3cc43890",
   "metadata": {},
   "outputs": [
    {
     "data": {
      "text/plain": [
       "'a'"
      ]
     },
     "execution_count": 41,
     "metadata": {},
     "output_type": "execute_result"
    }
   ],
   "source": [
    "a=\"sandhiya\"\n",
    "a[-1]"
   ]
  },
  {
   "cell_type": "code",
   "execution_count": 42,
   "id": "64282821",
   "metadata": {},
   "outputs": [
    {
     "data": {
      "text/plain": [
       "'s'"
      ]
     },
     "execution_count": 42,
     "metadata": {},
     "output_type": "execute_result"
    }
   ],
   "source": [
    "a[0]"
   ]
  },
  {
   "cell_type": "code",
   "execution_count": 43,
   "id": "d39d8ea4",
   "metadata": {},
   "outputs": [
    {
     "data": {
      "text/plain": [
       "'i'"
      ]
     },
     "execution_count": 43,
     "metadata": {},
     "output_type": "execute_result"
    }
   ],
   "source": [
    "a[-3]"
   ]
  },
  {
   "cell_type": "code",
   "execution_count": 44,
   "id": "ebea893d",
   "metadata": {},
   "outputs": [
    {
     "data": {
      "text/plain": [
       "'ti s'"
      ]
     },
     "execution_count": 44,
     "metadata": {},
     "output_type": "execute_result"
    }
   ],
   "source": [
    "a = 'this is a python claSs'\n",
    "a[0:7:2]"
   ]
  },
  {
   "cell_type": "code",
   "execution_count": 45,
   "id": "bf3f8ea4",
   "metadata": {},
   "outputs": [
    {
     "name": "stdout",
     "output_type": "stream",
     "text": [
      "2051888698544\n",
      "2051937827248\n",
      "nohtyp\n"
     ]
    }
   ],
   "source": [
    "a = 'python'\n",
    "print(id(a))\n",
    "a = a[::-1]\n",
    "print(id(a))\n",
    "print(a)"
   ]
  },
  {
   "cell_type": "code",
   "execution_count": 46,
   "id": "9721f994",
   "metadata": {},
   "outputs": [
    {
     "name": "stdout",
     "output_type": "stream",
     "text": [
      "hello\n",
      "world\n"
     ]
    }
   ],
   "source": [
    "# \\n - new line\n",
    "print('hello\\nworld')"
   ]
  },
  {
   "cell_type": "code",
   "execution_count": 47,
   "id": "19ccbe78",
   "metadata": {},
   "outputs": [
    {
     "name": "stdout",
     "output_type": "stream",
     "text": [
      "hello\tworld\n"
     ]
    }
   ],
   "source": [
    "# \\t - tab - 4 spces\n",
    "print('hello\\tworld')"
   ]
  },
  {
   "cell_type": "code",
   "execution_count": 48,
   "id": "aa0346f8",
   "metadata": {},
   "outputs": [
    {
     "name": "stdout",
     "output_type": "stream",
     "text": [
      "this is python's class\n",
      "hello\\tworld\n",
      "hello\\nworld\n"
     ]
    }
   ],
   "source": [
    "# \\ - back slash - escaping\n",
    "\n",
    "print('this is python\\'s class')\n",
    "print('hello\\\\tworld')\n",
    "print('hello\\\\nworld')"
   ]
  },
  {
   "cell_type": "code",
   "execution_count": 49,
   "id": "09418c2c",
   "metadata": {},
   "outputs": [
    {
     "name": "stdout",
     "output_type": "stream",
     "text": [
      "sandhiyasandyvalarsandhiyak\n"
     ]
    }
   ],
   "source": [
    "print('sandhiya\\\n",
    "sandy\\\n",
    "valar\\\n",
    "sandhiyak')"
   ]
  },
  {
   "cell_type": "code",
   "execution_count": 50,
   "id": "bb785e2d",
   "metadata": {},
   "outputs": [
    {
     "name": "stdout",
     "output_type": "stream",
     "text": [
      "abc\bxyz\n",
      "ab\bc\n"
     ]
    }
   ],
   "source": [
    "# \\b - backspace - Deletes the pervious char\n",
    "\"\"\"\n",
    "\\b is used behing the scene in the application eg sql , mongo\n",
    "\"\"\"\n",
    "a= 'abc\\bxyz'\n",
    "print(a)\n",
    "\n",
    "print('ab'+'\\b'+'c')"
   ]
  },
  {
   "cell_type": "code",
   "execution_count": 51,
   "id": "a25c5c5c",
   "metadata": {},
   "outputs": [
    {
     "name": "stdout",
     "output_type": "stream",
     "text": [
      "afsaan\r",
      "khan\n",
      "hellohhyutg\r",
      "khan\n",
      "he\r",
      "khan\n"
     ]
    }
   ],
   "source": [
    " # \\r carriage return\n",
    "\"\"\"\n",
    "\\r is used behing the scene in the application eg sql , mongo\n",
    "\"\"\"\n",
    "text = 'afsaan\\rkhan'\n",
    "print(text)\n",
    "\n",
    "text = 'hellohhyutg\\rkhan'\n",
    "print(text)\n",
    "\n",
    "text = 'he\\rkhan'\n",
    "print(text)"
   ]
  },
  {
   "cell_type": "code",
   "execution_count": 52,
   "id": "c8927f1c",
   "metadata": {},
   "outputs": [
    {
     "name": "stdout",
     "output_type": "stream",
     "text": [
      "afsan\\bkhan\n"
     ]
    }
   ],
   "source": [
    "# raw string\n",
    "print(r'afsan\\bkhan')"
   ]
  },
  {
   "cell_type": "code",
   "execution_count": 62,
   "id": "ac8c1161",
   "metadata": {},
   "outputs": [
    {
     "name": "stdout",
     "output_type": "stream",
     "text": [
      "afsan                                                        hello world\n",
      "messi                          afsan hello world\n"
     ]
    }
   ],
   "source": [
    "# ljust(left adjustment) , rjust(right adjustment)\n",
    "\n",
    "x= 'afsan'\n",
    "print(x.ljust(60),'hello world')\n",
    "\n",
    "y = 'afsan'\n",
    "print('messi',y.rjust(30),'hello world')"
   ]
  },
  {
   "cell_type": "code",
   "execution_count": null,
   "id": "ee96fc1f",
   "metadata": {},
   "outputs": [],
   "source": []
  }
 ],
 "metadata": {
  "kernelspec": {
   "display_name": "Python 3 (ipykernel)",
   "language": "python",
   "name": "python3"
  },
  "language_info": {
   "codemirror_mode": {
    "name": "ipython",
    "version": 3
   },
   "file_extension": ".py",
   "mimetype": "text/x-python",
   "name": "python",
   "nbconvert_exporter": "python",
   "pygments_lexer": "ipython3",
   "version": "3.11.4"
  }
 },
 "nbformat": 4,
 "nbformat_minor": 5
}
