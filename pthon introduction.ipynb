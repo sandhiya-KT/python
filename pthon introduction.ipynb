{
 "cells": [
  {
   "cell_type": "markdown",
   "id": "ff381f8e",
   "metadata": {},
   "source": [
    "# Python Introduction"
   ]
  },
  {
   "cell_type": "markdown",
   "id": "0b47667a",
   "metadata": {},
   "source": [
    "## What is Python?\n",
    "- Python is a popular programming language. It was created by Guido van Rossum, and released in 1991.\n",
    "- Python is simple, Easy to understand and Expressive Language.\n",
    "- Python is Portable and Platfprm Independent.\n",
    "- Python is Free(No License is required) and Open Source(SDource code is availabel freely).\n",
    "- Python is Dynamically Typed Language.\n",
    "- Python has huge library supprt and community Support.\n",
    "- Python comes with batteries included.\n",
    "- Python supports almost all the paradigms\n",
    "    - Scripting Language\n",
    "    - Procedural PL\n",
    "    - Functional PL\n",
    "    - Modular PL\n",
    "    - OOP\n",
    "##### It is used for:\n",
    "- web development (server-side),\n",
    "- software development,\n",
    "- mathematics,\n",
    "- system scripting."
   ]
  },
  {
   "cell_type": "markdown",
   "id": "6d9c9cf0",
   "metadata": {},
   "source": [
    "##### Why do we need Programming Language?\n",
    "- To develop the applications\n",
    "- Set of predefined words - Keywords\n",
    "- Set of some predefined Rules - Syntax"
   ]
  },
  {
   "cell_type": "code",
   "execution_count": 1,
   "id": "3007f963",
   "metadata": {},
   "outputs": [
    {
     "name": "stdout",
     "output_type": "stream",
     "text": [
      "python is programming language\n"
     ]
    }
   ],
   "source": [
    "print(\"python is programming language\")"
   ]
  },
  {
   "cell_type": "markdown",
   "id": "a49f9e44",
   "metadata": {},
   "source": [
    "### Python Install\n",
    "- Many PCs and Macs will have python already installed.\n",
    "- To check if you have python installed on a Windows PC, search in the start bar for Python or run the following on the Command Line (cmd.exe):"
   ]
  },
  {
   "cell_type": "markdown",
   "id": "121a226f",
   "metadata": {},
   "source": [
    "### Memory Management in Python - Automatic\n",
    "  - Meomory Allocation - Raw Memory Allocator, Object Specific Allocator, Python Virtual Machine\n",
    "  - Memory Deallocation - Garbage collector"
   ]
  },
  {
   "cell_type": "code",
   "execution_count": 2,
   "id": "4d9bd4f5",
   "metadata": {},
   "outputs": [
    {
     "name": "stdout",
     "output_type": "stream",
     "text": [
      "30\n"
     ]
    }
   ],
   "source": [
    "a=10\n",
    "b=20\n",
    "c=a+b\n",
    "print(c)"
   ]
  },
  {
   "cell_type": "markdown",
   "id": "b43ab2a4",
   "metadata": {},
   "source": [
    "##### Creating a Comment\n",
    "- Comments starts with a #, and Python will ignore them:\n"
   ]
  },
  {
   "cell_type": "code",
   "execution_count": 3,
   "id": "65e7a805",
   "metadata": {},
   "outputs": [
    {
     "name": "stdout",
     "output_type": "stream",
     "text": [
      "Hello, World!\n"
     ]
    }
   ],
   "source": [
    "#This is a comment\n",
    "print(\"Hello, World!\")"
   ]
  },
  {
   "cell_type": "markdown",
   "id": "2fb5035d",
   "metadata": {},
   "source": [
    "# python variables"
   ]
  },
  {
   "cell_type": "markdown",
   "id": "bbde7894",
   "metadata": {},
   "source": [
    "### Variables\n",
    "- Variables are containers for storing data values."
   ]
  },
  {
   "cell_type": "markdown",
   "id": "af76bd5f",
   "metadata": {},
   "source": [
    "### Creating Variables\n",
    "- Python has no command for declaring a variable.\n",
    "- A variable is created the moment you first assign a value to it."
   ]
  },
  {
   "cell_type": "code",
   "execution_count": 4,
   "id": "a74c22d0",
   "metadata": {},
   "outputs": [
    {
     "name": "stdout",
     "output_type": "stream",
     "text": [
      "20\n",
      "sandhiya\n"
     ]
    }
   ],
   "source": [
    "a=20 # a is of type int\n",
    "b=\"sandhiya\" # b is of type string\n",
    "print(a)\n",
    "print(b)"
   ]
  },
  {
   "cell_type": "markdown",
   "id": "c5b9967b",
   "metadata": {},
   "source": [
    "##### Type\n",
    "- You can get the data type of a variable with the type() function."
   ]
  },
  {
   "cell_type": "code",
   "execution_count": 6,
   "id": "dd0a1737",
   "metadata": {},
   "outputs": [
    {
     "name": "stdout",
     "output_type": "stream",
     "text": [
      "<class 'int'>\n",
      "<class 'str'>\n"
     ]
    }
   ],
   "source": [
    "x=20\n",
    "y=\"Sandiya\"\n",
    "print(type(x))\n",
    "print(type(y))"
   ]
  },
  {
   "cell_type": "markdown",
   "id": "1e26f75d",
   "metadata": {},
   "source": [
    "## Variable Names\n",
    "- A variable name must start with a letter or the underscore character\n",
    "- A variable name cannot start with a number\n",
    "- A variable name can only contain alpha-numeric characters and underscores (A-z, 0-9, and _ )\n",
    "- Variable names are case-sensitive (age, Age and AGE are three different variables)"
   ]
  },
  {
   "cell_type": "code",
   "execution_count": 8,
   "id": "468e4e66",
   "metadata": {},
   "outputs": [
    {
     "name": "stdout",
     "output_type": "stream",
     "text": [
      "sam\n",
      "sam\n",
      "sam\n",
      "sam\n",
      "sam\n",
      "sam\n"
     ]
    }
   ],
   "source": [
    "myvar = \"sam\" \n",
    "my_var = \"sam\"\n",
    "_my_var = \"sam\"\n",
    "myVar = \"sam\"\n",
    "MYVAR = \"sam\"\n",
    "myvar2 = \"sam\"\n",
    "print(myvar)\n",
    "print(my_var)\n",
    "print(_my_var)\n",
    "print(myVar)\n",
    "print(MYVAR)\n",
    "print(myvar2)"
   ]
  },
  {
   "cell_type": "code",
   "execution_count": null,
   "id": "132c8c0e",
   "metadata": {},
   "outputs": [],
   "source": []
  }
 ],
 "metadata": {
  "kernelspec": {
   "display_name": "Python 3 (ipykernel)",
   "language": "python",
   "name": "python3"
  },
  "language_info": {
   "codemirror_mode": {
    "name": "ipython",
    "version": 3
   },
   "file_extension": ".py",
   "mimetype": "text/x-python",
   "name": "python",
   "nbconvert_exporter": "python",
   "pygments_lexer": "ipython3",
   "version": "3.11.4"
  }
 },
 "nbformat": 4,
 "nbformat_minor": 5
}
