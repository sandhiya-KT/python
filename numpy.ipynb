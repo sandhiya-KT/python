{
 "cells": [
  {
   "cell_type": "markdown",
   "id": "442c7bcc",
   "metadata": {},
   "source": [
    "# Numpy\n",
    "- Numpy is an python library We call it a python library because it supports python syntax.\n",
    "- It stands for numerical python.\n",
    "- Numpy is used to perform advance numerical computations on large data sets.\n",
    "- By using, Numpy we can perform complex operations with less line of code.\n",
    "- Numpy provides very useful Data-structure known as Array."
   ]
  },
  {
   "cell_type": "markdown",
   "id": "583ad287",
   "metadata": {},
   "source": [
    "### How to import Numpy ?"
   ]
  },
  {
   "cell_type": "code",
   "execution_count": 3,
   "id": "44781f5d",
   "metadata": {},
   "outputs": [],
   "source": [
    "import numpy as np"
   ]
  },
  {
   "cell_type": "code",
   "execution_count": 3,
   "id": "a2317635",
   "metadata": {},
   "outputs": [
    {
     "name": "stdout",
     "output_type": "stream",
     "text": [
      "[1 2 3 4 5] <class 'numpy.ndarray'>\n"
     ]
    }
   ],
   "source": [
    "arr = np.array([1,2,3,4,5])\n",
    "print(arr , type(arr))"
   ]
  },
  {
   "cell_type": "code",
   "execution_count": 4,
   "id": "e397696a",
   "metadata": {},
   "outputs": [
    {
     "name": "stdout",
     "output_type": "stream",
     "text": [
      "['lavish' 'gangwani' 23 2.0] <class 'numpy.ndarray'>\n"
     ]
    }
   ],
   "source": [
    "lavish = np.array([\"lavish\",\"gangwani\",23,2.0] , dtype = 'object')\n",
    "print(lavish , type(lavish))"
   ]
  },
  {
   "cell_type": "code",
   "execution_count": 5,
   "id": "ae8d87ad",
   "metadata": {},
   "outputs": [
    {
     "data": {
      "text/plain": [
       "array(['lavish', 'gangwani', 23, 2.0], dtype=object)"
      ]
     },
     "execution_count": 5,
     "metadata": {},
     "output_type": "execute_result"
    }
   ],
   "source": [
    "lavish"
   ]
  },
  {
   "cell_type": "code",
   "execution_count": 6,
   "id": "5678e765",
   "metadata": {},
   "outputs": [
    {
     "data": {
      "text/plain": [
       "array(['1', '2', '3', '45'], dtype='<U11')"
      ]
     },
     "execution_count": 6,
     "metadata": {},
     "output_type": "execute_result"
    }
   ],
   "source": [
    "a= np.array([1,2,3,\"45\"])\n",
    "a"
   ]
  },
  {
   "cell_type": "code",
   "execution_count": 7,
   "id": "352b63f0",
   "metadata": {},
   "outputs": [
    {
     "data": {
      "text/plain": [
       "array([1, 2, 3, '45'], dtype=object)"
      ]
     },
     "execution_count": 7,
     "metadata": {},
     "output_type": "execute_result"
    }
   ],
   "source": [
    "a=np.array([1,2,3,\"45\"], dtype='object')\n",
    "a"
   ]
  },
  {
   "cell_type": "markdown",
   "id": "7ff7e7db",
   "metadata": {},
   "source": [
    "### To Check the Version of your Numpy Library:"
   ]
  },
  {
   "cell_type": "code",
   "execution_count": 8,
   "id": "8d823c79",
   "metadata": {},
   "outputs": [
    {
     "data": {
      "text/plain": [
       "'1.24.3'"
      ]
     },
     "execution_count": 8,
     "metadata": {},
     "output_type": "execute_result"
    }
   ],
   "source": [
    "np.__version__"
   ]
  },
  {
   "cell_type": "markdown",
   "id": "7c2c8894",
   "metadata": {},
   "source": [
    "## ARRAY :\n",
    "- It is an collection of Homogenous data.\n",
    "   -  Example : np.array([1,2,3,4,5])\n",
    "- As you can see all are in integer datatype."
   ]
  },
  {
   "cell_type": "code",
   "execution_count": 9,
   "id": "df6f0581",
   "metadata": {},
   "outputs": [
    {
     "name": "stdout",
     "output_type": "stream",
     "text": [
      "[1 2 3 4 5 6 7 8] <class 'numpy.ndarray'>\n"
     ]
    }
   ],
   "source": [
    "arr = np.array([1,2,3,4,5,6,7,8])\n",
    "print(arr , type(arr))"
   ]
  },
  {
   "cell_type": "markdown",
   "id": "a3d40ce3",
   "metadata": {},
   "source": [
    "### List va Array:\n",
    "- With array we can perform some operations which we can't perform with lists.\n",
    "- Array are way faster than list.\n",
    "- Which list if we have to print a range of make changes in the range then we have to write whole line of code.\n",
    "- But with array we can simply do it."
   ]
  },
  {
   "cell_type": "code",
   "execution_count": 10,
   "id": "58fb6216",
   "metadata": {},
   "outputs": [
    {
     "name": "stdout",
     "output_type": "stream",
     "text": [
      "[1, 2, 3, 4, 5, 6, 7, 8, 9, 10, 11]\n"
     ]
    }
   ],
   "source": [
    "lst=[i for i in range(1,12)]\n",
    "print(lst)"
   ]
  },
  {
   "cell_type": "code",
   "execution_count": 11,
   "id": "258347b7",
   "metadata": {},
   "outputs": [
    {
     "name": "stdout",
     "output_type": "stream",
     "text": [
      "[1, 2, 3, 4, 5, 6, 7, 8, 9, 10, 11, 1, 2, 3, 4, 5, 6, 7, 8, 9, 10, 11, 1, 2, 3, 4, 5, 6, 7, 8, 9, 10, 11, 1, 2, 3, 4, 5, 6, 7, 8, 9, 10, 11, 1, 2, 3, 4, 5, 6, 7, 8, 9, 10, 11]\n"
     ]
    }
   ],
   "source": [
    "print(lst*5)"
   ]
  },
  {
   "cell_type": "code",
   "execution_count": 12,
   "id": "fb30f24d",
   "metadata": {},
   "outputs": [
    {
     "name": "stdout",
     "output_type": "stream",
     "text": [
      "[5, 10, 15, 20, 25, 30, 35, 40, 45, 50]\n"
     ]
    }
   ],
   "source": [
    "# Multiply all the elements by 5.\n",
    "lst=[i*5 for i in range(1,11)]\n",
    "print(lst)"
   ]
  },
  {
   "cell_type": "code",
   "execution_count": 13,
   "id": "77b8fcb6",
   "metadata": {},
   "outputs": [
    {
     "data": {
      "text/plain": [
       "array([ 5, 10, 15, 20, 25, 30, 35, 40, 45, 50])"
      ]
     },
     "execution_count": 13,
     "metadata": {},
     "output_type": "execute_result"
    }
   ],
   "source": [
    "arr=np.array(lst)\n",
    "arr"
   ]
  },
  {
   "cell_type": "code",
   "execution_count": 14,
   "id": "edc3d2d2",
   "metadata": {},
   "outputs": [
    {
     "data": {
      "text/plain": [
       "array([ 25,  50,  75, 100, 125, 150, 175, 200, 225, 250])"
      ]
     },
     "execution_count": 14,
     "metadata": {},
     "output_type": "execute_result"
    }
   ],
   "source": [
    "arr*5\n"
   ]
  },
  {
   "cell_type": "code",
   "execution_count": 15,
   "id": "2af84e22",
   "metadata": {},
   "outputs": [
    {
     "data": {
      "text/plain": [
       "array([ 35,  70, 105, 140, 175, 210, 245, 280, 315, 350])"
      ]
     },
     "execution_count": 15,
     "metadata": {},
     "output_type": "execute_result"
    }
   ],
   "source": [
    "arr*7"
   ]
  },
  {
   "cell_type": "markdown",
   "id": "e3901868",
   "metadata": {},
   "source": [
    "#### Why Arays are faster than list:\n",
    "- On list we can perform some operations.\n",
    "- list make proccess slow.\n",
    "- Array uses vectorisation method by using array broadcasting which make array was faster.\n",
    "- List contains heterogenous data elements.\n",
    "- Array contains of homogenous data elements.\n",
    "- As Lists have Heterogenous data elements it has to store each element seprately by which\n",
    "- As Lists have Heterogenous data elements it has to store each element seprately by which it makes proccess slow.\n",
    "- As with Array have homogenous data elements so it cannot have to store elements seprately."
   ]
  },
  {
   "cell_type": "markdown",
   "id": "12035a94",
   "metadata": {},
   "source": [
    "### int < float < complex < string < object"
   ]
  },
  {
   "cell_type": "code",
   "execution_count": 16,
   "id": "cf79667c",
   "metadata": {},
   "outputs": [
    {
     "data": {
      "text/plain": [
       "array([1, 2, 3, 4, 5, 6])"
      ]
     },
     "execution_count": 16,
     "metadata": {},
     "output_type": "execute_result"
    }
   ],
   "source": [
    "arr=np.array([1,2,3,4,5,6]) # intger\n",
    "arr"
   ]
  },
  {
   "cell_type": "code",
   "execution_count": 17,
   "id": "2a690486",
   "metadata": {},
   "outputs": [
    {
     "data": {
      "text/plain": [
       "array([1., 2., 3., 4., 5.])"
      ]
     },
     "execution_count": 17,
     "metadata": {},
     "output_type": "execute_result"
    }
   ],
   "source": [
    "arr=np.array([1,2.0,3,4,5]) #float\n",
    "arr"
   ]
  },
  {
   "cell_type": "code",
   "execution_count": 18,
   "id": "6e22b733",
   "metadata": {},
   "outputs": [
    {
     "data": {
      "text/plain": [
       "array([1.+0.j, 2.+0.j, 3.+2.j, 4.+0.j, 5.+0.j, 6.+0.j])"
      ]
     },
     "execution_count": 18,
     "metadata": {},
     "output_type": "execute_result"
    }
   ],
   "source": [
    "arr=np.array([1,2,3+2j,4,5,6]) # complex\n",
    "arr"
   ]
  },
  {
   "cell_type": "code",
   "execution_count": 19,
   "id": "903da1e2",
   "metadata": {},
   "outputs": [
    {
     "data": {
      "text/plain": [
       "array(['1', '2', '3', '4', '5', '6'], dtype='<U11')"
      ]
     },
     "execution_count": 19,
     "metadata": {},
     "output_type": "execute_result"
    }
   ],
   "source": [
    "arr = np.array([1,2,3,4,'5',6]) # string\n",
    "arr"
   ]
  },
  {
   "cell_type": "code",
   "execution_count": 20,
   "id": "14bba74a",
   "metadata": {},
   "outputs": [
    {
     "data": {
      "text/plain": [
       "array([1, 2.0, (3+4j), '4', 5], dtype=object)"
      ]
     },
     "execution_count": 20,
     "metadata": {},
     "output_type": "execute_result"
    }
   ],
   "source": [
    "arr= np.array([1,2.0,3+4j,'4',5],dtype='object') # object\n",
    "arr"
   ]
  },
  {
   "cell_type": "code",
   "execution_count": 21,
   "id": "b80e96bf",
   "metadata": {},
   "outputs": [
    {
     "data": {
      "text/plain": [
       "dtype('O')"
      ]
     },
     "execution_count": 21,
     "metadata": {},
     "output_type": "execute_result"
    }
   ],
   "source": [
    "arr.dtype"
   ]
  },
  {
   "cell_type": "markdown",
   "id": "87b25fe6",
   "metadata": {},
   "source": [
    "### Create Different kinds of array :\n",
    "###### np.arange()\n",
    "   - It creates an array of numbers.\n",
    "- Syntax - np.arange(start , stop , step)\n",
    "    - start - inclusive (0 By default)\n",
    "    - stop - exclusive\n",
    "    - step_size = 1 (By default)"
   ]
  },
  {
   "cell_type": "code",
   "execution_count": 22,
   "id": "81b0b15d",
   "metadata": {},
   "outputs": [
    {
     "data": {
      "text/plain": [
       "array([ 1,  2,  3,  4,  5,  6,  7,  8,  9, 10, 11, 12, 13, 14, 15, 16, 17,\n",
       "       18, 19])"
      ]
     },
     "execution_count": 22,
     "metadata": {},
     "output_type": "execute_result"
    }
   ],
   "source": [
    "arr=np.arange(1,20,1)\n",
    "arr"
   ]
  },
  {
   "cell_type": "code",
   "execution_count": 4,
   "id": "c1182f3d",
   "metadata": {},
   "outputs": [
    {
     "data": {
      "text/plain": [
       "array([1, 3, 5, 7, 9])"
      ]
     },
     "execution_count": 4,
     "metadata": {},
     "output_type": "execute_result"
    }
   ],
   "source": [
    "arr1=np.arange(1,10,2)\n",
    "arr1"
   ]
  },
  {
   "cell_type": "code",
   "execution_count": 23,
   "id": "c3c7a2fb",
   "metadata": {},
   "outputs": [
    {
     "data": {
      "text/plain": [
       "array([ 1,  2,  3,  4,  5,  6,  7,  8,  9, 10])"
      ]
     },
     "execution_count": 23,
     "metadata": {},
     "output_type": "execute_result"
    }
   ],
   "source": [
    "arr=np.arange(1,11)\n",
    "arr"
   ]
  },
  {
   "cell_type": "code",
   "execution_count": 24,
   "id": "14899725",
   "metadata": {},
   "outputs": [
    {
     "data": {
      "text/plain": [
       "array([ 0,  1,  2,  3,  4,  5,  6,  7,  8,  9, 10])"
      ]
     },
     "execution_count": 24,
     "metadata": {},
     "output_type": "execute_result"
    }
   ],
   "source": [
    "arr=np.arange(11)\n",
    "arr"
   ]
  },
  {
   "cell_type": "code",
   "execution_count": 5,
   "id": "040eecff",
   "metadata": {},
   "outputs": [
    {
     "data": {
      "text/plain": [
       "array([ 0,  1,  2,  3,  4,  5,  6,  7,  8,  9, 10, 11])"
      ]
     },
     "execution_count": 5,
     "metadata": {},
     "output_type": "execute_result"
    }
   ],
   "source": [
    "arr1=np.arange(12)\n",
    "arr1"
   ]
  },
  {
   "cell_type": "code",
   "execution_count": 13,
   "id": "1291948b",
   "metadata": {},
   "outputs": [
    {
     "data": {
      "text/plain": [
       "array([], dtype=int32)"
      ]
     },
     "execution_count": 13,
     "metadata": {},
     "output_type": "execute_result"
    }
   ],
   "source": [
    "arr1=np.arange(5,len(arr1))\n",
    "arr1"
   ]
  },
  {
   "cell_type": "code",
   "execution_count": 7,
   "id": "bc6cd246",
   "metadata": {},
   "outputs": [
    {
     "data": {
      "text/plain": [
       "array([ 1,  4,  9, 16, 25, 36, 49, 64, 81])"
      ]
     },
     "execution_count": 7,
     "metadata": {},
     "output_type": "execute_result"
    }
   ],
   "source": [
    "lst=[i for i in range(1,11)]\n",
    "arr=np.arange(1,len(lst))\n",
    "arr**2"
   ]
  },
  {
   "cell_type": "code",
   "execution_count": 26,
   "id": "ea04e899",
   "metadata": {},
   "outputs": [
    {
     "data": {
      "text/plain": [
       "array([1, 8, 27, 64, 125, 216, 343, 512, 729], dtype=object)"
      ]
     },
     "execution_count": 26,
     "metadata": {},
     "output_type": "execute_result"
    }
   ],
   "source": [
    "lst = [i for i in range(1,11)]\n",
    "arr = np.arange(1,len(lst),dtype = 'object')\n",
    "arr**3"
   ]
  },
  {
   "cell_type": "markdown",
   "id": "82d5c0b8",
   "metadata": {},
   "source": [
    "### np.linspace()\n",
    "- It creates an array of equally spaced values within the range of values.\n",
    "- Syntax -\n",
    "    - np.linspace(start , stop , Number of values you want within it)\n",
    "    - By default, in linspace both the start and stop values are included\n",
    "    - By default, linspace will return the answer in float"
   ]
  },
  {
   "cell_type": "code",
   "execution_count": 18,
   "id": "3facbffb",
   "metadata": {},
   "outputs": [
    {
     "data": {
      "text/plain": [
       "array([2.        , 2.15789474, 2.31578947, 2.47368421, 2.63157895,\n",
       "       2.78947368, 2.94736842, 3.10526316, 3.26315789, 3.42105263,\n",
       "       3.57894737, 3.73684211, 3.89473684, 4.05263158, 4.21052632,\n",
       "       4.36842105, 4.52631579, 4.68421053, 4.84210526, 5.        ])"
      ]
     },
     "execution_count": 18,
     "metadata": {},
     "output_type": "execute_result"
    }
   ],
   "source": [
    "arr = np.linspace(2,5,20)\n",
    "arr"
   ]
  },
  {
   "cell_type": "code",
   "execution_count": 23,
   "id": "f19c4399",
   "metadata": {},
   "outputs": [
    {
     "data": {
      "text/plain": [
       "array([ 5.  ,  9.25, 13.5 , 17.75, 22.  ])"
      ]
     },
     "execution_count": 23,
     "metadata": {},
     "output_type": "execute_result"
    }
   ],
   "source": [
    "arr1=np.linspace(5,22,5)\n",
    "arr1"
   ]
  },
  {
   "cell_type": "code",
   "execution_count": 28,
   "id": "81f81d7c",
   "metadata": {},
   "outputs": [
    {
     "data": {
      "text/plain": [
       "array([2.        , 2.33333333, 2.66666667, 3.        , 3.33333333,\n",
       "       3.66666667, 4.        , 4.33333333, 4.66666667, 5.        ])"
      ]
     },
     "execution_count": 28,
     "metadata": {},
     "output_type": "execute_result"
    }
   ],
   "source": [
    "arr = np.linspace(2,5,10)\n",
    "arr"
   ]
  },
  {
   "cell_type": "code",
   "execution_count": 29,
   "id": "9087e26a",
   "metadata": {},
   "outputs": [
    {
     "data": {
      "text/plain": [
       "array([ 1.        ,  1.42857143,  1.85714286,  2.28571429,  2.71428571,\n",
       "        3.14285714,  3.57142857,  4.        ,  4.42857143,  4.85714286,\n",
       "        5.28571429,  5.71428571,  6.14285714,  6.57142857,  7.        ,\n",
       "        7.42857143,  7.85714286,  8.28571429,  8.71428571,  9.14285714,\n",
       "        9.57142857, 10.        , 10.42857143, 10.85714286, 11.28571429,\n",
       "       11.71428571, 12.14285714, 12.57142857, 13.        , 13.42857143,\n",
       "       13.85714286, 14.28571429, 14.71428571, 15.14285714, 15.57142857,\n",
       "       16.        , 16.42857143, 16.85714286, 17.28571429, 17.71428571,\n",
       "       18.14285714, 18.57142857, 19.        , 19.42857143, 19.85714286,\n",
       "       20.28571429, 20.71428571, 21.14285714, 21.57142857, 22.        ])"
      ]
     },
     "execution_count": 29,
     "metadata": {},
     "output_type": "execute_result"
    }
   ],
   "source": [
    "arr = np.linspace(1,22,50)\n",
    "arr"
   ]
  },
  {
   "cell_type": "markdown",
   "id": "bae38425",
   "metadata": {},
   "source": [
    "### np.zeros()\n",
    "- It will return an array of the given shape with all the elements of the array as zero.\n",
    "- Syntax\n",
    "   - np.zeros((rows,columns))\n",
    "   - By default it will return object in float datatype"
   ]
  },
  {
   "cell_type": "code",
   "execution_count": 30,
   "id": "e8d6293f",
   "metadata": {},
   "outputs": [
    {
     "data": {
      "text/plain": [
       "array([[0., 0., 0.],\n",
       "       [0., 0., 0.],\n",
       "       [0., 0., 0.]])"
      ]
     },
     "execution_count": 30,
     "metadata": {},
     "output_type": "execute_result"
    }
   ],
   "source": [
    "np.zeros((3,3))"
   ]
  },
  {
   "cell_type": "code",
   "execution_count": 31,
   "id": "c002987e",
   "metadata": {},
   "outputs": [
    {
     "data": {
      "text/plain": [
       "array([[0., 0., 0., 0.],\n",
       "       [0., 0., 0., 0.],\n",
       "       [0., 0., 0., 0.]])"
      ]
     },
     "execution_count": 31,
     "metadata": {},
     "output_type": "execute_result"
    }
   ],
   "source": [
    "np.zeros((3,4))"
   ]
  },
  {
   "cell_type": "code",
   "execution_count": 33,
   "id": "08626701",
   "metadata": {},
   "outputs": [
    {
     "name": "stdout",
     "output_type": "stream",
     "text": [
      "[[0. 0. 0. 0. 0. 0.]\n",
      " [0. 0. 0. 0. 0. 0.]\n",
      " [0. 0. 0. 0. 0. 0.]\n",
      " [0. 0. 0. 0. 0. 0.]\n",
      " [0. 0. 0. 0. 0. 0.]\n",
      " [0. 0. 0. 0. 0. 0.]]\n"
     ]
    }
   ],
   "source": [
    "arr = np.zeros((6, 6))\n",
    "print(arr)"
   ]
  },
  {
   "cell_type": "code",
   "execution_count": 35,
   "id": "aa480ee1",
   "metadata": {},
   "outputs": [
    {
     "data": {
      "text/plain": [
       "array([[[0., 0., 0., 0., 0., 0.],\n",
       "        [0., 0., 0., 0., 0., 0.],\n",
       "        [0., 0., 0., 0., 0., 0.]],\n",
       "\n",
       "       [[0., 0., 0., 0., 0., 0.],\n",
       "        [0., 0., 0., 0., 0., 0.],\n",
       "        [0., 0., 0., 0., 0., 0.]],\n",
       "\n",
       "       [[0., 0., 0., 0., 0., 0.],\n",
       "        [0., 0., 0., 0., 0., 0.],\n",
       "        [0., 0., 0., 0., 0., 0.]],\n",
       "\n",
       "       [[0., 0., 0., 0., 0., 0.],\n",
       "        [0., 0., 0., 0., 0., 0.],\n",
       "        [0., 0., 0., 0., 0., 0.]]])"
      ]
     },
     "execution_count": 35,
     "metadata": {},
     "output_type": "execute_result"
    }
   ],
   "source": [
    "np.zeros((4,3,6))\n"
   ]
  },
  {
   "cell_type": "code",
   "execution_count": 34,
   "id": "1c04a265",
   "metadata": {},
   "outputs": [
    {
     "data": {
      "text/plain": [
       "array([[[0, 0, 0, 0, 0, 0],\n",
       "        [0, 0, 0, 0, 0, 0],\n",
       "        [0, 0, 0, 0, 0, 0],\n",
       "        [0, 0, 0, 0, 0, 0]],\n",
       "\n",
       "       [[0, 0, 0, 0, 0, 0],\n",
       "        [0, 0, 0, 0, 0, 0],\n",
       "        [0, 0, 0, 0, 0, 0],\n",
       "        [0, 0, 0, 0, 0, 0]],\n",
       "\n",
       "       [[0, 0, 0, 0, 0, 0],\n",
       "        [0, 0, 0, 0, 0, 0],\n",
       "        [0, 0, 0, 0, 0, 0],\n",
       "        [0, 0, 0, 0, 0, 0]]])"
      ]
     },
     "execution_count": 34,
     "metadata": {},
     "output_type": "execute_result"
    }
   ],
   "source": [
    "np.zeros((3,4,6), dtype = 'int')"
   ]
  },
  {
   "cell_type": "markdown",
   "id": "ac4741d3",
   "metadata": {},
   "source": [
    "### np.ones()\n",
    "- It will return an array of the given shape with all the elements of the array as 1\n",
    "- Syntax\n",
    "   - np.ones((rows , columns))\n",
    " - By default it will return the object in float datatype."
   ]
  },
  {
   "cell_type": "code",
   "execution_count": 35,
   "id": "8bd72091",
   "metadata": {},
   "outputs": [
    {
     "data": {
      "text/plain": [
       "array([[1., 1., 1.],\n",
       "       [1., 1., 1.],\n",
       "       [1., 1., 1.]])"
      ]
     },
     "execution_count": 35,
     "metadata": {},
     "output_type": "execute_result"
    }
   ],
   "source": [
    "np.ones((3,3))"
   ]
  },
  {
   "cell_type": "code",
   "execution_count": 36,
   "id": "8f6faac1",
   "metadata": {},
   "outputs": [
    {
     "name": "stdout",
     "output_type": "stream",
     "text": [
      "[1. 1. 1. 1. 1. 1.]\n"
     ]
    }
   ],
   "source": [
    "arr = np.ones((6, ))\n",
    "print(arr)"
   ]
  },
  {
   "cell_type": "code",
   "execution_count": 37,
   "id": "26a72d49",
   "metadata": {},
   "outputs": [
    {
     "name": "stdout",
     "output_type": "stream",
     "text": [
      "[[1 1 1 1 1]\n",
      " [1 1 1 1 1]\n",
      " [1 1 1 1 1]\n",
      " [1 1 1 1 1]\n",
      " [1 1 1 1 1]\n",
      " [1 1 1 1 1]]\n"
     ]
    }
   ],
   "source": [
    "arr1 = np.ones((6, 5), dtype = int)\n",
    "print(arr1)"
   ]
  },
  {
   "cell_type": "code",
   "execution_count": 38,
   "id": "afbe9bc8",
   "metadata": {},
   "outputs": [
    {
     "data": {
      "text/plain": [
       "array([[[1, 1, 1, 1, 1, 1],\n",
       "        [1, 1, 1, 1, 1, 1],\n",
       "        [1, 1, 1, 1, 1, 1],\n",
       "        [1, 1, 1, 1, 1, 1]],\n",
       "\n",
       "       [[1, 1, 1, 1, 1, 1],\n",
       "        [1, 1, 1, 1, 1, 1],\n",
       "        [1, 1, 1, 1, 1, 1],\n",
       "        [1, 1, 1, 1, 1, 1]],\n",
       "\n",
       "       [[1, 1, 1, 1, 1, 1],\n",
       "        [1, 1, 1, 1, 1, 1],\n",
       "        [1, 1, 1, 1, 1, 1],\n",
       "        [1, 1, 1, 1, 1, 1]]])"
      ]
     },
     "execution_count": 38,
     "metadata": {},
     "output_type": "execute_result"
    }
   ],
   "source": [
    "np.ones((3,4,6), dtype ='int')"
   ]
  },
  {
   "cell_type": "code",
   "execution_count": 39,
   "id": "53d7f8d2",
   "metadata": {},
   "outputs": [
    {
     "data": {
      "text/plain": [
       "array([[1., 1., 1., 1.],\n",
       "       [1., 1., 1., 1.],\n",
       "       [1., 1., 1., 1.]])"
      ]
     },
     "execution_count": 39,
     "metadata": {},
     "output_type": "execute_result"
    }
   ],
   "source": [
    "    np.ones((3,4))"
   ]
  },
  {
   "cell_type": "markdown",
   "id": "60adbdcb",
   "metadata": {},
   "source": [
    "### np.full()\n",
    "- It will return an array of the given shape with all the elements of the array as value you have\n",
    "entered.\n",
    "- Syntax\n",
    "   - np.full((rows , columns), values)\n",
    "   - By default it will return the object in float datatype."
   ]
  },
  {
   "cell_type": "code",
   "execution_count": 40,
   "id": "0204ef91",
   "metadata": {},
   "outputs": [
    {
     "data": {
      "text/plain": [
       "array([[22, 22, 22],\n",
       "       [22, 22, 22],\n",
       "       [22, 22, 22]])"
      ]
     },
     "execution_count": 40,
     "metadata": {},
     "output_type": "execute_result"
    }
   ],
   "source": [
    "np.full((3,3) , 22)"
   ]
  },
  {
   "cell_type": "code",
   "execution_count": 41,
   "id": "1f94dab9",
   "metadata": {},
   "outputs": [
    {
     "data": {
      "text/plain": [
       "array([['lavish', 'lavish', 'lavish', 'lavish'],\n",
       "       ['lavish', 'lavish', 'lavish', 'lavish'],\n",
       "       ['lavish', 'lavish', 'lavish', 'lavish']], dtype=object)"
      ]
     },
     "execution_count": 41,
     "metadata": {},
     "output_type": "execute_result"
    }
   ],
   "source": [
    "    np.full((3,4) ,\"lavish\", dtype = 'object')"
   ]
  },
  {
   "cell_type": "markdown",
   "id": "d72073fb",
   "metadata": {},
   "source": [
    "####  AS you can see in above code np.full is used for creating an specific numbers array as you can first we have to give rows and columns and then value we have to put it in."
   ]
  },
  {
   "cell_type": "code",
   "execution_count": 42,
   "id": "057c02f4",
   "metadata": {},
   "outputs": [
    {
     "data": {
      "text/plain": [
       "array([[2.2, 2.2, 2.2, 2.2],\n",
       "       [2.2, 2.2, 2.2, 2.2],\n",
       "       [2.2, 2.2, 2.2, 2.2]])"
      ]
     },
     "execution_count": 42,
     "metadata": {},
     "output_type": "execute_result"
    }
   ],
   "source": [
    "np.full((3,4) , 2.2)"
   ]
  },
  {
   "cell_type": "code",
   "execution_count": 38,
   "id": "817f6cdf",
   "metadata": {},
   "outputs": [
    {
     "data": {
      "text/plain": [
       "array([['sandhiya', 'sandhiya', 'sandhiya'],\n",
       "       ['sandhiya', 'sandhiya', 'sandhiya'],\n",
       "       ['sandhiya', 'sandhiya', 'sandhiya'],\n",
       "       ['sandhiya', 'sandhiya', 'sandhiya'],\n",
       "       ['sandhiya', 'sandhiya', 'sandhiya']], dtype=object)"
      ]
     },
     "execution_count": 38,
     "metadata": {},
     "output_type": "execute_result"
    }
   ],
   "source": [
    "np.full((5,3),'sandhiya', dtype=\"object\")"
   ]
  },
  {
   "cell_type": "code",
   "execution_count": 43,
   "id": "ec268db5",
   "metadata": {},
   "outputs": [
    {
     "data": {
      "text/plain": [
       "array([[(2+32j), (2+32j), (2+32j), (2+32j)],\n",
       "       [(2+32j), (2+32j), (2+32j), (2+32j)],\n",
       "       [(2+32j), (2+32j), (2+32j), (2+32j)]], dtype=object)"
      ]
     },
     "execution_count": 43,
     "metadata": {},
     "output_type": "execute_result"
    }
   ],
   "source": [
    "np.full((3,4) , 2+32j , dtype = 'object')"
   ]
  },
  {
   "cell_type": "markdown",
   "id": "7934db96",
   "metadata": {},
   "source": [
    "###  np.eye()\n",
    "- It will return an identity matrix\n",
    "- In an identity matrix, the diagonal elements are 1's and the non diagonal elements are 0's\n",
    "- By default, the values will be in float\n",
    "  - Syntax :\n",
    "    - np.eye(rows , columns)"
   ]
  },
  {
   "cell_type": "code",
   "execution_count": 44,
   "id": "0fd282d8",
   "metadata": {},
   "outputs": [
    {
     "data": {
      "text/plain": [
       "array([[1., 0., 0., 0., 0.],\n",
       "       [0., 1., 0., 0., 0.],\n",
       "       [0., 0., 1., 0., 0.],\n",
       "       [0., 0., 0., 1., 0.]])"
      ]
     },
     "execution_count": 44,
     "metadata": {},
     "output_type": "execute_result"
    }
   ],
   "source": [
    "np.eye(4,5)"
   ]
  },
  {
   "cell_type": "code",
   "execution_count": 39,
   "id": "5d9760a2",
   "metadata": {},
   "outputs": [
    {
     "data": {
      "text/plain": [
       "array([[1., 0., 0.],\n",
       "       [0., 1., 0.],\n",
       "       [0., 0., 1.]])"
      ]
     },
     "execution_count": 39,
     "metadata": {},
     "output_type": "execute_result"
    }
   ],
   "source": [
    "np.eye(3,3)"
   ]
  },
  {
   "cell_type": "code",
   "execution_count": 45,
   "id": "8959edfb",
   "metadata": {},
   "outputs": [
    {
     "data": {
      "text/plain": [
       "array([[0, 0, 0, 0],\n",
       "       [0, 0, 0, 0],\n",
       "       [0, 0, 0, 0]])"
      ]
     },
     "execution_count": 45,
     "metadata": {},
     "output_type": "execute_result"
    }
   ],
   "source": [
    "np.eye(3,4,6, dtype= 'int')"
   ]
  },
  {
   "cell_type": "markdown",
   "id": "4b3b6013",
   "metadata": {},
   "source": [
    "#### As you can see in upper code I've given 3 values it is giving all in 0's not giving diagonals of 1's in it."
   ]
  },
  {
   "cell_type": "code",
   "execution_count": 41,
   "id": "d9cd934c",
   "metadata": {},
   "outputs": [
    {
     "data": {
      "text/plain": [
       "array([[0, 0, 0, 0],\n",
       "       [0, 0, 0, 0],\n",
       "       [0, 0, 0, 0],\n",
       "       [0, 0, 0, 0]])"
      ]
     },
     "execution_count": 41,
     "metadata": {},
     "output_type": "execute_result"
    }
   ],
   "source": [
    "np.eye(4,4,5, dtype= 'int')"
   ]
  },
  {
   "cell_type": "markdown",
   "id": "e2503e1e",
   "metadata": {},
   "source": [
    "### np.zeros_like()\n",
    "- It returns an array of 0's of the given shape of another array"
   ]
  },
  {
   "cell_type": "code",
   "execution_count": 45,
   "id": "9bb613ea",
   "metadata": {},
   "outputs": [
    {
     "data": {
      "text/plain": [
       "array([[1, 2, 3, 4],\n",
       "       [2, 3, 4, 5],\n",
       "       [5, 6, 7, 8]])"
      ]
     },
     "execution_count": 45,
     "metadata": {},
     "output_type": "execute_result"
    }
   ],
   "source": [
    "arr = np.array([[1,2,3,4],[2,3,4,5],[5,6,7,8]])\n",
    "arr"
   ]
  },
  {
   "cell_type": "code",
   "execution_count": 46,
   "id": "88ca766f",
   "metadata": {},
   "outputs": [
    {
     "data": {
      "text/plain": [
       "array([[0, 0, 0, 0],\n",
       "       [0, 0, 0, 0],\n",
       "       [0, 0, 0, 0]])"
      ]
     },
     "execution_count": 46,
     "metadata": {},
     "output_type": "execute_result"
    }
   ],
   "source": [
    "np.zeros_like(arr)"
   ]
  },
  {
   "cell_type": "markdown",
   "id": "d69f21a1",
   "metadata": {},
   "source": [
    "###  np.full_like()\n",
    "- it will return an array of the given shape with all the elements of the array as values you have entered."
   ]
  },
  {
   "cell_type": "code",
   "execution_count": 47,
   "id": "f2595709",
   "metadata": {},
   "outputs": [
    {
     "data": {
      "text/plain": [
       "array([[1, 2, 3, 4],\n",
       "       [2, 3, 4, 5],\n",
       "       [5, 6, 7, 8]])"
      ]
     },
     "execution_count": 47,
     "metadata": {},
     "output_type": "execute_result"
    }
   ],
   "source": [
    "arr"
   ]
  },
  {
   "cell_type": "code",
   "execution_count": 48,
   "id": "14d47fc7",
   "metadata": {},
   "outputs": [
    {
     "data": {
      "text/plain": [
       "array([[22, 22, 22, 22],\n",
       "       [22, 22, 22, 22],\n",
       "       [22, 22, 22, 22]])"
      ]
     },
     "execution_count": 48,
     "metadata": {},
     "output_type": "execute_result"
    }
   ],
   "source": [
    "np.full_like(arr,22)"
   ]
  },
  {
   "cell_type": "code",
   "execution_count": 49,
   "id": "a56c1db4",
   "metadata": {},
   "outputs": [
    {
     "data": {
      "text/plain": [
       "array([[1, 2, 3, 4],\n",
       "       [2, 3, 4, 5],\n",
       "       [5, 6, 7, 8]])"
      ]
     },
     "execution_count": 49,
     "metadata": {},
     "output_type": "execute_result"
    }
   ],
   "source": [
    "arr"
   ]
  },
  {
   "cell_type": "code",
   "execution_count": 50,
   "id": "3e255255",
   "metadata": {},
   "outputs": [
    {
     "data": {
      "text/plain": [
       "array([[25, 25, 25, 25],\n",
       "       [25, 25, 25, 25],\n",
       "       [25, 25, 25, 25]])"
      ]
     },
     "execution_count": 50,
     "metadata": {},
     "output_type": "execute_result"
    }
   ],
   "source": [
    "np.full_like(arr,25)"
   ]
  },
  {
   "cell_type": "markdown",
   "id": "dc071a0d",
   "metadata": {},
   "source": [
    "###  np.diagonal()\n",
    "- it return an array diagonal principal from an array\n",
    "- BY default, function value of offset = 0"
   ]
  },
  {
   "cell_type": "code",
   "execution_count": 53,
   "id": "8572ace2",
   "metadata": {},
   "outputs": [
    {
     "data": {
      "text/plain": [
       "array([ 71, 114,  78,  74,  16,  52,  48,  24, 105,   5,  66,  40,  85,\n",
       "       109,  91,  78,  42,  91,  38,  57,  57,  52,  43, 116,  73])"
      ]
     },
     "execution_count": 53,
     "metadata": {},
     "output_type": "execute_result"
    }
   ],
   "source": [
    "arr = np.random.randint(1,122,25)\n",
    "arr\n"
   ]
  },
  {
   "cell_type": "code",
   "execution_count": 54,
   "id": "6ac3d6f2",
   "metadata": {},
   "outputs": [
    {
     "data": {
      "text/plain": [
       "array([[ 71, 114,  78,  74,  16],\n",
       "       [ 52,  48,  24, 105,   5],\n",
       "       [ 66,  40,  85, 109,  91],\n",
       "       [ 78,  42,  91,  38,  57],\n",
       "       [ 57,  52,  43, 116,  73]])"
      ]
     },
     "execution_count": 54,
     "metadata": {},
     "output_type": "execute_result"
    }
   ],
   "source": [
    "arr = arr.reshape(5,5)\n",
    "arr\n"
   ]
  },
  {
   "cell_type": "code",
   "execution_count": 55,
   "id": "5877363a",
   "metadata": {},
   "outputs": [
    {
     "data": {
      "text/plain": [
       "array([71, 48, 85, 38, 73])"
      ]
     },
     "execution_count": 55,
     "metadata": {},
     "output_type": "execute_result"
    }
   ],
   "source": [
    "np.diagonal(arr)"
   ]
  },
  {
   "cell_type": "code",
   "execution_count": 56,
   "id": "59951d89",
   "metadata": {},
   "outputs": [
    {
     "data": {
      "text/plain": [
       "array([114,  24, 109,  57])"
      ]
     },
     "execution_count": 56,
     "metadata": {},
     "output_type": "execute_result"
    }
   ],
   "source": [
    "np.diagonal(arr, offset=1)"
   ]
  },
  {
   "cell_type": "code",
   "execution_count": 57,
   "id": "8ac14fbf",
   "metadata": {},
   "outputs": [
    {
     "data": {
      "text/plain": [
       "array([ 52,  40,  91, 116])"
      ]
     },
     "execution_count": 57,
     "metadata": {},
     "output_type": "execute_result"
    }
   ],
   "source": [
    "np.diagonal(arr, offset=-1)"
   ]
  },
  {
   "cell_type": "code",
   "execution_count": 58,
   "id": "929335d6",
   "metadata": {},
   "outputs": [
    {
     "data": {
      "text/plain": [
       "array([71, 48, 85, 38, 73])"
      ]
     },
     "execution_count": 58,
     "metadata": {},
     "output_type": "execute_result"
    }
   ],
   "source": [
    "np.diagonal(arr, offset=0)"
   ]
  },
  {
   "cell_type": "code",
   "execution_count": 59,
   "id": "45904a8e",
   "metadata": {},
   "outputs": [
    {
     "data": {
      "text/plain": [
       "array([ 78, 105,  91])"
      ]
     },
     "execution_count": 59,
     "metadata": {},
     "output_type": "execute_result"
    }
   ],
   "source": [
    "np.diagonal(arr, offset=2)"
   ]
  },
  {
   "cell_type": "markdown",
   "id": "a414ad24",
   "metadata": {},
   "source": [
    "### np.diag()\n",
    "- It creates an diagonal array.\n",
    "- In a diagonal array, the diagonal elements are non-zero rest every element is zero\n",
    "- Syntax:-\n",
    "   - np.diag([diagonal])"
   ]
  },
  {
   "cell_type": "code",
   "execution_count": 60,
   "id": "f9809258",
   "metadata": {},
   "outputs": [
    {
     "data": {
      "text/plain": [
       "array([[1, 0, 0, 0, 0, 0],\n",
       "       [0, 2, 0, 0, 0, 0],\n",
       "       [0, 0, 3, 0, 0, 0],\n",
       "       [0, 0, 0, 4, 0, 0],\n",
       "       [0, 0, 0, 0, 5, 0],\n",
       "       [0, 0, 0, 0, 0, 6]])"
      ]
     },
     "execution_count": 60,
     "metadata": {},
     "output_type": "execute_result"
    }
   ],
   "source": [
    "arr1=np.diag([1,2,3,4,5,6])\n",
    "arr1"
   ]
  },
  {
   "cell_type": "code",
   "execution_count": 62,
   "id": "34480d70",
   "metadata": {},
   "outputs": [
    {
     "data": {
      "text/plain": [
       "array([[1, 0, 0, 0, 0, 0],\n",
       "       [0, 2, 0, 0, 0, 0],\n",
       "       [0, 0, 3, 0, 0, 0],\n",
       "       [0, 0, 0, 4, 0, 0],\n",
       "       [0, 0, 0, 0, 5, 0],\n",
       "       [0, 0, 0, 0, 0, 6]])"
      ]
     },
     "execution_count": 62,
     "metadata": {},
     "output_type": "execute_result"
    }
   ],
   "source": [
    "arr1.T"
   ]
  },
  {
   "cell_type": "code",
   "execution_count": 61,
   "id": "2730ba4d",
   "metadata": {},
   "outputs": [
    {
     "data": {
      "text/plain": [
       "array([1, 7])"
      ]
     },
     "execution_count": 61,
     "metadata": {},
     "output_type": "execute_result"
    }
   ],
   "source": [
    "arr2 = np.diag([[1,2,3,4,5] , [6,7,89,8,9]])\n",
    "arr2"
   ]
  },
  {
   "cell_type": "code",
   "execution_count": 67,
   "id": "23eb7350",
   "metadata": {},
   "outputs": [
    {
     "data": {
      "text/plain": [
       "array([1, 7])"
      ]
     },
     "execution_count": 67,
     "metadata": {},
     "output_type": "execute_result"
    }
   ],
   "source": [
    "arr2.T"
   ]
  },
  {
   "cell_type": "code",
   "execution_count": 68,
   "id": "f95c6e1f",
   "metadata": {},
   "outputs": [
    {
     "data": {
      "text/plain": [
       "array([1, 5, 9])"
      ]
     },
     "execution_count": 68,
     "metadata": {},
     "output_type": "execute_result"
    }
   ],
   "source": [
    "arr3 = np.diag([[1,2,3] , [4,5,6] , [7,8,9]])\n",
    "arr3"
   ]
  },
  {
   "cell_type": "code",
   "execution_count": 69,
   "id": "715e1413",
   "metadata": {},
   "outputs": [
    {
     "data": {
      "text/plain": [
       "array([1, 5, 9])"
      ]
     },
     "execution_count": 69,
     "metadata": {},
     "output_type": "execute_result"
    }
   ],
   "source": [
    "arr3.T"
   ]
  },
  {
   "cell_type": "code",
   "execution_count": 69,
   "id": "dc527382",
   "metadata": {},
   "outputs": [
    {
     "data": {
      "text/plain": [
       "array([ 5, 12,  4,  9,  6, 18, 16, 16,  7, 13, 13,  5,  4,  8,  1,  4])"
      ]
     },
     "execution_count": 69,
     "metadata": {},
     "output_type": "execute_result"
    }
   ],
   "source": [
    "a = np.random.randint(1,20,16)\n",
    "a"
   ]
  },
  {
   "cell_type": "code",
   "execution_count": 70,
   "id": "90db48d0",
   "metadata": {},
   "outputs": [
    {
     "data": {
      "text/plain": [
       "array([[ 5, 12,  4,  9],\n",
       "       [ 6, 18, 16, 16],\n",
       "       [ 7, 13, 13,  5],\n",
       "       [ 4,  8,  1,  4]])"
      ]
     },
     "execution_count": 70,
     "metadata": {},
     "output_type": "execute_result"
    }
   ],
   "source": [
    "numpyyy = a.reshape(4,4)\n",
    "numpyyy"
   ]
  },
  {
   "cell_type": "code",
   "execution_count": 71,
   "id": "79732bff",
   "metadata": {},
   "outputs": [
    {
     "data": {
      "text/plain": [
       "array([ 5, 18, 13,  4])"
      ]
     },
     "execution_count": 71,
     "metadata": {},
     "output_type": "execute_result"
    }
   ],
   "source": [
    "np.diagonal(numpyyy)"
   ]
  },
  {
   "cell_type": "code",
   "execution_count": 72,
   "id": "d05b649c",
   "metadata": {},
   "outputs": [
    {
     "name": "stdout",
     "output_type": "stream",
     "text": [
      "[ 5 18 13  4]\n",
      "[12 16  5]\n",
      "[ 6 13  1]\n",
      "[ 4 16]\n",
      "[7 8]\n"
     ]
    }
   ],
   "source": [
    "print(np.diagonal(numpyyy, offset=0))\n",
    "print(np.diagonal(numpyyy , offset=1))\n",
    "print(np.diagonal(numpyyy , offset=-1))\n",
    "print(np.diagonal(numpyyy , offset=2))\n",
    "print(np.diagonal(numpyyy , offset=-2))"
   ]
  },
  {
   "cell_type": "code",
   "execution_count": 73,
   "id": "88a741a8",
   "metadata": {},
   "outputs": [
    {
     "data": {
      "text/plain": [
       "array([ 5, 18, 13,  4])"
      ]
     },
     "execution_count": 73,
     "metadata": {},
     "output_type": "execute_result"
    }
   ],
   "source": [
    "np.diag(numpyyy)"
   ]
  },
  {
   "cell_type": "code",
   "execution_count": 74,
   "id": "6a78b058",
   "metadata": {},
   "outputs": [
    {
     "data": {
      "text/plain": [
       "array([[0, 1, 2],\n",
       "       [3, 4, 5],\n",
       "       [6, 7, 8]])"
      ]
     },
     "execution_count": 74,
     "metadata": {},
     "output_type": "execute_result"
    }
   ],
   "source": [
    "x = np.arange(9).reshape(3,3)\n",
    "x"
   ]
  },
  {
   "cell_type": "code",
   "execution_count": 75,
   "id": "29702710",
   "metadata": {},
   "outputs": [
    {
     "name": "stdout",
     "output_type": "stream",
     "text": [
      "[0 4 8]\n",
      "[1 5]\n",
      "[3 7]\n"
     ]
    }
   ],
   "source": [
    "print(np.diag(x))\n",
    "print(np.diag(x, k=1))\n",
    "print(np.diag(x, k=-1))"
   ]
  },
  {
   "cell_type": "markdown",
   "id": "45243fc9",
   "metadata": {},
   "source": [
    "###  np.trace()\n",
    "- it gives the sum of diagonals of array."
   ]
  },
  {
   "cell_type": "code",
   "execution_count": 76,
   "id": "b60d116b",
   "metadata": {},
   "outputs": [
    {
     "data": {
      "text/plain": [
       "array([[ 5, 12,  4,  9],\n",
       "       [ 6, 18, 16, 16],\n",
       "       [ 7, 13, 13,  5],\n",
       "       [ 4,  8,  1,  4]])"
      ]
     },
     "execution_count": 76,
     "metadata": {},
     "output_type": "execute_result"
    }
   ],
   "source": [
    "numpyyy"
   ]
  },
  {
   "cell_type": "code",
   "execution_count": 77,
   "id": "38653660",
   "metadata": {},
   "outputs": [
    {
     "data": {
      "text/plain": [
       "40"
      ]
     },
     "execution_count": 77,
     "metadata": {},
     "output_type": "execute_result"
    }
   ],
   "source": [
    "np.trace(numpyyy) # 10+17+11+8=46"
   ]
  },
  {
   "cell_type": "code",
   "execution_count": 78,
   "id": "59d4c1ca",
   "metadata": {},
   "outputs": [
    {
     "data": {
      "text/plain": [
       "33"
      ]
     },
     "execution_count": 78,
     "metadata": {},
     "output_type": "execute_result"
    }
   ],
   "source": [
    "np.trace(numpyyy,offset=1)"
   ]
  },
  {
   "cell_type": "code",
   "execution_count": 79,
   "id": "d90ba59e",
   "metadata": {},
   "outputs": [
    {
     "data": {
      "text/plain": [
       "array([0.87133995, 0.306108  ])"
      ]
     },
     "execution_count": 79,
     "metadata": {},
     "output_type": "execute_result"
    }
   ],
   "source": [
    "#As you can see it gives values between 0 and 1 whichever value you entered.\n",
    "np.random.rand(2)"
   ]
  },
  {
   "cell_type": "code",
   "execution_count": 80,
   "id": "8e1a67e5",
   "metadata": {},
   "outputs": [
    {
     "data": {
      "text/plain": [
       "array([-1.69414702,  0.07196977, -1.29244494,  0.34368481,  0.96078525,\n",
       "        0.58353268,  0.25872901, -1.2981912 ,  0.96407929, -0.48885233,\n",
       "       -0.49503801, -0.58153507, -0.35013631, -1.13188034,  0.68030172,\n",
       "        0.7927653 ,  1.76306089,  1.65029497,  2.06093593,  1.89024646,\n",
       "        1.24949858])"
      ]
     },
     "execution_count": 80,
     "metadata": {},
     "output_type": "execute_result"
    }
   ],
   "source": [
    "np.random.randn(21)"
   ]
  },
  {
   "cell_type": "markdown",
   "id": "c937a7b4",
   "metadata": {},
   "source": [
    "### Attributes Description\n",
    "- ndim - returns number of dimension of the array\n",
    "- size - returns number of elements in the array\n",
    "- dtype - returns data type of elements in the array\n",
    "- shape - returns the size of the array in each dimension.\n",
    "- itemsize - returns the size (in bytes) of each elements in the array\n",
    "- data - returns the buffer containing actual elements of the array in memory"
   ]
  },
  {
   "cell_type": "markdown",
   "id": "48a60686",
   "metadata": {},
   "source": [
    "### shape()\n",
    "- This tell us about the shape of array.\n",
    "- It tells us about the columns and rows. first it will tell about the columns then rows."
   ]
  },
  {
   "cell_type": "code",
   "execution_count": 81,
   "id": "4999a657",
   "metadata": {},
   "outputs": [
    {
     "data": {
      "text/plain": [
       "array([ 4,  8,  5, 19, 19, 20, 10, 16,  7, 12, 19,  7, 16, 20, 10,  8, 15,\n",
       "        4,  3, 12])"
      ]
     },
     "execution_count": 81,
     "metadata": {},
     "output_type": "execute_result"
    }
   ],
   "source": [
    "arr1=np.random.randint(1,22,20)\n",
    "arr1"
   ]
  },
  {
   "cell_type": "code",
   "execution_count": 82,
   "id": "219eb0e9",
   "metadata": {},
   "outputs": [
    {
     "data": {
      "text/plain": [
       "(20,)"
      ]
     },
     "execution_count": 82,
     "metadata": {},
     "output_type": "execute_result"
    }
   ],
   "source": [
    "arr1.shape"
   ]
  },
  {
   "cell_type": "code",
   "execution_count": 83,
   "id": "4cf527d9",
   "metadata": {},
   "outputs": [
    {
     "data": {
      "text/plain": [
       "array([[ 5, 12,  4,  9],\n",
       "       [ 6, 18, 16, 16],\n",
       "       [ 7, 13, 13,  5],\n",
       "       [ 4,  8,  1,  4]])"
      ]
     },
     "execution_count": 83,
     "metadata": {},
     "output_type": "execute_result"
    }
   ],
   "source": [
    "numpyyy"
   ]
  },
  {
   "cell_type": "code",
   "execution_count": 85,
   "id": "d9fb05f1",
   "metadata": {},
   "outputs": [
    {
     "data": {
      "text/plain": [
       "2"
      ]
     },
     "execution_count": 85,
     "metadata": {},
     "output_type": "execute_result"
    }
   ],
   "source": [
    "numpyyy.ndim"
   ]
  },
  {
   "cell_type": "code",
   "execution_count": 86,
   "id": "88b28861",
   "metadata": {},
   "outputs": [
    {
     "data": {
      "text/plain": [
       "(4, 4)"
      ]
     },
     "execution_count": 86,
     "metadata": {},
     "output_type": "execute_result"
    }
   ],
   "source": [
    "numpyyy.shape"
   ]
  },
  {
   "cell_type": "code",
   "execution_count": 87,
   "id": "5740caa9",
   "metadata": {},
   "outputs": [
    {
     "data": {
      "text/plain": [
       "dtype('int32')"
      ]
     },
     "execution_count": 87,
     "metadata": {},
     "output_type": "execute_result"
    }
   ],
   "source": [
    "numpyyy.dtype"
   ]
  },
  {
   "cell_type": "code",
   "execution_count": 86,
   "id": "8972eec3",
   "metadata": {},
   "outputs": [
    {
     "data": {
      "text/plain": [
       "16"
      ]
     },
     "execution_count": 86,
     "metadata": {},
     "output_type": "execute_result"
    }
   ],
   "source": [
    "numpyyy.size"
   ]
  },
  {
   "cell_type": "code",
   "execution_count": 88,
   "id": "a6392088",
   "metadata": {},
   "outputs": [
    {
     "data": {
      "text/plain": [
       "array([ 5, 12,  4,  9,  6, 18, 16, 16,  7, 13, 13,  5,  4,  8,  1,  4])"
      ]
     },
     "execution_count": 88,
     "metadata": {},
     "output_type": "execute_result"
    }
   ],
   "source": [
    "a"
   ]
  },
  {
   "cell_type": "code",
   "execution_count": 89,
   "id": "a47c3f87",
   "metadata": {},
   "outputs": [
    {
     "name": "stdout",
     "output_type": "stream",
     "text": [
      "(16,)\n",
      "4\n",
      "<memory at 0x00000270A84DF880>\n"
     ]
    }
   ],
   "source": [
    "print(a.shape)\n",
    "print(a.itemsize)\n",
    "print(a.data)"
   ]
  },
  {
   "cell_type": "code",
   "execution_count": 89,
   "id": "0fd3ef12",
   "metadata": {},
   "outputs": [
    {
     "data": {
      "text/plain": [
       "4"
      ]
     },
     "execution_count": 89,
     "metadata": {},
     "output_type": "execute_result"
    }
   ],
   "source": [
    "numpyyy.itemsize"
   ]
  },
  {
   "cell_type": "code",
   "execution_count": 90,
   "id": "e973eeeb",
   "metadata": {},
   "outputs": [
    {
     "data": {
      "text/plain": [
       "<memory at 0x000002DBAE84A330>"
      ]
     },
     "execution_count": 90,
     "metadata": {},
     "output_type": "execute_result"
    }
   ],
   "source": [
    "numpyyy.data"
   ]
  },
  {
   "cell_type": "markdown",
   "id": "d0c2c8b3",
   "metadata": {},
   "source": [
    "### Reshape\n",
    "- It reshapes the array as per the shape we have passed\n",
    "- It return a new array of the given shape, it doesnot make the changes in the existing array"
   ]
  },
  {
   "cell_type": "code",
   "execution_count": 91,
   "id": "ea95328d",
   "metadata": {},
   "outputs": [
    {
     "data": {
      "text/plain": [
       "array([10, 12, 11,  6,  5, 17, 15, 16,  1,  7, 11, 13, 13,  6, 11,  8])"
      ]
     },
     "execution_count": 91,
     "metadata": {},
     "output_type": "execute_result"
    }
   ],
   "source": [
    "a"
   ]
  },
  {
   "cell_type": "code",
   "execution_count": 92,
   "id": "658896b1",
   "metadata": {},
   "outputs": [
    {
     "data": {
      "text/plain": [
       "array([[[10, 12, 11,  6],\n",
       "        [ 5, 17, 15, 16]],\n",
       "\n",
       "       [[ 1,  7, 11, 13],\n",
       "        [13,  6, 11,  8]]])"
      ]
     },
     "execution_count": 92,
     "metadata": {},
     "output_type": "execute_result"
    }
   ],
   "source": [
    "a.reshape(2,2,4)"
   ]
  },
  {
   "cell_type": "code",
   "execution_count": 94,
   "id": "dd333ac8",
   "metadata": {},
   "outputs": [
    {
     "data": {
      "text/plain": [
       "array([[[10, 12],\n",
       "        [11,  6]],\n",
       "\n",
       "       [[ 5, 17],\n",
       "        [15, 16]],\n",
       "\n",
       "       [[ 1,  7],\n",
       "        [11, 13]],\n",
       "\n",
       "       [[13,  6],\n",
       "        [11,  8]]])"
      ]
     },
     "execution_count": 94,
     "metadata": {},
     "output_type": "execute_result"
    }
   ],
   "source": [
    "a.reshape(4,2,2)"
   ]
  },
  {
   "cell_type": "code",
   "execution_count": 95,
   "id": "c6277be0",
   "metadata": {},
   "outputs": [
    {
     "data": {
      "text/plain": [
       "4"
      ]
     },
     "execution_count": 95,
     "metadata": {},
     "output_type": "execute_result"
    }
   ],
   "source": [
    "a.itemsize"
   ]
  },
  {
   "cell_type": "code",
   "execution_count": 96,
   "id": "30e4d329",
   "metadata": {},
   "outputs": [
    {
     "data": {
      "text/plain": [
       "16"
      ]
     },
     "execution_count": 96,
     "metadata": {},
     "output_type": "execute_result"
    }
   ],
   "source": [
    "np.size(a)"
   ]
  },
  {
   "cell_type": "markdown",
   "id": "e97757b2",
   "metadata": {},
   "source": [
    "#### In this upper code (2,2,4) and (4,2,2) reliee on this concept\n",
    "- number of layers, list in each layer, elements in each list"
   ]
  },
  {
   "cell_type": "markdown",
   "id": "10c50b98",
   "metadata": {},
   "source": [
    "###  dtype()\n",
    "- dtype tells us about what type of data in the array."
   ]
  },
  {
   "cell_type": "code",
   "execution_count": 97,
   "id": "9dc17c6b",
   "metadata": {},
   "outputs": [
    {
     "data": {
      "text/plain": [
       "array([[10, 12, 11,  6],\n",
       "       [ 5, 17, 15, 16],\n",
       "       [ 1,  7, 11, 13],\n",
       "       [13,  6, 11,  8]])"
      ]
     },
     "execution_count": 97,
     "metadata": {},
     "output_type": "execute_result"
    }
   ],
   "source": [
    "numpyyy"
   ]
  },
  {
   "cell_type": "code",
   "execution_count": 98,
   "id": "0417313c",
   "metadata": {},
   "outputs": [
    {
     "data": {
      "text/plain": [
       "dtype('int32')"
      ]
     },
     "execution_count": 98,
     "metadata": {},
     "output_type": "execute_result"
    }
   ],
   "source": [
    "numpyyy.dtype"
   ]
  },
  {
   "cell_type": "code",
   "execution_count": 102,
   "id": "27a07f13",
   "metadata": {},
   "outputs": [
    {
     "data": {
      "text/plain": [
       "array([['sandhiya', 'sandhiya', 'sandhiya'],\n",
       "       ['sandhiya', 'sandhiya', 'sandhiya'],\n",
       "       ['sandhiya', 'sandhiya', 'sandhiya'],\n",
       "       ['sandhiya', 'sandhiya', 'sandhiya']], dtype='<U8')"
      ]
     },
     "execution_count": 102,
     "metadata": {},
     "output_type": "execute_result"
    }
   ],
   "source": [
    "b=np.full((4,3), \"sandhiya\")\n",
    "b"
   ]
  },
  {
   "cell_type": "code",
   "execution_count": 103,
   "id": "cdeb67c6",
   "metadata": {},
   "outputs": [
    {
     "data": {
      "text/plain": [
       "dtype('<U8')"
      ]
     },
     "execution_count": 103,
     "metadata": {},
     "output_type": "execute_result"
    }
   ],
   "source": [
    "b.dtype"
   ]
  },
  {
   "cell_type": "code",
   "execution_count": 105,
   "id": "0c31b0dc",
   "metadata": {},
   "outputs": [
    {
     "data": {
      "text/plain": [
       "array([['sandhiya', 'sandhiya', 'sandhiya'],\n",
       "       ['sandhiya', 'sandhiya', 'sandhiya'],\n",
       "       ['sandhiya', 'sandhiya', 'sandhiya'],\n",
       "       ['sandhiya', 'sandhiya', 'sandhiya']], dtype=object)"
      ]
     },
     "execution_count": 105,
     "metadata": {},
     "output_type": "execute_result"
    }
   ],
   "source": [
    "b=np.full((4,3), \"sandhiya\", dtype='object')\n",
    "b"
   ]
  },
  {
   "cell_type": "code",
   "execution_count": 107,
   "id": "939e29b0",
   "metadata": {},
   "outputs": [
    {
     "data": {
      "text/plain": [
       "dtype('O')"
      ]
     },
     "execution_count": 107,
     "metadata": {},
     "output_type": "execute_result"
    }
   ],
   "source": [
    "b.dtype"
   ]
  },
  {
   "cell_type": "markdown",
   "id": "cd5941de",
   "metadata": {},
   "source": [
    "### ndim() - Dimensionality\n",
    "- It tell us about the dimensions of array."
   ]
  },
  {
   "cell_type": "code",
   "execution_count": 108,
   "id": "21de19f6",
   "metadata": {},
   "outputs": [
    {
     "data": {
      "text/plain": [
       "array([10, 12, 11,  6,  5, 17, 15, 16,  1,  7, 11, 13, 13,  6, 11,  8])"
      ]
     },
     "execution_count": 108,
     "metadata": {},
     "output_type": "execute_result"
    }
   ],
   "source": [
    "a"
   ]
  },
  {
   "cell_type": "code",
   "execution_count": 109,
   "id": "096b058a",
   "metadata": {},
   "outputs": [
    {
     "data": {
      "text/plain": [
       "1"
      ]
     },
     "execution_count": 109,
     "metadata": {},
     "output_type": "execute_result"
    }
   ],
   "source": [
    "a.ndim"
   ]
  },
  {
   "cell_type": "code",
   "execution_count": 112,
   "id": "ff744edf",
   "metadata": {},
   "outputs": [
    {
     "data": {
      "text/plain": [
       "2"
      ]
     },
     "execution_count": 112,
     "metadata": {},
     "output_type": "execute_result"
    }
   ],
   "source": [
    "numpyyy.ndim"
   ]
  },
  {
   "cell_type": "code",
   "execution_count": 113,
   "id": "d651b122",
   "metadata": {},
   "outputs": [
    {
     "data": {
      "text/plain": [
       "array([['sandhiya', 'sandhiya', 'sandhiya'],\n",
       "       ['sandhiya', 'sandhiya', 'sandhiya'],\n",
       "       ['sandhiya', 'sandhiya', 'sandhiya'],\n",
       "       ['sandhiya', 'sandhiya', 'sandhiya']], dtype=object)"
      ]
     },
     "execution_count": 113,
     "metadata": {},
     "output_type": "execute_result"
    }
   ],
   "source": [
    "b"
   ]
  },
  {
   "cell_type": "code",
   "execution_count": 115,
   "id": "36c733fa",
   "metadata": {},
   "outputs": [
    {
     "data": {
      "text/plain": [
       "array([[[1, 2, 3],\n",
       "        [4, 5, 6],\n",
       "        [7, 8, 9],\n",
       "        [5, 6, 7],\n",
       "        [7, 8, 9]]])"
      ]
     },
     "execution_count": 115,
     "metadata": {},
     "output_type": "execute_result"
    }
   ],
   "source": [
    "arr1=np.array([[[1,2,3],[4,5,6],[7,8,9],[5,6,7],[7,8,9]]])\n",
    "arr1"
   ]
  },
  {
   "cell_type": "code",
   "execution_count": 116,
   "id": "84447111",
   "metadata": {},
   "outputs": [
    {
     "data": {
      "text/plain": [
       "3"
      ]
     },
     "execution_count": 116,
     "metadata": {},
     "output_type": "execute_result"
    }
   ],
   "source": [
    "arr1.ndim"
   ]
  },
  {
   "cell_type": "code",
   "execution_count": 117,
   "id": "01f3575c",
   "metadata": {},
   "outputs": [
    {
     "data": {
      "text/plain": [
       "array([[[34, 25,  8, 11],\n",
       "        [39, 37,  7, 32],\n",
       "        [11,  8, 13, 20]],\n",
       "\n",
       "       [[31, 12,  7, 22],\n",
       "        [23,  4,  4,  8],\n",
       "        [12,  9, 32, 21]]])"
      ]
     },
     "execution_count": 117,
     "metadata": {},
     "output_type": "execute_result"
    }
   ],
   "source": [
    "num1 = np.random.randint(1,40,24).reshape(2,3,4)\n",
    "num1"
   ]
  },
  {
   "cell_type": "code",
   "execution_count": 118,
   "id": "0af258a0",
   "metadata": {},
   "outputs": [
    {
     "data": {
      "text/plain": [
       "3"
      ]
     },
     "execution_count": 118,
     "metadata": {},
     "output_type": "execute_result"
    }
   ],
   "source": [
    "num1.ndim"
   ]
  },
  {
   "cell_type": "code",
   "execution_count": 119,
   "id": "28905d6e",
   "metadata": {},
   "outputs": [
    {
     "data": {
      "text/plain": [
       "array([[[[37, 26],\n",
       "         [33, 10],\n",
       "         [28, 24]],\n",
       "\n",
       "        [[ 1, 15],\n",
       "         [22,  9],\n",
       "         [27, 35]],\n",
       "\n",
       "        [[33, 27],\n",
       "         [18, 39],\n",
       "         [23, 15]]],\n",
       "\n",
       "\n",
       "       [[[ 7, 15],\n",
       "         [39, 13],\n",
       "         [15, 22]],\n",
       "\n",
       "        [[ 5, 27],\n",
       "         [24, 38],\n",
       "         [26, 37]],\n",
       "\n",
       "        [[18, 19],\n",
       "         [34,  1],\n",
       "         [25, 31]]]])"
      ]
     },
     "execution_count": 119,
     "metadata": {},
     "output_type": "execute_result"
    }
   ],
   "source": [
    "num2 = np.random.randint(1,40,36).reshape(2,3,3,2)\n",
    "num2"
   ]
  },
  {
   "cell_type": "code",
   "execution_count": 120,
   "id": "ac66bdd5",
   "metadata": {},
   "outputs": [
    {
     "data": {
      "text/plain": [
       "4"
      ]
     },
     "execution_count": 120,
     "metadata": {},
     "output_type": "execute_result"
    }
   ],
   "source": [
    "num2.ndim"
   ]
  },
  {
   "cell_type": "markdown",
   "id": "04c05da9",
   "metadata": {},
   "source": [
    "### How to Create a 2D array and 3D array"
   ]
  },
  {
   "cell_type": "code",
   "execution_count": 121,
   "id": "39766ef8",
   "metadata": {},
   "outputs": [
    {
     "data": {
      "text/plain": [
       "array([[1, 2, 3, 4, 5],\n",
       "       [6, 7, 8, 9, 1]])"
      ]
     },
     "execution_count": 121,
     "metadata": {},
     "output_type": "execute_result"
    }
   ],
   "source": [
    "arr=np.array([[1,2,3,4,5],[6,7,8,9,1]])\n",
    "arr"
   ]
  },
  {
   "cell_type": "code",
   "execution_count": 122,
   "id": "334a519e",
   "metadata": {},
   "outputs": [
    {
     "data": {
      "text/plain": [
       "2"
      ]
     },
     "execution_count": 122,
     "metadata": {},
     "output_type": "execute_result"
    }
   ],
   "source": [
    "arr.ndim"
   ]
  },
  {
   "cell_type": "markdown",
   "id": "26396f7d",
   "metadata": {},
   "source": [
    "### Indexing and Slicing in Array\n",
    "#### Indexing and Slicing in 1-D array\n",
    "- the indexing and the slicing of a 1-D array is similar to the indexing and the slicing of a list\n",
    "- Array will support both Positive and negative indexing\n",
    "#### Indexing and Slicing in 2-D array\n",
    "- How many list are there in an array and how many elements are there in each list\n",
    "- How many list out of the total we want and how many elements from the total we want\n",
    "#### Indexing\n",
    "- Fetching the elements out form a particular position or index\n",
    "  -  Syntax:\n",
    "      - arr[index]"
   ]
  },
  {
   "cell_type": "code",
   "execution_count": 91,
   "id": "bac47d43",
   "metadata": {},
   "outputs": [
    {
     "data": {
      "text/plain": [
       "array([[ 5, 12,  4,  9],\n",
       "       [ 6, 18, 16, 16],\n",
       "       [ 7, 13, 13,  5],\n",
       "       [ 4,  8,  1,  4]])"
      ]
     },
     "execution_count": 91,
     "metadata": {},
     "output_type": "execute_result"
    }
   ],
   "source": [
    "numpyyy"
   ]
  },
  {
   "cell_type": "code",
   "execution_count": 97,
   "id": "026eee50",
   "metadata": {},
   "outputs": [
    {
     "name": "stdout",
     "output_type": "stream",
     "text": [
      "[ 5 12  4  9]\n",
      "[4 8 1 4]\n",
      "[ 6 18 16 16]\n",
      "[4 8 1 4]\n",
      "[ 7 13 13  5]\n",
      "5\n",
      "4\n",
      "[ 7 13 13  5]\n",
      "[4 8 1 4]\n",
      "16\n",
      "1\n",
      "5\n",
      "7\n"
     ]
    }
   ],
   "source": [
    "print(numpyyy[0])\n",
    "print(numpyyy[3])\n",
    "print(numpyyy[1])\n",
    "print(numpyyy[-1])\n",
    "print(numpyyy[-2])\n",
    "print(numpyyy[0][0])\n",
    "print(numpyyy[-1][-1])\n",
    "print(numpyyy[len(numpyyy)-2])\n",
    "print(numpyyy[len(numpyyy)-1])\n",
    "print(numpyyy[len(numpyyy)-3][-2])\n",
    "print(numpyyy[len(numpyyy)-1][-2])\n",
    "print(numpyyy[2][3])\n",
    "print(numpyyy[2][0])"
   ]
  },
  {
   "cell_type": "code",
   "execution_count": 98,
   "id": "6f8414ed",
   "metadata": {},
   "outputs": [
    {
     "data": {
      "text/plain": [
       "array([[ 5, 12,  4,  9],\n",
       "       [ 6, 18, 16, 16],\n",
       "       [55, 13, 13,  5],\n",
       "       [ 4,  8,  1,  4]])"
      ]
     },
     "execution_count": 98,
     "metadata": {},
     "output_type": "execute_result"
    }
   ],
   "source": [
    "numpyyy[2,0]=55\n",
    "numpyyy"
   ]
  },
  {
   "cell_type": "code",
   "execution_count": 107,
   "id": "42598ecb",
   "metadata": {},
   "outputs": [
    {
     "data": {
      "text/plain": [
       "array([43, 25,  4,  9,  1, 22, 20, 11, 44, 42, 11, 22, 39, 33, 21, 45, 30,\n",
       "       40, 15, 27])"
      ]
     },
     "execution_count": 107,
     "metadata": {},
     "output_type": "execute_result"
    }
   ],
   "source": [
    "np.random.seed(3)\n",
    "arr1 = np.random.randint(1,50,20)\n",
    "arr1"
   ]
  },
  {
   "cell_type": "code",
   "execution_count": 109,
   "id": "00f1c0c4",
   "metadata": {},
   "outputs": [
    {
     "data": {
      "text/plain": [
       "array([[43, 25,  4,  9,  1],\n",
       "       [22, 20, 11, 44, 42],\n",
       "       [11, 22, 39, 33, 21],\n",
       "       [45, 30, 40, 15, 27]])"
      ]
     },
     "execution_count": 109,
     "metadata": {},
     "output_type": "execute_result"
    }
   ],
   "source": [
    "arr = arr1.reshape(4,5)\n",
    "arr"
   ]
  },
  {
   "cell_type": "code",
   "execution_count": 113,
   "id": "e8c0f24b",
   "metadata": {},
   "outputs": [
    {
     "data": {
      "text/plain": [
       "2"
      ]
     },
     "execution_count": 113,
     "metadata": {},
     "output_type": "execute_result"
    }
   ],
   "source": [
    "arr.ndim"
   ]
  },
  {
   "cell_type": "code",
   "execution_count": 116,
   "id": "94489797",
   "metadata": {},
   "outputs": [
    {
     "data": {
      "text/plain": [
       "4"
      ]
     },
     "execution_count": 116,
     "metadata": {},
     "output_type": "execute_result"
    }
   ],
   "source": [
    "len(arr)"
   ]
  },
  {
   "cell_type": "code",
   "execution_count": 117,
   "id": "f42addd7",
   "metadata": {},
   "outputs": [
    {
     "data": {
      "text/plain": [
       "42"
      ]
     },
     "execution_count": 117,
     "metadata": {},
     "output_type": "execute_result"
    }
   ],
   "source": [
    "arr[1,4]"
   ]
  },
  {
   "cell_type": "markdown",
   "id": "98bb68dd",
   "metadata": {},
   "source": [
    "### Slicing :\n",
    "#### rows Slicing :\n",
    "- variable[row_startingindex : row_endingindex : step_size]\n",
    "#### Columns Slicing :\n",
    "- variable[column_startindex : column_endingindex : step_size]\n",
    "#### Rows and columns Slicing :\n",
    "- variable[row_startingindex : row_endingindex : step_size ,column_startindex :\n",
    "column_endingindex : step_size]\n",
    "- startingindex = 0 (By default)\n",
    "- endingindex = Exclusive (len(variable)+1)\n",
    "-step_size = 0"
   ]
  },
  {
   "cell_type": "code",
   "execution_count": 118,
   "id": "cdfe0c90",
   "metadata": {},
   "outputs": [
    {
     "data": {
      "text/plain": [
       "array([[43, 25,  4,  9,  1],\n",
       "       [22, 20, 11, 44, 42],\n",
       "       [11, 22, 39, 33, 21],\n",
       "       [45, 30, 40, 15, 27]])"
      ]
     },
     "execution_count": 118,
     "metadata": {},
     "output_type": "execute_result"
    }
   ],
   "source": [
    "arr"
   ]
  },
  {
   "cell_type": "code",
   "execution_count": 164,
   "id": "19141cba",
   "metadata": {},
   "outputs": [
    {
     "name": "stdout",
     "output_type": "stream",
     "text": [
      "[43 25  4  9  1]\n",
      "----------------------\n",
      "[45 30 40 15 27]\n",
      "----------------------\n",
      "[[43 25  4  9  1]\n",
      " [22 20 11 44 42]\n",
      " [11 22 39 33 21]\n",
      " [45 30 40 15 27]]\n",
      "----------------------\n",
      "[[45 30 40 15 27]\n",
      " [11 22 39 33 21]\n",
      " [22 20 11 44 42]\n",
      " [43 25  4  9  1]]\n"
     ]
    }
   ],
   "source": [
    "print(arr[0])\n",
    "print(\"----------------------\")\n",
    "print(arr[-1])\n",
    "print(\"----------------------\")\n",
    "print(arr[::1])\n",
    "print(\"----------------------\")\n",
    "print(arr[::-1])"
   ]
  },
  {
   "cell_type": "code",
   "execution_count": 165,
   "id": "86b9f030",
   "metadata": {},
   "outputs": [
    {
     "name": "stdout",
     "output_type": "stream",
     "text": [
      "[[43 25  4  9  1]\n",
      " [22 20 11 44 42]\n",
      " [11 22 39 33 21]]\n",
      "----------------------\n",
      "[[43 25  4  9  1]\n",
      " [22 20 11 44 42]\n",
      " [11 22 39 33 21]\n",
      " [45 30 40 15 27]]\n"
     ]
    }
   ],
   "source": [
    "print(arr[0:3:])\n",
    "print(\"----------------------\")\n",
    "print(arr[:len(arr):])"
   ]
  },
  {
   "cell_type": "code",
   "execution_count": 166,
   "id": "050908b9",
   "metadata": {},
   "outputs": [
    {
     "name": "stdout",
     "output_type": "stream",
     "text": [
      "[[43 25  4  9  1]\n",
      " [22 20 11 44 42]\n",
      " [11 22 39 33 21]\n",
      " [45 30 40 15 27]]\n",
      "----------------------\n",
      "[[22 20 11 44]\n",
      " [11 22 39 33]]\n"
     ]
    }
   ],
   "source": [
    "print(arr[:])\n",
    "print(\"----------------------\")\n",
    "print(arr[1:3,:4])"
   ]
  },
  {
   "cell_type": "code",
   "execution_count": 167,
   "id": "0bc67e6d",
   "metadata": {},
   "outputs": [
    {
     "data": {
      "text/plain": [
       "array([[43, 25,  4,  9,  1],\n",
       "       [22, 20, 11, 44, 42],\n",
       "       [11, 22, 39, 33, 21],\n",
       "       [45, 30, 40, 15, 27]])"
      ]
     },
     "execution_count": 167,
     "metadata": {},
     "output_type": "execute_result"
    }
   ],
   "source": [
    "arr"
   ]
  },
  {
   "cell_type": "code",
   "execution_count": 168,
   "id": "bf07f81e",
   "metadata": {},
   "outputs": [
    {
     "name": "stdout",
     "output_type": "stream",
     "text": [
      "[[43 25  4  9  1]\n",
      " [22 20 11 44 42]]\n",
      "----------------------\n",
      "[[43 25]\n",
      " [22 20]\n",
      " [11 22]]\n"
     ]
    }
   ],
   "source": [
    "print(arr[:2:,:5:])\n",
    "print(\"----------------------\")\n",
    "print(arr[:3:,:2:])"
   ]
  },
  {
   "cell_type": "code",
   "execution_count": 169,
   "id": "fb4d59fe",
   "metadata": {},
   "outputs": [
    {
     "name": "stdout",
     "output_type": "stream",
     "text": [
      "[[43 25  4  9  1]\n",
      " [22 20 11 44 42]\n",
      " [11 22 39 33 21]\n",
      " [45 30 40 15 27]]\n",
      "----------------------\n",
      "[[39 33]\n",
      " [40 15]]\n"
     ]
    }
   ],
   "source": [
    "print(arr[::,::])\n",
    "print(\"----------------------\")\n",
    "print(arr[2:4:,2:-1:])"
   ]
  },
  {
   "cell_type": "code",
   "execution_count": 170,
   "id": "a52c3301",
   "metadata": {},
   "outputs": [
    {
     "name": "stdout",
     "output_type": "stream",
     "text": [
      "[[43 25  4  9  1]\n",
      " [22 20 11 44 42]\n",
      " [11 22 39 33 21]\n",
      " [45 30 40 15 27]]\n",
      "----------------------\n",
      "[[11 22]\n",
      " [45 30]]\n"
     ]
    }
   ],
   "source": [
    "print(arr[::,::])\n",
    "print(\"----------------------\")\n",
    "print(arr[2::,:2:])"
   ]
  },
  {
   "cell_type": "code",
   "execution_count": 171,
   "id": "cfc6e4d5",
   "metadata": {},
   "outputs": [
    {
     "name": "stdout",
     "output_type": "stream",
     "text": [
      "[[43 25  4  9  1]\n",
      " [22 20 11 44 42]\n",
      " [11 22 39 33 21]\n",
      " [45 30 40 15 27]]\n",
      "----------------------\n",
      "[[11 44]\n",
      " [39 33]\n",
      " [40 15]]\n"
     ]
    }
   ],
   "source": [
    "print(arr[::,::])\n",
    "print(\"----------------------\")\n",
    "print(arr[1::,2:4:])"
   ]
  },
  {
   "cell_type": "code",
   "execution_count": 172,
   "id": "c6138f80",
   "metadata": {},
   "outputs": [
    {
     "name": "stdout",
     "output_type": "stream",
     "text": [
      "[[43 25  4  9  1]\n",
      " [22 20 11 44 42]\n",
      " [11 22 39 33 21]\n",
      " [45 30 40 15 27]]\n",
      "----------------------\n",
      "[]\n"
     ]
    }
   ],
   "source": [
    "print(arr[::,::])\n",
    "print(\"----------------------\")\n",
    "print(arr[::-1,5:len(arr):-1])"
   ]
  },
  {
   "cell_type": "code",
   "execution_count": 173,
   "id": "f406b31d",
   "metadata": {},
   "outputs": [
    {
     "data": {
      "text/plain": [
       "array([[ 59, 162,  94, 159, 155, 101, 214, 166, 151],\n",
       "       [ 93, 156,  47, 200,  42, 123, 168, 161, 178],\n",
       "       [179, 164,  72,  90, 118, 108, 163, 159,  29],\n",
       "       [ 85,  83,  44,  79,  23, 150,  82,  30, 163],\n",
       "       [137, 197, 143,  52,  93, 153, 220, 171,  71],\n",
       "       [ 79,  25, 218,  46,  65,  98,  48,  74, 102],\n",
       "       [131, 137,  63,  37,  86, 218,  47, 133, 157],\n",
       "       [ 48, 175, 126,  44,  31, 217, 148,  45, 147],\n",
       "       [122, 177, 187,  79, 105, 188, 158,  54, 184]])"
      ]
     },
     "execution_count": 173,
     "metadata": {},
     "output_type": "execute_result"
    }
   ],
   "source": [
    "np.random.seed(1)\n",
    "arr2 = np.random.randint(22,222,81).reshape(9,9)\n",
    "arr2"
   ]
  },
  {
   "cell_type": "code",
   "execution_count": 174,
   "id": "afc97556",
   "metadata": {},
   "outputs": [
    {
     "name": "stdout",
     "output_type": "stream",
     "text": [
      "[[ 59 162  94 159 155 101 214 166 151]\n",
      " [ 93 156  47 200  42 123 168 161 178]\n",
      " [179 164  72  90 118 108 163 159  29]\n",
      " [ 85  83  44  79  23 150  82  30 163]\n",
      " [137 197 143  52  93 153 220 171  71]\n",
      " [ 79  25 218  46  65  98  48  74 102]\n",
      " [131 137  63  37  86 218  47 133 157]\n",
      " [ 48 175 126  44  31 217 148  45 147]\n",
      " [122 177 187  79 105 188 158  54 184]]\n",
      "----------------------\n",
      "[[151]\n",
      " [178]\n",
      " [ 29]\n",
      " [163]\n",
      " [ 71]\n",
      " [102]\n",
      " [157]\n",
      " [147]\n",
      " [184]]\n"
     ]
    }
   ],
   "source": [
    "print(arr2[::,::])\n",
    "print(\"----------------------\")\n",
    "print(arr2[:: ,8:len(arr2):])"
   ]
  },
  {
   "cell_type": "code",
   "execution_count": 175,
   "id": "f8656b83",
   "metadata": {},
   "outputs": [
    {
     "name": "stdout",
     "output_type": "stream",
     "text": [
      "[[ 59 162  94 159 155 101 214 166 151]\n",
      " [ 93 156  47 200  42 123 168 161 178]\n",
      " [179 164  72  90 118 108 163 159  29]\n",
      " [ 85  83  44  79  23 150  82  30 163]\n",
      " [137 197 143  52  93 153 220 171  71]\n",
      " [ 79  25 218  46  65  98  48  74 102]\n",
      " [131 137  63  37  86 218  47 133 157]\n",
      " [ 48 175 126  44  31 217 148  45 147]\n",
      " [122 177 187  79 105 188 158  54 184]]\n",
      "--------------------------------------------------------\n",
      "[[184]\n",
      " [147]\n",
      " [157]\n",
      " [102]\n",
      " [ 71]\n",
      " [163]\n",
      " [ 29]\n",
      " [178]\n",
      " [151]]\n"
     ]
    }
   ],
   "source": [
    "print(arr2[::,::])\n",
    "print(\"--------------------------------------------------------\")\n",
    "print(arr2[::-1,8:len(arr2):])"
   ]
  },
  {
   "cell_type": "code",
   "execution_count": 183,
   "id": "36860a82",
   "metadata": {},
   "outputs": [
    {
     "name": "stdout",
     "output_type": "stream",
     "text": [
      "[[ 59 162  94 159 155 101 214 166 151]\n",
      " [ 93 156  47 200  42 123 168 161 178]\n",
      " [179 164  72  90 118 108 163 159  29]\n",
      " [ 85  83  44  79  23 150  82  30 163]\n",
      " [137 197 143  52  93 153 220 171  71]\n",
      " [ 79  25 218  46  65  98  48  74 102]\n",
      " [131 137  63  37  86 218  47 133 157]\n",
      " [ 48 175 126  44  31 217 148  45 147]\n",
      " [122 177 187  79 105 188 158  54 184]]\n",
      "----------------------------------------------\n",
      "[[79]]\n"
     ]
    }
   ],
   "source": [
    "print(arr2[::,::])\n",
    "print(\"----------------------------------------------\")\n",
    "print(arr2[-1::,3:4:])"
   ]
  },
  {
   "cell_type": "code",
   "execution_count": 186,
   "id": "6e57e360",
   "metadata": {},
   "outputs": [
    {
     "name": "stdout",
     "output_type": "stream",
     "text": [
      "[[ 59 162  94 159 155 101 214 166 151]\n",
      " [ 93 156  47 200  42 123 168 161 178]\n",
      " [179 164  72  90 118 108 163 159  29]\n",
      " [ 85  83  44  79  23 150  82  30 163]\n",
      " [137 197 143  52  93 153 220 171  71]\n",
      " [ 79  25 218  46  65  98  48  74 102]\n",
      " [131 137  63  37  86 218  47 133 157]\n",
      " [ 48 175 126  44  31 217 148  45 147]\n",
      " [122 177 187  79 105 188 158  54 184]]\n",
      "----------------------------------------------\n",
      "[[214 166]\n",
      " [168 161]\n",
      " [163 159]\n",
      " [ 82  30]\n",
      " [220 171]\n",
      " [ 48  74]\n",
      " [ 47 133]\n",
      " [148  45]\n",
      " [158  54]]\n"
     ]
    }
   ],
   "source": [
    "print(arr2[::,::])\n",
    "print(\"----------------------------------------------\")\n",
    "print(arr2[::,6:8:])"
   ]
  },
  {
   "cell_type": "code",
   "execution_count": 187,
   "id": "2185de6d",
   "metadata": {},
   "outputs": [
    {
     "name": "stdout",
     "output_type": "stream",
     "text": [
      "[[ 59 162  94 159 155 101 214 166 151]\n",
      " [ 93 156  47 200  42 123 168 161 178]\n",
      " [179 164  72  90 118 108 163 159  29]\n",
      " [ 85  83  44  79  23 150  82  30 163]\n",
      " [137 197 143  52  93 153 220 171  71]\n",
      " [ 79  25 218  46  65  98  48  74 102]\n",
      " [131 137  63  37  86 218  47 133 157]\n",
      " [ 48 175 126  44  31 217 148  45 147]\n",
      " [122 177 187  79 105 188 158  54 184]]\n",
      "----------------------------------------------\n",
      "[ 59 156  72  79  93  98  47  45 184]\n",
      "----------------------------------------------\n",
      "[184  45  47  98  93  79  72 156  59]\n",
      "----------------------------------------------\n",
      "[162  47  90  23 153  48 133 147]\n",
      "----------------------------------------------\n",
      "[ 93 164  44  52  65 218 148  54]\n",
      "----------------------------------------------\n",
      "[214 161  29]\n",
      "----------------------------------------------\n",
      "[151]\n"
     ]
    }
   ],
   "source": [
    "print(arr2[::,::])\n",
    "print(\"----------------------------------------------\")\n",
    "print(np.diagonal(arr2)[::])\n",
    "print(\"----------------------------------------------\")\n",
    "print(np.diagonal(arr2)[::-1])\n",
    "print(\"----------------------------------------------\")\n",
    "print(np.diagonal(arr2, offset=1)[::])\n",
    "print(\"----------------------------------------------\")\n",
    "print(np.diagonal(arr2, offset=-1)[::])\n",
    "print(\"----------------------------------------------\")\n",
    "print(np.diag(arr2 , k=6)[::])\n",
    "print(\"----------------------------------------------\")\n",
    "print(np.diagonal(arr2 , offset=8)[::])"
   ]
  },
  {
   "cell_type": "markdown",
   "id": "beb21ca4",
   "metadata": {},
   "source": [
    "#### You're on the right track – np.diagonals is well suited for this, but you need to take care computing the offsets. In numpy (and in matrix math by convention) the diagonals run {{topleft to bottom-right.}} The main diagonal has offset 0; the diagonals above this have positive offsets, and the diagonals below have negative offsets."
   ]
  },
  {
   "cell_type": "code",
   "execution_count": 188,
   "id": "07a02b08",
   "metadata": {},
   "outputs": [
    {
     "data": {
      "text/plain": [
       "array([[ 59, 162,  94, 159, 155, 101, 214, 166, 151],\n",
       "       [ 93, 156,  47, 200,  42, 123, 168, 161, 178],\n",
       "       [179, 164,  72,  90, 118, 108, 163, 159,  29],\n",
       "       [ 85,  83,  44,  79,  23, 150,  82,  30, 163],\n",
       "       [137, 197, 143,  52,  93, 153, 220, 171,  71],\n",
       "       [ 79,  25, 218,  46,  65,  98,  48,  74, 102],\n",
       "       [131, 137,  63,  37,  86, 218,  47, 133, 157],\n",
       "       [ 48, 175, 126,  44,  31, 217, 148,  45, 147],\n",
       "       [122, 177, 187,  79, 105, 188, 158,  54, 184]])"
      ]
     },
     "execution_count": 188,
     "metadata": {},
     "output_type": "execute_result"
    }
   ],
   "source": [
    "arr2    "
   ]
  },
  {
   "cell_type": "code",
   "execution_count": 189,
   "id": "408b2640",
   "metadata": {},
   "outputs": [
    {
     "data": {
      "text/plain": [
       "array([ 59, 156,  72,  79,  93,  98,  47,  45, 184])"
      ]
     },
     "execution_count": 189,
     "metadata": {},
     "output_type": "execute_result"
    }
   ],
   "source": [
    "np.diag(arr2)"
   ]
  },
  {
   "cell_type": "code",
   "execution_count": 190,
   "id": "b6afefdc",
   "metadata": {},
   "outputs": [
    {
     "data": {
      "text/plain": [
       "array([[ 59,   0,   0,   0,   0,   0,   0,   0,   0],\n",
       "       [  0, 156,   0,   0,   0,   0,   0,   0,   0],\n",
       "       [  0,   0,  72,   0,   0,   0,   0,   0,   0],\n",
       "       [  0,   0,   0,  79,   0,   0,   0,   0,   0],\n",
       "       [  0,   0,   0,   0,  93,   0,   0,   0,   0],\n",
       "       [  0,   0,   0,   0,   0,  98,   0,   0,   0],\n",
       "       [  0,   0,   0,   0,   0,   0,  47,   0,   0],\n",
       "       [  0,   0,   0,   0,   0,   0,   0,  45,   0],\n",
       "       [  0,   0,   0,   0,   0,   0,   0,   0, 184]])"
      ]
     },
     "execution_count": 190,
     "metadata": {},
     "output_type": "execute_result"
    }
   ],
   "source": [
    "np.diag(np.diag(arr2))"
   ]
  },
  {
   "cell_type": "code",
   "execution_count": 191,
   "id": "764085d2",
   "metadata": {},
   "outputs": [
    {
     "data": {
      "text/plain": [
       "array([[40, 53, 45, 53, 55, 37, 58, 40, 62, 54, 53],\n",
       "       [31, 43, 33, 30, 43, 36, 51, 36, 32, 42, 57],\n",
       "       [51, 41, 37, 43, 38, 41, 42, 50, 60, 66, 69],\n",
       "       [37, 34, 48, 62, 43, 40, 53, 47, 37, 54, 40],\n",
       "       [58, 50, 62, 42, 31, 60, 54, 48, 63, 32, 58],\n",
       "       [69, 64, 40, 62, 48, 52, 36, 32, 37, 69, 45],\n",
       "       [35, 47, 50, 52, 67, 43, 63, 50, 40, 62, 55],\n",
       "       [51, 69, 62, 49, 55, 44, 43, 50, 36, 43, 45],\n",
       "       [54, 39, 32, 37, 35, 66, 67, 51, 43, 57, 43],\n",
       "       [44, 53, 46, 58, 33, 32, 44, 30, 59, 41, 65],\n",
       "       [59, 63, 32, 50, 49, 62, 58, 48, 61, 58, 60]])"
      ]
     },
     "execution_count": 191,
     "metadata": {},
     "output_type": "execute_result"
    }
   ],
   "source": [
    "arr1 = np.random.randint(30,70,121).reshape(11,11)\n",
    "arr1"
   ]
  },
  {
   "cell_type": "code",
   "execution_count": 192,
   "id": "fe409a88",
   "metadata": {},
   "outputs": [
    {
     "data": {
      "text/plain": [
       "array([[40,  0,  0,  0,  0,  0,  0,  0,  0,  0,  0],\n",
       "       [ 0, 43,  0,  0,  0,  0,  0,  0,  0,  0,  0],\n",
       "       [ 0,  0, 37,  0,  0,  0,  0,  0,  0,  0,  0],\n",
       "       [ 0,  0,  0, 62,  0,  0,  0,  0,  0,  0,  0],\n",
       "       [ 0,  0,  0,  0, 31,  0,  0,  0,  0,  0,  0],\n",
       "       [ 0,  0,  0,  0,  0, 52,  0,  0,  0,  0,  0],\n",
       "       [ 0,  0,  0,  0,  0,  0, 63,  0,  0,  0,  0],\n",
       "       [ 0,  0,  0,  0,  0,  0,  0, 50,  0,  0,  0],\n",
       "       [ 0,  0,  0,  0,  0,  0,  0,  0, 43,  0,  0],\n",
       "       [ 0,  0,  0,  0,  0,  0,  0,  0,  0, 41,  0],\n",
       "       [ 0,  0,  0,  0,  0,  0,  0,  0,  0,  0, 60]])"
      ]
     },
     "execution_count": 192,
     "metadata": {},
     "output_type": "execute_result"
    }
   ],
   "source": [
    "np.diag(np.diag(arr1))"
   ]
  },
  {
   "cell_type": "code",
   "execution_count": 193,
   "id": "ef1439de",
   "metadata": {},
   "outputs": [
    {
     "data": {
      "text/plain": [
       "array([[40, 53, 45, 53, 55, 37, 58, 40, 62, 54, 53],\n",
       "       [31, 43, 33, 30, 43, 36, 51, 36, 32, 42, 57],\n",
       "       [51, 41, 37, 43, 38, 41, 42, 50, 60, 66, 69],\n",
       "       [37, 34, 48, 62, 43, 40, 53, 47, 37, 54, 40],\n",
       "       [58, 50, 62, 42, 31, 60, 54, 48, 63, 32, 58],\n",
       "       [69, 64, 40, 62, 48, 52, 36, 32, 37, 69, 45],\n",
       "       [35, 47, 50, 52, 67, 43, 63, 50, 40, 62, 55],\n",
       "       [51, 69, 62, 49, 55, 44, 43, 50, 36, 43, 45],\n",
       "       [54, 39, 32, 37, 35, 66, 67, 51, 43, 57, 43],\n",
       "       [44, 53, 46, 58, 33, 32, 44, 30, 59, 41, 65],\n",
       "       [59, 63, 32, 50, 49, 62, 58, 48, 61, 58, 60]])"
      ]
     },
     "execution_count": 193,
     "metadata": {},
     "output_type": "execute_result"
    }
   ],
   "source": [
    "arr1"
   ]
  },
  {
   "cell_type": "code",
   "execution_count": 194,
   "id": "47896721",
   "metadata": {},
   "outputs": [
    {
     "data": {
      "text/plain": [
       "array([[40,  0,  0, ...,  0,  0,  0],\n",
       "       [ 0,  0,  0, ...,  0,  0,  0],\n",
       "       [ 0,  0,  0, ...,  0,  0,  0],\n",
       "       ...,\n",
       "       [ 0,  0,  0, ...,  0,  0,  0],\n",
       "       [ 0,  0,  0, ...,  0,  0,  0],\n",
       "       [ 0,  0,  0, ...,  0,  0, 60]])"
      ]
     },
     "execution_count": 194,
     "metadata": {},
     "output_type": "execute_result"
    }
   ],
   "source": [
    "np.diagflat(np.diagflat(arr1))"
   ]
  },
  {
   "cell_type": "markdown",
   "id": "d50ffc79",
   "metadata": {},
   "source": [
    "### diagflat() :\n",
    "- It creates the diagonals from given array and rest of non diagonal values becomes 0's."
   ]
  },
  {
   "cell_type": "code",
   "execution_count": 197,
   "id": "7ab1ae04",
   "metadata": {},
   "outputs": [
    {
     "data": {
      "text/plain": [
       "array([[22,  0,  0,  0,  0,  0,  0,  0],\n",
       "       [ 0, 23,  0,  0,  0,  0,  0,  0],\n",
       "       [ 0,  0,  2,  0,  0,  0,  0,  0],\n",
       "       [ 0,  0,  0,  4,  0,  0,  0,  0],\n",
       "       [ 0,  0,  0,  0, 11,  0,  0,  0],\n",
       "       [ 0,  0,  0,  0,  0, 13,  0,  0],\n",
       "       [ 0,  0,  0,  0,  0,  0, 12,  0],\n",
       "       [ 0,  0,  0,  0,  0,  0,  0,  1]])"
      ]
     },
     "execution_count": 197,
     "metadata": {},
     "output_type": "execute_result"
    }
   ],
   "source": [
    "numm=np.diagflat([[22,23,2,4],[11,13,12,1]])\n",
    "numm"
   ]
  },
  {
   "cell_type": "code",
   "execution_count": 198,
   "id": "5d760550",
   "metadata": {},
   "outputs": [
    {
     "data": {
      "text/plain": [
       "2"
      ]
     },
     "execution_count": 198,
     "metadata": {},
     "output_type": "execute_result"
    }
   ],
   "source": [
    "numm.ndim"
   ]
  },
  {
   "cell_type": "code",
   "execution_count": 202,
   "id": "4b305674",
   "metadata": {},
   "outputs": [
    {
     "data": {
      "text/plain": [
       "array([[12,  0,  0,  0,  0,  0,  0,  0],\n",
       "       [ 0, 12,  0,  0,  0,  0,  0,  0],\n",
       "       [ 0,  0, 22,  0,  0,  0,  0,  0],\n",
       "       [ 0,  0,  0, 22,  0,  0,  0,  0],\n",
       "       [ 0,  0,  0,  0, 33,  0,  0,  0],\n",
       "       [ 0,  0,  0,  0,  0, 33,  0,  0],\n",
       "       [ 0,  0,  0,  0,  0,  0, 44,  0],\n",
       "       [ 0,  0,  0,  0,  0,  0,  0, 44]])"
      ]
     },
     "execution_count": 202,
     "metadata": {},
     "output_type": "execute_result"
    }
   ],
   "source": [
    "x = np.diagflat([[[12,12],[22,22],\n",
    "[33,33],[44,44]]])\n",
    "x"
   ]
  },
  {
   "cell_type": "code",
   "execution_count": 203,
   "id": "357e6949",
   "metadata": {},
   "outputs": [
    {
     "data": {
      "text/plain": [
       "array([[12],\n",
       "       [12]])"
      ]
     },
     "execution_count": 203,
     "metadata": {},
     "output_type": "execute_result"
    }
   ],
   "source": [
    "x=np.diagonal([[[12,12],[22,22],\n",
    "                [33,33],[44,44]]])\n",
    "x"
   ]
  },
  {
   "cell_type": "markdown",
   "id": "2b813957",
   "metadata": {},
   "source": [
    "#### As you can see in above codes np.diag and np.diagonal doesn't create a array by giving arrays it is only applicable in np.diagflat"
   ]
  },
  {
   "cell_type": "code",
   "execution_count": 204,
   "id": "6bd2d4c3",
   "metadata": {},
   "outputs": [
    {
     "data": {
      "text/plain": [
       "array([[0.12134346, 0.04455188, 0.10749413],\n",
       "       [0.22570934, 0.71298898, 0.55971698],\n",
       "       [0.01255598, 0.07197428, 0.96727633]])"
      ]
     },
     "execution_count": 204,
     "metadata": {},
     "output_type": "execute_result"
    }
   ],
   "source": [
    "arr = np.random.random(9).reshape(3,3)\n",
    "arr"
   ]
  },
  {
   "cell_type": "code",
   "execution_count": 206,
   "id": "8151511a",
   "metadata": {},
   "outputs": [
    {
     "data": {
      "text/plain": [
       "array([[0.30594132, 0.74537515, 0.38821925, 0.46966765],\n",
       "       [0.71004438, 0.36512663, 0.92725033, 0.73218711],\n",
       "       [0.24383709, 0.67966439, 0.0595789 , 0.85628818]])"
      ]
     },
     "execution_count": 206,
     "metadata": {},
     "output_type": "execute_result"
    }
   ],
   "source": [
    "arr1 = np.random.rand(3,4)\n",
    "arr1"
   ]
  },
  {
   "cell_type": "code",
   "execution_count": 205,
   "id": "3c33fc5f",
   "metadata": {},
   "outputs": [
    {
     "data": {
      "text/plain": [
       "array([[139, 107, 110,  80, 107,  81,  63,  26],\n",
       "       [  2,  76,  78, 186,  27, 162, 111,  69],\n",
       "       [162,   9, 131,  32, 195, 134, 126, 155],\n",
       "       [ 16,  87, 115, 172, 198, 178, 133,  63],\n",
       "       [ 81, 195, 128,  67,  64, 148,  86, 125],\n",
       "       [ 29,  44,  58, 134,  51,  27,  79, 120],\n",
       "       [ 41, 198,  71,  64,  11,  68,  86, 140],\n",
       "       [130,  83, 164, 151,  42, 124, 106,  25]])"
      ]
     },
     "execution_count": 205,
     "metadata": {},
     "output_type": "execute_result"
    }
   ],
   "source": [
    "np.random.seed(6)\n",
    "arr3 = np.random.randint(1,200,64).reshape(8,8)\n",
    "arr3"
   ]
  },
  {
   "cell_type": "markdown",
   "id": "b80923be",
   "metadata": {},
   "source": [
    "### Indexing and Slicing in 3-D Array\n",
    "#### Indexing :\n",
    "- Syntax :\n",
    "    - arr[arr_index] --- It fetches the layer\n",
    "    - arr[arr_index , arr_row] ---- It fetches the layer and the list\n",
    "    - arr[arr_index , arr_row , arr_column] ---- It fetches layer and thelist and the elements inside lists."
   ]
  },
  {
   "cell_type": "code",
   "execution_count": 207,
   "id": "e085316c",
   "metadata": {},
   "outputs": [],
   "source": [
    "import numpy as np"
   ]
  },
  {
   "cell_type": "code",
   "execution_count": 220,
   "id": "7a285075",
   "metadata": {},
   "outputs": [
    {
     "data": {
      "text/plain": [
       "array([[[67, 42, 38, 39],\n",
       "        [41, 35, 45, 30],\n",
       "        [46, 31, 42, 37],\n",
       "        [36, 55, 50, 67]],\n",
       "\n",
       "       [[48, 50, 41, 58],\n",
       "        [59, 44, 34, 53],\n",
       "        [53, 60, 62, 52],\n",
       "        [43, 39, 37, 52]],\n",
       "\n",
       "       [[31, 30, 47, 38],\n",
       "        [54, 43, 38, 60],\n",
       "        [37, 33, 36, 51],\n",
       "        [33, 34, 54, 42]]])"
      ]
     },
     "execution_count": 220,
     "metadata": {},
     "output_type": "execute_result"
    }
   ],
   "source": [
    "np.random.seed(1)\n",
    "arr1 = np.random.randint(30,70,48).reshape(3,4,4)\n",
    "arr1"
   ]
  },
  {
   "cell_type": "code",
   "execution_count": 221,
   "id": "77d1ec28",
   "metadata": {},
   "outputs": [
    {
     "data": {
      "text/plain": [
       "array([[48, 50, 41, 58],\n",
       "       [59, 44, 34, 53],\n",
       "       [53, 60, 62, 52],\n",
       "       [43, 39, 37, 52]])"
      ]
     },
     "execution_count": 221,
     "metadata": {},
     "output_type": "execute_result"
    }
   ],
   "source": [
    "arr1[1]"
   ]
  },
  {
   "cell_type": "code",
   "execution_count": 222,
   "id": "dbace7da",
   "metadata": {},
   "outputs": [
    {
     "data": {
      "text/plain": [
       "array([[[67, 42, 38, 39],\n",
       "        [41, 35, 45, 30],\n",
       "        [22, 22, 22, 22],\n",
       "        [36, 55, 50, 67]],\n",
       "\n",
       "       [[48, 50, 41, 58],\n",
       "        [59, 44, 34, 53],\n",
       "        [53, 60, 62, 52],\n",
       "        [43, 39, 37, 52]],\n",
       "\n",
       "       [[31, 30, 47, 38],\n",
       "        [54, 43, 38, 60],\n",
       "        [37, 33, 36, 51],\n",
       "        [33, 34, 54, 42]]])"
      ]
     },
     "execution_count": 222,
     "metadata": {},
     "output_type": "execute_result"
    }
   ],
   "source": [
    "\n",
    "arr1[0,2] = 22\n",
    "arr1"
   ]
  },
  {
   "cell_type": "code",
   "execution_count": 227,
   "id": "2e793294",
   "metadata": {},
   "outputs": [
    {
     "data": {
      "text/plain": [
       "array([[[67, 42, 38, 39],\n",
       "        [41, 35, 45, 30],\n",
       "        [22, 11, 12, 22],\n",
       "        [36, 55, 50, 67]],\n",
       "\n",
       "       [[48, 50, 41, 58],\n",
       "        [59, 44, 34, 53],\n",
       "        [53, 60, 62, 52],\n",
       "        [43, 39, 37, 52]],\n",
       "\n",
       "       [[31, 30, 47, 38],\n",
       "        [54, 43, 38, 60],\n",
       "        [37, 33, 36, 51],\n",
       "        [33, 34, 54, 42]]])"
      ]
     },
     "execution_count": 227,
     "metadata": {},
     "output_type": "execute_result"
    }
   ],
   "source": [
    "arr1[0,2,(1,2)] = 11,12\n",
    "arr1"
   ]
  },
  {
   "cell_type": "code",
   "execution_count": 231,
   "id": "44eed6df",
   "metadata": {},
   "outputs": [
    {
     "data": {
      "text/plain": [
       "array([[[67, 42, 38, 39],\n",
       "        [41, 35, 45, 30],\n",
       "        [22, 11, 12, 22],\n",
       "        [36, 55, 50, 67]],\n",
       "\n",
       "       [[48, 50, 41, 58],\n",
       "        [59, 44, 34, 53],\n",
       "        [53, 60, 62, 52],\n",
       "        [43, 39, 37, 52]],\n",
       "\n",
       "       [[31, 30, 47, 38],\n",
       "        [54, 43, 38, 60],\n",
       "        [73, 33, 36, 65],\n",
       "        [33, 34, 54, 42]]])"
      ]
     },
     "execution_count": 231,
     "metadata": {},
     "output_type": "execute_result"
    }
   ],
   "source": [
    "arr1[2,2,(0,3)] = 73,65\n",
    "arr1"
   ]
  },
  {
   "cell_type": "code",
   "execution_count": 232,
   "id": "f5952cde",
   "metadata": {},
   "outputs": [
    {
     "data": {
      "text/plain": [
       "array([[[67, 42, 38, 39],\n",
       "        [41, 35, 45, 30],\n",
       "        [22, 11, 12, 22],\n",
       "        [36, 55, 50, 67]],\n",
       "\n",
       "       [[48, 50, 41, 58],\n",
       "        [59, 44, 34, 53],\n",
       "        [53, 60, 26, 25],\n",
       "        [43, 39, 37, 52]],\n",
       "\n",
       "       [[31, 30, 47, 38],\n",
       "        [54, 43, 38, 60],\n",
       "        [73, 33, 36, 65],\n",
       "        [33, 34, 54, 42]]])"
      ]
     },
     "execution_count": 232,
     "metadata": {},
     "output_type": "execute_result"
    }
   ],
   "source": [
    "arr1[1,2,(2,3)] = 26,25\n",
    "arr1"
   ]
  },
  {
   "cell_type": "markdown",
   "id": "59eb700b",
   "metadata": {},
   "source": [
    "### Slicing :\n",
    "##### Syntax :\n",
    "   - arr[layer_startindex : layer_endindex : step_size]\n",
    "- layer_startindex = 0\n",
    "- layer_endindex = Exclusive (by default)\n",
    "- step size = 1 (By default)"
   ]
  },
  {
   "cell_type": "code",
   "execution_count": 233,
   "id": "e34fa170",
   "metadata": {},
   "outputs": [
    {
     "data": {
      "text/plain": [
       "array([[[67, 42, 38, 39],\n",
       "        [41, 35, 45, 30],\n",
       "        [22, 11, 12, 22],\n",
       "        [36, 55, 50, 67]],\n",
       "\n",
       "       [[48, 50, 41, 58],\n",
       "        [59, 44, 34, 53],\n",
       "        [53, 60, 26, 25],\n",
       "        [43, 39, 37, 52]],\n",
       "\n",
       "       [[31, 30, 47, 38],\n",
       "        [54, 43, 38, 60],\n",
       "        [73, 33, 36, 65],\n",
       "        [33, 34, 54, 42]]])"
      ]
     },
     "execution_count": 233,
     "metadata": {},
     "output_type": "execute_result"
    }
   ],
   "source": [
    "arr1"
   ]
  },
  {
   "cell_type": "code",
   "execution_count": 237,
   "id": "1f370b0e",
   "metadata": {},
   "outputs": [
    {
     "data": {
      "text/plain": [
       "array([[[67, 42, 38, 39],\n",
       "        [41, 35, 45, 30],\n",
       "        [22, 11, 12, 22],\n",
       "        [36, 55, 50, 67]],\n",
       "\n",
       "       [[31, 30, 47, 38],\n",
       "        [54, 43, 38, 60],\n",
       "        [73, 33, 36, 65],\n",
       "        [33, 34, 54, 42]]])"
      ]
     },
     "execution_count": 237,
     "metadata": {},
     "output_type": "execute_result"
    }
   ],
   "source": [
    "arr1[:len(arr1):2]"
   ]
  },
  {
   "cell_type": "code",
   "execution_count": 238,
   "id": "c1b12e5a",
   "metadata": {},
   "outputs": [
    {
     "data": {
      "text/plain": [
       "array([[[31, 30, 47, 38],\n",
       "        [54, 43, 38, 60],\n",
       "        [73, 33, 36, 65],\n",
       "        [33, 34, 54, 42]],\n",
       "\n",
       "       [[48, 50, 41, 58],\n",
       "        [59, 44, 34, 53],\n",
       "        [53, 60, 26, 25],\n",
       "        [43, 39, 37, 52]],\n",
       "\n",
       "       [[67, 42, 38, 39],\n",
       "        [41, 35, 45, 30],\n",
       "        [22, 11, 12, 22],\n",
       "        [36, 55, 50, 67]]])"
      ]
     },
     "execution_count": 238,
     "metadata": {},
     "output_type": "execute_result"
    }
   ],
   "source": [
    "arr1[::-1]"
   ]
  },
  {
   "cell_type": "markdown",
   "id": "f8dc4371",
   "metadata": {},
   "source": [
    "### Now,\n",
    " - arr[layer_startindex : layer_endindex : step_size ,row_startindex : row_endindex : step_size]\n",
    "- startindex = 0\n",
    "- endindex = Exclusive (by default)\n",
    "- step size = 1 (By default)"
   ]
  },
  {
   "cell_type": "code",
   "execution_count": 239,
   "id": "86d00c6e",
   "metadata": {},
   "outputs": [
    {
     "data": {
      "text/plain": [
       "array([[[67, 42, 38, 39],\n",
       "        [41, 35, 45, 30],\n",
       "        [22, 11, 12, 22],\n",
       "        [36, 55, 50, 67]],\n",
       "\n",
       "       [[48, 50, 41, 58],\n",
       "        [59, 44, 34, 53],\n",
       "        [53, 60, 26, 25],\n",
       "        [43, 39, 37, 52]],\n",
       "\n",
       "       [[31, 30, 47, 38],\n",
       "        [54, 43, 38, 60],\n",
       "        [73, 33, 36, 65],\n",
       "        [33, 34, 54, 42]]])"
      ]
     },
     "execution_count": 239,
     "metadata": {},
     "output_type": "execute_result"
    }
   ],
   "source": [
    "arr1\n"
   ]
  },
  {
   "cell_type": "code",
   "execution_count": 240,
   "id": "bd61adbe",
   "metadata": {},
   "outputs": [
    {
     "name": "stdout",
     "output_type": "stream",
     "text": [
      "[[[39]\n",
      "  [30]\n",
      "  [22]\n",
      "  [67]]\n",
      "\n",
      " [[58]\n",
      "  [53]\n",
      "  [25]\n",
      "  [52]]\n",
      "\n",
      " [[38]\n",
      "  [60]\n",
      "  [65]\n",
      "  [42]]]\n"
     ]
    }
   ],
   "source": [
    "print(arr1[:: , :: , 3::])"
   ]
  },
  {
   "cell_type": "code",
   "execution_count": 241,
   "id": "678a236a",
   "metadata": {},
   "outputs": [
    {
     "name": "stdout",
     "output_type": "stream",
     "text": [
      "[[[39]\n",
      "  [30]]\n",
      "\n",
      " [[38]\n",
      "  [60]]]\n"
     ]
    }
   ],
   "source": [
    "print(arr1[::2 , :2: , 3::])"
   ]
  },
  {
   "cell_type": "code",
   "execution_count": 242,
   "id": "26f016c2",
   "metadata": {},
   "outputs": [
    {
     "name": "stdout",
     "output_type": "stream",
     "text": [
      "[[[11 12]\n",
      "  [55 50]]\n",
      "\n",
      " [[60 26]\n",
      "  [39 37]]]\n"
     ]
    }
   ],
   "source": [
    "print(arr1[:2: , 2:: , 1:3:])"
   ]
  },
  {
   "cell_type": "code",
   "execution_count": 244,
   "id": "7782e24a",
   "metadata": {},
   "outputs": [
    {
     "data": {
      "text/plain": [
       "array([[ 59, 162,  94, 159, 155, 101, 166],\n",
       "       [151,  93, 156,  47,  42, 123, 168],\n",
       "       [161, 164,  72,  90, 118, 108, 163],\n",
       "       [159,  29,  85,  83,  44,  79,  23],\n",
       "       [150,  82,  30, 163, 137, 143,  52],\n",
       "       [ 93, 153, 171,  71,  79,  25,  46],\n",
       "       [ 65,  98,  48,  74, 102, 131, 137]])"
      ]
     },
     "execution_count": 244,
     "metadata": {},
     "output_type": "execute_result"
    }
   ],
   "source": [
    "np.random.seed(1)\n",
    "varr = np.random.randint(22,172,49).reshape(7,7)\n",
    "varr"
   ]
  },
  {
   "cell_type": "code",
   "execution_count": 245,
   "id": "3bb2cc25",
   "metadata": {},
   "outputs": [
    {
     "data": {
      "text/plain": [
       "array([137,  25, 137,  83,  72,  93,  59])"
      ]
     },
     "execution_count": 245,
     "metadata": {},
     "output_type": "execute_result"
    }
   ],
   "source": [
    "np.diag(varr)[::-1]"
   ]
  },
  {
   "cell_type": "code",
   "execution_count": 246,
   "id": "69acf462",
   "metadata": {},
   "outputs": [
    {
     "data": {
      "text/plain": [
       "array([ 59,  93,  72,  83, 137,  25, 137])"
      ]
     },
     "execution_count": 246,
     "metadata": {},
     "output_type": "execute_result"
    }
   ],
   "source": [
    "np.diag(varr)"
   ]
  },
  {
   "cell_type": "markdown",
   "id": "73a3880f",
   "metadata": {},
   "source": [
    "##### Now Now Now, You can see in Below code that in diagonal it is possible that we can extract the diagonal from {right-top-left-bottom}"
   ]
  },
  {
   "cell_type": "code",
   "execution_count": 247,
   "id": "ca4ab053",
   "metadata": {},
   "outputs": [
    {
     "data": {
      "text/plain": [
       "array([ 65, 153,  30,  83, 118, 123, 166])"
      ]
     },
     "execution_count": 247,
     "metadata": {},
     "output_type": "execute_result"
    }
   ],
   "source": [
    "np.diag(varr[::-1])[::]"
   ]
  },
  {
   "cell_type": "code",
   "execution_count": 248,
   "id": "db09aec3",
   "metadata": {},
   "outputs": [
    {
     "data": {
      "text/plain": [
       "array([166, 123, 118,  83,  30, 153,  65])"
      ]
     },
     "execution_count": 248,
     "metadata": {},
     "output_type": "execute_result"
    }
   ],
   "source": [
    "np.diag(varr[::-1])[::-1]"
   ]
  },
  {
   "cell_type": "markdown",
   "id": "f59a436d",
   "metadata": {},
   "source": [
    "### Array of Random Value\n",
    "- In numpy, we have a random module that is used to create array of random values in it random.random()\n",
    "- It generates a specified number of random values\n",
    "- The random valuws are always between 0 and 1\n",
    "##### Syntax:\n",
    "- np.random.random(number of values)"
   ]
  },
  {
   "cell_type": "code",
   "execution_count": 249,
   "id": "8aaab5d3",
   "metadata": {},
   "outputs": [
    {
     "data": {
      "text/plain": [
       "array([0.75014431, 0.98886109, 0.74816565, 0.28044399, 0.78927933,\n",
       "       0.10322601, 0.44789353, 0.9085955 , 0.29361415, 0.28777534,\n",
       "       0.13002857, 0.01936696, 0.67883553, 0.21162812, 0.26554666,\n",
       "       0.49157316, 0.05336255, 0.57411761, 0.14672857, 0.58930554,\n",
       "       0.69975836, 0.10233443, 0.41405599, 0.69440016])"
      ]
     },
     "execution_count": 249,
     "metadata": {},
     "output_type": "execute_result"
    }
   ],
   "source": [
    "x = np.random.random(24)\n",
    "x"
   ]
  },
  {
   "cell_type": "code",
   "execution_count": 250,
   "id": "10a88205",
   "metadata": {},
   "outputs": [
    {
     "data": {
      "text/plain": [
       "array([[[0.41417927, 0.04995346, 0.53589641],\n",
       "        [0.66379465, 0.51488911, 0.94459476],\n",
       "        [0.58655504, 0.90340192, 0.1374747 ],\n",
       "        [0.13927635, 0.80739129, 0.39767684]],\n",
       "\n",
       "       [[0.1653542 , 0.92750858, 0.34776586],\n",
       "        [0.7508121 , 0.72599799, 0.88330609],\n",
       "        [0.62367221, 0.75094243, 0.34889834],\n",
       "        [0.26992789, 0.89588622, 0.42809119]],\n",
       "\n",
       "       [[0.96484005, 0.6634415 , 0.62169572],\n",
       "        [0.11474597, 0.94948926, 0.44991213],\n",
       "        [0.57838961, 0.4081368 , 0.23702698],\n",
       "        [0.90337952, 0.57367949, 0.00287033]]])"
      ]
     },
     "execution_count": 250,
     "metadata": {},
     "output_type": "execute_result"
    }
   ],
   "source": [
    "i = np.random.random(36).reshape(3,4,3)\n",
    "i"
   ]
  },
  {
   "cell_type": "markdown",
   "id": "b1d09000",
   "metadata": {},
   "source": [
    "#### random.randint()\n",
    "- It returns a 1-D array of random numbers (integers) between a specified range\n",
    "##### Synatx:\n",
    "- np.random.randint(start, stop, number of values)\n",
    "- By default, both the start and the stop values are excluded"
   ]
  },
  {
   "cell_type": "code",
   "execution_count": 251,
   "id": "bc6cce15",
   "metadata": {},
   "outputs": [
    {
     "data": {
      "text/plain": [
       "array([[18, 11, 21, 17],\n",
       "       [ 6, 14, 18, 19],\n",
       "       [ 2, 21, 11,  1],\n",
       "       [ 8,  1, 20, 18]])"
      ]
     },
     "execution_count": 251,
     "metadata": {},
     "output_type": "execute_result"
    }
   ],
   "source": [
    "v = np.random.randint(1,22,16).reshape(4,4)\n",
    "v"
   ]
  },
  {
   "cell_type": "markdown",
   "id": "a7ba4512",
   "metadata": {},
   "source": [
    "### random.seed(random state)\n",
    "- It is used to set the random state of the randomized value\n",
    "- Random state is an integer number in the range 0 to (2**32)-1 "
   ]
  },
  {
   "cell_type": "code",
   "execution_count": 252,
   "id": "02227c73",
   "metadata": {},
   "outputs": [
    {
     "data": {
      "text/plain": [
       "array([[ 9, 36, 15,  0, 49, 28],\n",
       "       [25, 29, 48, 29, 49,  8],\n",
       "       [ 9,  0, 42, 40, 36, 16],\n",
       "       [36, 47, 11, 24, 43, 33],\n",
       "       [ 8, 36, 14, 49, 13,  5],\n",
       "       [13, 25, 13, 28, 22, 30]])"
      ]
     },
     "execution_count": 252,
     "metadata": {},
     "output_type": "execute_result"
    }
   ],
   "source": [
    "np.random.seed(10)\n",
    "arrr = np.random.randint(0,51,36).reshape(6,6)\n",
    "arrr"
   ]
  },
  {
   "cell_type": "code",
   "execution_count": 253,
   "id": "658979a9",
   "metadata": {},
   "outputs": [
    {
     "data": {
      "text/plain": [
       "array([[0.77132064, 0.02075195, 0.63364823, 0.74880388, 0.49850701,\n",
       "        0.22479665],\n",
       "       [0.19806286, 0.76053071, 0.16911084, 0.08833981, 0.68535982,\n",
       "        0.95339335],\n",
       "       [0.00394827, 0.51219226, 0.81262096, 0.61252607, 0.72175532,\n",
       "        0.29187607],\n",
       "       [0.91777412, 0.71457578, 0.54254437, 0.14217005, 0.37334076,\n",
       "        0.67413362],\n",
       "       [0.44183317, 0.43401399, 0.61776698, 0.51313824, 0.65039718,\n",
       "        0.60103895],\n",
       "       [0.8052232 , 0.52164715, 0.90864888, 0.31923609, 0.09045935,\n",
       "        0.30070006]])"
      ]
     },
     "execution_count": 253,
     "metadata": {},
     "output_type": "execute_result"
    }
   ],
   "source": [
    "np.random.seed(10)\n",
    "arr1 = np.random.rand(6,6)\n",
    "arr1"
   ]
  },
  {
   "cell_type": "code",
   "execution_count": 254,
   "id": "29fd3f0d",
   "metadata": {},
   "outputs": [
    {
     "data": {
      "text/plain": [
       "4294967295"
      ]
     },
     "execution_count": 254,
     "metadata": {},
     "output_type": "execute_result"
    }
   ],
   "source": [
    "(2**32)-1"
   ]
  },
  {
   "cell_type": "markdown",
   "id": "c78fae84",
   "metadata": {},
   "source": [
    "### random.normal()\n",
    "- It returns an array of random value those are normally distributed\n",
    "- Syntax: np.random.normal(mean, sd, size) "
   ]
  },
  {
   "cell_type": "code",
   "execution_count": 255,
   "id": "436a3103",
   "metadata": {},
   "outputs": [
    {
     "data": {
      "text/plain": [
       "array([22.53083318, 20.09543194, 27.23389232, 22.78005312, 23.60083995,\n",
       "       20.64947065, 27.02588906, 19.07212199, 24.6409262 , 20.59651243,\n",
       "       18.24226656, 20.04265113, 18.78163543, 21.14920945, 20.64343902,\n",
       "       23.24867975, 24.26061068, 21.41031897, 21.89637865, 23.15637682,\n",
       "       19.84048371, 24.83264008, 25.36889895, 22.81432319, 31.57881466,\n",
       "       25.66983575, 21.55091012, 20.55127821, 21.07127098, 19.9930844 ,\n",
       "       26.51514061, 19.20875988, 21.67551126, 19.88281568, 26.18473143,\n",
       "       16.32577588, 20.55000327, 21.51237724, 23.27742568, 23.84361161,\n",
       "       21.13684043, 25.95628983, 23.25901512, 31.87060423, 15.96671405,\n",
       "       24.48240265, 17.81946985, 18.80796473, 29.94033837, 28.97925659])"
      ]
     },
     "execution_count": 255,
     "metadata": {},
     "output_type": "execute_result"
    }
   ],
   "source": [
    "varry = np.random.normal(22, 4 , 50)\n",
    "varry"
   ]
  },
  {
   "cell_type": "markdown",
   "id": "b119ab84",
   "metadata": {},
   "source": [
    "### Functions in Array\n",
    "#### np.sum()\n",
    "- It returns the sum of the array.\n",
    "##### Syntax :\n",
    "- np.sum(arr , axis = 0)\n",
    "- arr.sum(axis = 0,1)\n",
    "    - axis = 0 ------> Interpreter reads the array from top to bottom which known as row wise operation.\n",
    "     - axis = 1 ------> Interpreter reads the array from left to right which known as column wise operation."
   ]
  },
  {
   "cell_type": "code",
   "execution_count": 256,
   "id": "b45a2234",
   "metadata": {},
   "outputs": [
    {
     "data": {
      "text/plain": [
       "array([ 6, 12, 13,  9, 10, 12,  6, 16,  1, 17,  2, 13,  8, 14])"
      ]
     },
     "execution_count": 256,
     "metadata": {},
     "output_type": "execute_result"
    }
   ],
   "source": [
    "np.random.seed(1)\n",
    "axxxiiss = np.random.randint(1,22,14)\n",
    "axxxiiss"
   ]
  },
  {
   "cell_type": "code",
   "execution_count": 257,
   "id": "7e8db78d",
   "metadata": {},
   "outputs": [
    {
     "data": {
      "text/plain": [
       "139"
      ]
     },
     "execution_count": 257,
     "metadata": {},
     "output_type": "execute_result"
    }
   ],
   "source": [
    "np.sum(axxxiiss, axis=0)"
   ]
  },
  {
   "cell_type": "code",
   "execution_count": 258,
   "id": "f3840fc6",
   "metadata": {},
   "outputs": [
    {
     "data": {
      "text/plain": [
       "139"
      ]
     },
     "execution_count": 258,
     "metadata": {},
     "output_type": "execute_result"
    }
   ],
   "source": [
    "axxxiiss.sum()"
   ]
  },
  {
   "cell_type": "code",
   "execution_count": 259,
   "id": "7b7430fc",
   "metadata": {},
   "outputs": [
    {
     "ename": "AxisError",
     "evalue": "axis 1 is out of bounds for array of dimension 1",
     "output_type": "error",
     "traceback": [
      "\u001b[1;31m---------------------------------------------------------------------------\u001b[0m",
      "\u001b[1;31mAxisError\u001b[0m                                 Traceback (most recent call last)",
      "Cell \u001b[1;32mIn[259], line 1\u001b[0m\n\u001b[1;32m----> 1\u001b[0m axxxiiss\u001b[38;5;241m.\u001b[39msum(axis \u001b[38;5;241m=\u001b[39m \u001b[38;5;241m1\u001b[39m)\n",
      "File \u001b[1;32m~\\anaconda3\\Lib\\site-packages\\numpy\\core\\_methods.py:49\u001b[0m, in \u001b[0;36m_sum\u001b[1;34m(a, axis, dtype, out, keepdims, initial, where)\u001b[0m\n\u001b[0;32m     47\u001b[0m \u001b[38;5;28;01mdef\u001b[39;00m \u001b[38;5;21m_sum\u001b[39m(a, axis\u001b[38;5;241m=\u001b[39m\u001b[38;5;28;01mNone\u001b[39;00m, dtype\u001b[38;5;241m=\u001b[39m\u001b[38;5;28;01mNone\u001b[39;00m, out\u001b[38;5;241m=\u001b[39m\u001b[38;5;28;01mNone\u001b[39;00m, keepdims\u001b[38;5;241m=\u001b[39m\u001b[38;5;28;01mFalse\u001b[39;00m,\n\u001b[0;32m     48\u001b[0m          initial\u001b[38;5;241m=\u001b[39m_NoValue, where\u001b[38;5;241m=\u001b[39m\u001b[38;5;28;01mTrue\u001b[39;00m):\n\u001b[1;32m---> 49\u001b[0m     \u001b[38;5;28;01mreturn\u001b[39;00m umr_sum(a, axis, dtype, out, keepdims, initial, where)\n",
      "\u001b[1;31mAxisError\u001b[0m: axis 1 is out of bounds for array of dimension 1"
     ]
    }
   ],
   "source": [
    "axxxiiss.sum(axis = 1)"
   ]
  },
  {
   "cell_type": "markdown",
   "id": "ead02fac",
   "metadata": {},
   "source": [
    "##### As you can see in upper code is giving error by out of bound for array of 1-D , axis = 0,1 is applicable in 2-D , 3-D"
   ]
  },
  {
   "cell_type": "code",
   "execution_count": 260,
   "id": "7b2666c8",
   "metadata": {},
   "outputs": [
    {
     "data": {
      "text/plain": [
       "array([[37, 43, 12,  8],\n",
       "       [ 9, 11,  5, 15],\n",
       "       [ 0, 16,  1, 12],\n",
       "       [ 7, 45,  6, 25]])"
      ]
     },
     "execution_count": 260,
     "metadata": {},
     "output_type": "execute_result"
    }
   ],
   "source": [
    "np.random.seed(1)\n",
    "i_ = np.random.randint(0,51,16).reshape(4,4)\n",
    "i_"
   ]
  },
  {
   "cell_type": "code",
   "execution_count": 261,
   "id": "eada755c",
   "metadata": {},
   "outputs": [
    {
     "data": {
      "text/plain": [
       "array([ 53, 115,  24,  60])"
      ]
     },
     "execution_count": 261,
     "metadata": {},
     "output_type": "execute_result"
    }
   ],
   "source": [
    "np.sum(i_ , axis= 0)"
   ]
  },
  {
   "cell_type": "code",
   "execution_count": 262,
   "id": "86f9f1bf",
   "metadata": {},
   "outputs": [
    {
     "data": {
      "text/plain": [
       "array([100,  40,  29,  83])"
      ]
     },
     "execution_count": 262,
     "metadata": {},
     "output_type": "execute_result"
    }
   ],
   "source": [
    "i_.sum(axis = 1)"
   ]
  },
  {
   "cell_type": "code",
   "execution_count": 263,
   "id": "7c73b311",
   "metadata": {},
   "outputs": [
    {
     "data": {
      "text/plain": [
       "array([[[40, 42, 27, 40],\n",
       "        [42, 33, 50, 32]],\n",
       "\n",
       "       [[50, 51, 36, 40],\n",
       "        [26, 45, 45, 31]]])"
      ]
     },
     "execution_count": 263,
     "metadata": {},
     "output_type": "execute_result"
    }
   ],
   "source": [
    "val = np.random.randint(22,52,16).reshape(2,2,4)\n",
    "val"
   ]
  },
  {
   "cell_type": "code",
   "execution_count": 264,
   "id": "aa46f5c3",
   "metadata": {},
   "outputs": [
    {
     "data": {
      "text/plain": [
       "array([[90, 93, 63, 80],\n",
       "       [68, 78, 95, 63]])"
      ]
     },
     "execution_count": 264,
     "metadata": {},
     "output_type": "execute_result"
    }
   ],
   "source": [
    "np.sum(val , axis=0)"
   ]
  },
  {
   "cell_type": "markdown",
   "id": "c4c3d800",
   "metadata": {},
   "source": [
    "### np.mean()\n",
    "- It returns the average (mean) of the array\n",
    "##### Syntax:\n",
    "- np.mean(arr, axis = 0,1)\n",
    "- arr.mean(axis = 0,1)"
   ]
  },
  {
   "cell_type": "code",
   "execution_count": 265,
   "id": "ac9478f4",
   "metadata": {},
   "outputs": [
    {
     "data": {
      "text/plain": [
       "array([[38, 44, 13,  9, 10, 12],\n",
       "       [ 6, 16,  1, 17,  2, 13],\n",
       "       [ 8, 46,  7, 26, 21, 38],\n",
       "       [19, 21, 12, 43, 29, 30],\n",
       "       [15,  5, 24, 24, 42, 50],\n",
       "       [31, 33, 23, 14, 42, 10]])"
      ]
     },
     "execution_count": 265,
     "metadata": {},
     "output_type": "execute_result"
    }
   ],
   "source": [
    "np.random.seed(1)\n",
    "arr = np.random.randint(1,51,36).reshape(6,6)\n",
    "arr"
   ]
  },
  {
   "cell_type": "code",
   "execution_count": 266,
   "id": "4abd397a",
   "metadata": {},
   "outputs": [
    {
     "data": {
      "text/plain": [
       "22.055555555555557"
      ]
     },
     "execution_count": 266,
     "metadata": {},
     "output_type": "execute_result"
    }
   ],
   "source": [
    "np.mean(arr) "
   ]
  },
  {
   "cell_type": "markdown",
   "id": "b19ddb77",
   "metadata": {},
   "source": [
    "#### To Calculate mean,\n",
    "- Formula : sum of array / no. of elements"
   ]
  },
  {
   "cell_type": "code",
   "execution_count": 267,
   "id": "dc211775",
   "metadata": {},
   "outputs": [
    {
     "name": "stdout",
     "output_type": "stream",
     "text": [
      "[19.5        27.5        13.33333333 22.16666667 24.33333333 25.5       ]\n",
      "--------------------------\n"
     ]
    },
    {
     "data": {
      "text/plain": [
       "19.5"
      ]
     },
     "execution_count": 267,
     "metadata": {},
     "output_type": "execute_result"
    }
   ],
   "source": [
    "print(np.mean(arr ,axis=0))\n",
    "print(\"--------------------------\")\n",
    "(38+\n",
    "6+\n",
    "8+\n",
    "19+\n",
    "15+\n",
    "31)/6\n",
    "# no of rows = 6"
   ]
  },
  {
   "cell_type": "code",
   "execution_count": 268,
   "id": "a144e1e6",
   "metadata": {},
   "outputs": [
    {
     "name": "stdout",
     "output_type": "stream",
     "text": [
      "[21.          9.16666667 24.33333333 25.66666667 26.66666667 25.5       ]\n",
      "--------------------------\n"
     ]
    },
    {
     "data": {
      "text/plain": [
       "21.0"
      ]
     },
     "execution_count": 268,
     "metadata": {},
     "output_type": "execute_result"
    }
   ],
   "source": [
    "print(np.mean(arr ,axis=1))\n",
    "print(\"--------------------------\")\n",
    "(38 + 44 + 13 + 9 + 10 + 12)/6\n",
    "# no of columns = 6"
   ]
  },
  {
   "cell_type": "markdown",
   "id": "8024b55b",
   "metadata": {},
   "source": [
    "### np.median()\n",
    "- It return the median of an array\n",
    "#### Syntax:\n",
    "- np.median(arr, axis = 0,1)"
   ]
  },
  {
   "cell_type": "code",
   "execution_count": 269,
   "id": "920e8196",
   "metadata": {},
   "outputs": [
    {
     "data": {
      "text/plain": [
       "array([[38, 44, 13,  9, 10, 12],\n",
       "       [ 6, 16,  1, 17,  2, 13],\n",
       "       [ 8, 46,  7, 26, 21, 38],\n",
       "       [19, 21, 12, 43, 29, 30],\n",
       "       [15,  5, 24, 24, 42, 50],\n",
       "       [31, 33, 23, 14, 42, 10]])"
      ]
     },
     "execution_count": 269,
     "metadata": {},
     "output_type": "execute_result"
    }
   ],
   "source": [
    "arr"
   ]
  },
  {
   "cell_type": "code",
   "execution_count": 270,
   "id": "7437cca8",
   "metadata": {},
   "outputs": [
    {
     "data": {
      "text/plain": [
       "array([17. , 27. , 12.5, 20.5, 25. , 21.5])"
      ]
     },
     "execution_count": 270,
     "metadata": {},
     "output_type": "execute_result"
    }
   ],
   "source": [
    "np.median(arr , axis = 0)"
   ]
  },
  {
   "cell_type": "code",
   "execution_count": 271,
   "id": "817764db",
   "metadata": {},
   "outputs": [
    {
     "name": "stdout",
     "output_type": "stream",
     "text": [
      "sorted of rows axis 6 + 8 + 15 + 19 + 31 + 38 :  17.0\n",
      "15 AND 19 are the sorted middle numbers of rows axis \n"
     ]
    }
   ],
   "source": [
    "print(\"sorted of rows axis 6 + 8 + 15 + 19 + 31 + 38 : \", (15 + 19)/2)\n",
    "print(\"15 AND 19 are the sorted middle numbers of rows axis \")"
   ]
  },
  {
   "cell_type": "code",
   "execution_count": 272,
   "id": "04723390",
   "metadata": {},
   "outputs": [
    {
     "data": {
      "text/plain": [
       "array([12.5,  9.5, 23.5, 25. , 24. , 27. ])"
      ]
     },
     "execution_count": 272,
     "metadata": {},
     "output_type": "execute_result"
    }
   ],
   "source": [
    "np.median(arr , axis = 1)"
   ]
  },
  {
   "cell_type": "code",
   "execution_count": 273,
   "id": "a0b0a726",
   "metadata": {},
   "outputs": [
    {
     "name": "stdout",
     "output_type": "stream",
     "text": [
      "sorted of columns axis 9 + 10 + 12 + 13 + 38 + 44 :  12.5\n",
      "12 AND 13 are the sorted middle numbers of columns axis \n"
     ]
    }
   ],
   "source": [
    "print(\"sorted of columns axis 9 + 10 + 12 + 13 + 38 + 44 : \", (12 + 13)/2)\n",
    "print(\"12 AND 13 are the sorted middle numbers of columns axis \")"
   ]
  },
  {
   "cell_type": "markdown",
   "id": "d1a611ea",
   "metadata": {},
   "source": [
    "#### Formula for median is : sorted middle indexes of (rows/columns) of an array /2"
   ]
  },
  {
   "cell_type": "markdown",
   "id": "54a767d1",
   "metadata": {},
   "source": [
    "### np.var()\n",
    "- It return the variance of the array\n",
    "#### Syntax:\n",
    "- np.var(arr, axis = 0,1)"
   ]
  },
  {
   "cell_type": "code",
   "execution_count": 275,
   "id": "a3d1e777",
   "metadata": {},
   "outputs": [
    {
     "data": {
      "text/plain": [
       "array([[38, 44, 13,  9],\n",
       "       [10, 12,  6, 16],\n",
       "       [ 1, 17,  2, 13],\n",
       "       [ 8, 46,  7, 26]])"
      ]
     },
     "execution_count": 275,
     "metadata": {},
     "output_type": "execute_result"
    }
   ],
   "source": [
    "np.random.seed(1)\n",
    "x = np.random.randint(1,51,16).reshape(4,4)\n",
    "x"
   ]
  },
  {
   "cell_type": "code",
   "execution_count": 277,
   "id": "39c85f9a",
   "metadata": {},
   "outputs": [
    {
     "data": {
      "text/plain": [
       "190.3125"
      ]
     },
     "execution_count": 277,
     "metadata": {},
     "output_type": "execute_result"
    }
   ],
   "source": [
    "x.var()"
   ]
  },
  {
   "cell_type": "code",
   "execution_count": 278,
   "id": "1480f6a8",
   "metadata": {},
   "outputs": [
    {
     "data": {
      "text/plain": [
       "array([199.1875, 236.1875,  15.5   ,  39.5   ])"
      ]
     },
     "execution_count": 278,
     "metadata": {},
     "output_type": "execute_result"
    }
   ],
   "source": [
    "np.var(x , axis=0)"
   ]
  },
  {
   "cell_type": "code",
   "execution_count": 279,
   "id": "7de5f4b0",
   "metadata": {},
   "outputs": [
    {
     "data": {
      "text/plain": [
       "array([14.25, 29.75,  7.  , 16.  ])"
      ]
     },
     "execution_count": 279,
     "metadata": {},
     "output_type": "execute_result"
    }
   ],
   "source": [
    "np.mean(x , axis=0)"
   ]
  },
  {
   "cell_type": "code",
   "execution_count": 280,
   "id": "0c01bb73",
   "metadata": {},
   "outputs": [
    {
     "data": {
      "text/plain": [
       "16.75"
      ]
     },
     "execution_count": 280,
     "metadata": {},
     "output_type": "execute_result"
    }
   ],
   "source": [
    "np.mean(x)"
   ]
  },
  {
   "cell_type": "code",
   "execution_count": 281,
   "id": "1c0ea62d",
   "metadata": {},
   "outputs": [
    {
     "data": {
      "text/plain": [
       "array([231.5   ,  13.    ,  47.6875, 253.1875])"
      ]
     },
     "execution_count": 281,
     "metadata": {},
     "output_type": "execute_result"
    }
   ],
   "source": [
    "np.var(x , axis=1)"
   ]
  },
  {
   "cell_type": "code",
   "execution_count": 282,
   "id": "becddc8a",
   "metadata": {},
   "outputs": [
    {
     "data": {
      "text/plain": [
       "array([26.  , 11.  ,  8.25, 21.75])"
      ]
     },
     "execution_count": 282,
     "metadata": {},
     "output_type": "execute_result"
    }
   ],
   "source": [
    "np.mean(x , axis=1)"
   ]
  },
  {
   "cell_type": "markdown",
   "id": "a8f44e6a",
   "metadata": {},
   "source": [
    "#### Formula : Number of axis(0 (rows),1(Columns)) - Mean of axis(0(rows) ,1(columns))**2 + That whole axis(0,1) / number of layers or array"
   ]
  },
  {
   "cell_type": "code",
   "execution_count": 283,
   "id": "5b900b55",
   "metadata": {},
   "outputs": [
    {
     "data": {
      "text/plain": [
       "199.1875"
      ]
     },
     "execution_count": 283,
     "metadata": {},
     "output_type": "execute_result"
    }
   ],
   "source": [
    "((38-14.25)**2 + (10-14.25)**2 +(1-14.25)**2 +(8-14.25)**2)/4"
   ]
  },
  {
   "cell_type": "code",
   "execution_count": 284,
   "id": "4538cca2",
   "metadata": {},
   "outputs": [
    {
     "data": {
      "text/plain": [
       "231.5"
      ]
     },
     "execution_count": 284,
     "metadata": {},
     "output_type": "execute_result"
    }
   ],
   "source": [
    "((38-26)**2 + (44-26)**2 +(13-26)**2 +(9-26)**2)/4"
   ]
  },
  {
   "cell_type": "markdown",
   "id": "a99fa0c5",
   "metadata": {},
   "source": [
    "### np.std()\n",
    "- It returns the standard deviation of an array\n",
    "#### Syntax:\n",
    "- np.std(arr, axis = 0,1)"
   ]
  },
  {
   "cell_type": "code",
   "execution_count": 285,
   "id": "7951ccf8",
   "metadata": {},
   "outputs": [
    {
     "data": {
      "text/plain": [
       "array([[ 6, 12, 13,  9, 10],\n",
       "       [12,  6, 16,  1, 17],\n",
       "       [ 2, 13,  8, 14, 29],\n",
       "       [ 7, 26, 19, 21,  6],\n",
       "       [19, 21, 12, 29, 11]])"
      ]
     },
     "execution_count": 285,
     "metadata": {},
     "output_type": "execute_result"
    }
   ],
   "source": [
    "np.random.seed(1)\n",
    "axisss = np.random.randint(1,30,25).reshape(5,5)\n",
    "axisss"
   ]
  },
  {
   "cell_type": "code",
   "execution_count": 286,
   "id": "3690f7ac",
   "metadata": {},
   "outputs": [
    {
     "name": "stdout",
     "output_type": "stream",
     "text": [
      "[ 9.2 15.6 13.6 14.8 14.6]\n",
      "[34.16 49.84 13.84 92.96 64.24]\n"
     ]
    }
   ],
   "source": [
    "v = np.mean(axisss , axis=0)\n",
    "c = np.var(axisss , axis=0)\n",
    "print(v)\n",
    "print(c)"
   ]
  },
  {
   "cell_type": "markdown",
   "id": "1dc59744",
   "metadata": {},
   "source": [
    "#### Solving of Variances"
   ]
  },
  {
   "cell_type": "code",
   "execution_count": 287,
   "id": "d34cf906",
   "metadata": {},
   "outputs": [
    {
     "data": {
      "text/plain": [
       "34.160000000000004"
      ]
     },
     "execution_count": 287,
     "metadata": {},
     "output_type": "execute_result"
    }
   ],
   "source": [
    "((6-9.2)**2 + (12-9.2)**2 + (2-9.2)**2 + (7-9.2)**2 + (19-9.2)**2)/5"
   ]
  },
  {
   "cell_type": "code",
   "execution_count": 288,
   "id": "bdbd2cc7",
   "metadata": {},
   "outputs": [
    {
     "data": {
      "text/plain": [
       "array([5.84465568, 7.05974504, 3.72021505, 9.64157663, 8.01498596])"
      ]
     },
     "execution_count": 288,
     "metadata": {},
     "output_type": "execute_result"
    }
   ],
   "source": [
    "np.std(axisss , axis= 0)"
   ]
  },
  {
   "cell_type": "markdown",
   "id": "6d159540",
   "metadata": {},
   "source": [
    "#### Formula : sqrt(variance of axis (0,1))"
   ]
  },
  {
   "cell_type": "code",
   "execution_count": 291,
   "id": "aea844c2",
   "metadata": {},
   "outputs": [],
   "source": [
    "import math"
   ]
  },
  {
   "cell_type": "code",
   "execution_count": 292,
   "id": "393427c2",
   "metadata": {},
   "outputs": [
    {
     "data": {
      "text/plain": [
       "5.844655678480983"
      ]
     },
     "execution_count": 292,
     "metadata": {},
     "output_type": "execute_result"
    }
   ],
   "source": [
    "math.sqrt(34.16)"
   ]
  },
  {
   "cell_type": "markdown",
   "id": "1f25da2b",
   "metadata": {},
   "source": [
    "#### Note : For finding Standard Deviation : 1. We have to first find the mean(np.mean()) of the array of axis(0,1)\n",
    "#### 2. After that from mean we have to find the variance(np.var()) of the array of axis(0,1)\n",
    "#### 3. Afterwards from that We have to do square of variances of that particular axis(0,1) for standard deviation(np.std()) we have to find."
   ]
  },
  {
   "cell_type": "code",
   "execution_count": 293,
   "id": "76994b1f",
   "metadata": {},
   "outputs": [
    {
     "data": {
      "text/plain": [
       "array([[ 6, 12, 13,  9, 10],\n",
       "       [12,  6, 16,  1, 17],\n",
       "       [ 2, 13,  8, 14,  7],\n",
       "       [19, 21,  6, 19, 21],\n",
       "       [12, 11, 15, 19,  5]])"
      ]
     },
     "execution_count": 293,
     "metadata": {},
     "output_type": "execute_result"
    }
   ],
   "source": [
    "np.random.seed(1)\n",
    "garryy=np.random.randint(1,22,25).reshape(5,5)\n",
    "garryy"
   ]
  },
  {
   "cell_type": "code",
   "execution_count": 294,
   "id": "2bf4f643",
   "metadata": {},
   "outputs": [
    {
     "name": "stdout",
     "output_type": "stream",
     "text": [
      "11.76\n",
      "31.862399999999997\n",
      "5.644678910265844\n"
     ]
    }
   ],
   "source": [
    "print(np.mean(garryy))\n",
    "print(np.var(garryy))\n",
    "print(np.std(garryy))"
   ]
  },
  {
   "cell_type": "code",
   "execution_count": 295,
   "id": "e4600c4c",
   "metadata": {},
   "outputs": [
    {
     "data": {
      "text/plain": [
       "5.644732057414213"
      ]
     },
     "execution_count": 295,
     "metadata": {},
     "output_type": "execute_result"
    }
   ],
   "source": [
    "math.sqrt(31.8629999999997)"
   ]
  },
  {
   "cell_type": "markdown",
   "id": "38cc45c2",
   "metadata": {},
   "source": [
    "### np.min()\n",
    "- It return the minimum value of the arary\n",
    "#### Syntax:\n",
    "- np.min(arr, axis = 0,1)"
   ]
  },
  {
   "cell_type": "code",
   "execution_count": 296,
   "id": "348a5ce2",
   "metadata": {},
   "outputs": [
    {
     "data": {
      "text/plain": [
       "array([[ 6, 12, 13,  9, 10],\n",
       "       [12,  6, 16,  1, 17],\n",
       "       [ 2, 13,  8, 14,  7],\n",
       "       [19, 21,  6, 19, 21],\n",
       "       [12, 11, 15, 19,  5]])"
      ]
     },
     "execution_count": 296,
     "metadata": {},
     "output_type": "execute_result"
    }
   ],
   "source": [
    "garryy"
   ]
  },
  {
   "cell_type": "code",
   "execution_count": 297,
   "id": "e7387683",
   "metadata": {},
   "outputs": [
    {
     "data": {
      "text/plain": [
       "1"
      ]
     },
     "execution_count": 297,
     "metadata": {},
     "output_type": "execute_result"
    }
   ],
   "source": [
    "np.min(garryy)"
   ]
  },
  {
   "cell_type": "markdown",
   "id": "35819b40",
   "metadata": {},
   "source": [
    "#### As you can see in below it shows that by finding np.min() we find minimum value and  checks the all the axis of 0 (rows) of the array and give each value from each row specifically minimum value."
   ]
  },
  {
   "cell_type": "code",
   "execution_count": 298,
   "id": "46d6d67d",
   "metadata": {},
   "outputs": [
    {
     "data": {
      "text/plain": [
       "array([2, 6, 6, 1, 5])"
      ]
     },
     "execution_count": 298,
     "metadata": {},
     "output_type": "execute_result"
    }
   ],
   "source": [
    "np.min(garryy, axis=0)"
   ]
  },
  {
   "cell_type": "code",
   "execution_count": 299,
   "id": "4466bc68",
   "metadata": {},
   "outputs": [
    {
     "data": {
      "text/plain": [
       "array([6, 1, 2, 6, 5])"
      ]
     },
     "execution_count": 299,
     "metadata": {},
     "output_type": "execute_result"
    }
   ],
   "source": [
    "np.min(garryy, axis=1)"
   ]
  },
  {
   "cell_type": "markdown",
   "id": "64ba1449",
   "metadata": {},
   "source": [
    "### np.max()\n",
    "- It return the maximum value of the arary\n",
    "#### Syntax:\n",
    "- np.max(arr, axis = 0,1)"
   ]
  },
  {
   "cell_type": "code",
   "execution_count": 300,
   "id": "db8120a1",
   "metadata": {},
   "outputs": [
    {
     "data": {
      "text/plain": [
       "array([[ 6, 12, 13,  9, 10],\n",
       "       [12,  6, 16,  1, 17],\n",
       "       [ 2, 13,  8, 14,  7],\n",
       "       [19, 21,  6, 19, 21],\n",
       "       [12, 11, 15, 19,  5]])"
      ]
     },
     "execution_count": 300,
     "metadata": {},
     "output_type": "execute_result"
    }
   ],
   "source": [
    "garryy"
   ]
  },
  {
   "cell_type": "code",
   "execution_count": 301,
   "id": "99c045d8",
   "metadata": {},
   "outputs": [
    {
     "data": {
      "text/plain": [
       "21"
      ]
     },
     "execution_count": 301,
     "metadata": {},
     "output_type": "execute_result"
    }
   ],
   "source": [
    "np.max(garryy)"
   ]
  },
  {
   "cell_type": "markdown",
   "id": "8e482d25",
   "metadata": {},
   "source": [
    "#### As you can see in below it shows that by finding np.max() we find maximum value and it checks the all the axis of 0 (rows) of the array and give each value from each row specifically"
   ]
  },
  {
   "cell_type": "code",
   "execution_count": 302,
   "id": "daa779f7",
   "metadata": {},
   "outputs": [
    {
     "data": {
      "text/plain": [
       "array([19, 21, 16, 19, 21])"
      ]
     },
     "execution_count": 302,
     "metadata": {},
     "output_type": "execute_result"
    }
   ],
   "source": [
    "np.max(garryy, axis=0)"
   ]
  },
  {
   "cell_type": "code",
   "execution_count": 304,
   "id": "7b952387",
   "metadata": {},
   "outputs": [
    {
     "data": {
      "text/plain": [
       "array([13, 17, 14, 21, 19])"
      ]
     },
     "execution_count": 304,
     "metadata": {},
     "output_type": "execute_result"
    }
   ],
   "source": [
    "np.max(garryy, axis=1)"
   ]
  },
  {
   "cell_type": "markdown",
   "id": "9d261b8e",
   "metadata": {},
   "source": [
    "### np.percentile()\n",
    "- It return the specified percentile value of the array"
   ]
  },
  {
   "cell_type": "code",
   "execution_count": 305,
   "id": "7ec9707c",
   "metadata": {},
   "outputs": [
    {
     "data": {
      "text/plain": [
       "array([[ 6, 12, 13,  9, 10],\n",
       "       [12,  6, 16,  1, 17],\n",
       "       [ 2, 13,  8, 14,  7],\n",
       "       [19, 21,  6, 19, 21],\n",
       "       [12, 11, 15, 19,  5]])"
      ]
     },
     "execution_count": 305,
     "metadata": {},
     "output_type": "execute_result"
    }
   ],
   "source": [
    "garryy"
   ]
  },
  {
   "cell_type": "code",
   "execution_count": 306,
   "id": "e4919748",
   "metadata": {},
   "outputs": [
    {
     "data": {
      "text/plain": [
       "5.4"
      ]
     },
     "execution_count": 306,
     "metadata": {},
     "output_type": "execute_result"
    }
   ],
   "source": [
    "np.percentile(garryy,10)"
   ]
  },
  {
   "cell_type": "code",
   "execution_count": 310,
   "id": "0cdae2b7",
   "metadata": {},
   "outputs": [
    {
     "data": {
      "text/plain": [
       "5"
      ]
     },
     "execution_count": 310,
     "metadata": {},
     "output_type": "execute_result"
    }
   ],
   "source": [
    "len(garryy)"
   ]
  },
  {
   "cell_type": "code",
   "execution_count": 311,
   "id": "c0e6a67e",
   "metadata": {},
   "outputs": [
    {
     "data": {
      "text/plain": [
       "4.040000000000001"
      ]
     },
     "execution_count": 311,
     "metadata": {},
     "output_type": "execute_result"
    }
   ],
   "source": [
    "np.percentile(garryy , 7)"
   ]
  },
  {
   "cell_type": "code",
   "execution_count": 312,
   "id": "50c5c3a6",
   "metadata": {},
   "outputs": [
    {
     "data": {
      "text/plain": [
       "array([ 6, 12, 13,  9, 10, 12,  6, 16,  1, 17,  2, 13,  8, 14,  7, 19, 21,\n",
       "        6, 19, 21, 12, 11, 15, 19,  5])"
      ]
     },
     "execution_count": 312,
     "metadata": {},
     "output_type": "execute_result"
    }
   ],
   "source": [
    "a = garryy.flatten()\n",
    "a"
   ]
  },
  {
   "cell_type": "code",
   "execution_count": 313,
   "id": "00861ac2",
   "metadata": {},
   "outputs": [
    {
     "data": {
      "text/plain": [
       "array([ 1,  2,  5,  6,  6,  6,  7,  8,  9, 10, 11, 12, 12, 12, 13, 13, 14,\n",
       "       15, 16, 17, 19, 19, 19, 21, 21])"
      ]
     },
     "execution_count": 313,
     "metadata": {},
     "output_type": "execute_result"
    }
   ],
   "source": [
    "np.sort(a)"
   ]
  },
  {
   "cell_type": "markdown",
   "id": "4c3d16df",
   "metadata": {},
   "source": [
    "### astype() :\n",
    "- it typecast one daya type to another."
   ]
  },
  {
   "cell_type": "code",
   "execution_count": 2,
   "id": "e9977043",
   "metadata": {},
   "outputs": [],
   "source": [
    "import numpy as np"
   ]
  },
  {
   "cell_type": "code",
   "execution_count": 3,
   "id": "7083c307",
   "metadata": {},
   "outputs": [
    {
     "data": {
      "text/plain": [
       "array([ 2. ,  3.8,  8. , 89. , 77.3, 66.5, 33.2, 12.3, 45. ])"
      ]
     },
     "execution_count": 3,
     "metadata": {},
     "output_type": "execute_result"
    }
   ],
   "source": [
    "arr1=np.array([2,3.8,8,89,77.3,66.5,33.2,12.3,45])\n",
    "arr1"
   ]
  },
  {
   "cell_type": "code",
   "execution_count": 4,
   "id": "613e1cac",
   "metadata": {},
   "outputs": [
    {
     "data": {
      "text/plain": [
       "array([ 2,  3,  8, 89, 77, 66, 33, 12, 45])"
      ]
     },
     "execution_count": 4,
     "metadata": {},
     "output_type": "execute_result"
    }
   ],
   "source": [
    "arr1.astype(int)"
   ]
  },
  {
   "cell_type": "code",
   "execution_count": 5,
   "id": "6aa895b4",
   "metadata": {},
   "outputs": [
    {
     "data": {
      "text/plain": [
       "array([ 2. +0.j,  3.8+0.j,  8. +0.j, 89. +0.j, 77.3+0.j, 66.5+0.j,\n",
       "       33.2+0.j, 12.3+0.j, 45. +0.j])"
      ]
     },
     "execution_count": 5,
     "metadata": {},
     "output_type": "execute_result"
    }
   ],
   "source": [
    "arr1.astype(complex)"
   ]
  },
  {
   "cell_type": "code",
   "execution_count": 6,
   "id": "a91ef743",
   "metadata": {},
   "outputs": [
    {
     "data": {
      "text/plain": [
       "array([ 2. ,  3.8,  8. , 89. , 77.3, 66.5, 33.2, 12.3, 45. ])"
      ]
     },
     "execution_count": 6,
     "metadata": {},
     "output_type": "execute_result"
    }
   ],
   "source": [
    "arr1.astype(float)"
   ]
  },
  {
   "cell_type": "code",
   "execution_count": 8,
   "id": "b777ce10",
   "metadata": {},
   "outputs": [
    {
     "data": {
      "text/plain": [
       "array(['2.0', '3.8', '8.0', '89.0', '77.3', '66.5', '33.2', '12.3',\n",
       "       '45.0'], dtype='<U32')"
      ]
     },
     "execution_count": 8,
     "metadata": {},
     "output_type": "execute_result"
    }
   ],
   "source": [
    "arr1.astype(str)"
   ]
  },
  {
   "cell_type": "code",
   "execution_count": 9,
   "id": "401d1a96",
   "metadata": {},
   "outputs": [
    {
     "data": {
      "text/plain": [
       "array([2.0, 3.8, 8.0, 89.0, 77.3, 66.5, 33.2, 12.3, 45.0], dtype=object)"
      ]
     },
     "execution_count": 9,
     "metadata": {},
     "output_type": "execute_result"
    }
   ],
   "source": [
    "arr1.astype(set)"
   ]
  },
  {
   "cell_type": "code",
   "execution_count": 10,
   "id": "4d580b78",
   "metadata": {},
   "outputs": [
    {
     "data": {
      "text/plain": [
       "array([2.0, 3.8, 8.0, 89.0, 77.3, 66.5, 33.2, 12.3, 45.0], dtype=object)"
      ]
     },
     "execution_count": 10,
     "metadata": {},
     "output_type": "execute_result"
    }
   ],
   "source": [
    "arr1.astype(list)"
   ]
  },
  {
   "cell_type": "code",
   "execution_count": 11,
   "id": "8ad4912e",
   "metadata": {},
   "outputs": [
    {
     "data": {
      "text/plain": [
       "array([ True,  True,  True,  True,  True,  True,  True,  True,  True])"
      ]
     },
     "execution_count": 11,
     "metadata": {},
     "output_type": "execute_result"
    }
   ],
   "source": [
    "arr1.astype(bool)"
   ]
  },
  {
   "cell_type": "markdown",
   "id": "bfdae97e",
   "metadata": {},
   "source": [
    "### Null Values in NUMPY\n",
    "- In Python normal null value represent by the NONE\n",
    "- But in Numpy library We can represent the null value by np.nan\n",
    "- by default np.nan is 1 ----> which means that np.nan is true by default.\n",
    "- NAN stands for Not A Number\n",
    "- By default np.nan gives value in float datatype."
   ]
  },
  {
   "cell_type": "code",
   "execution_count": 12,
   "id": "89fb5176",
   "metadata": {},
   "outputs": [
    {
     "name": "stdout",
     "output_type": "stream",
     "text": [
      "None <class 'NoneType'>\n"
     ]
    }
   ],
   "source": [
    "a=None\n",
    "print(a,type(a))"
   ]
  },
  {
   "cell_type": "code",
   "execution_count": 13,
   "id": "bb1d5c52",
   "metadata": {},
   "outputs": [
    {
     "name": "stdout",
     "output_type": "stream",
     "text": [
      "[nan] <class 'numpy.ndarray'>\n"
     ]
    }
   ],
   "source": [
    "arr1=np.array([np.nan])\n",
    "print(arr1, type(arr1))"
   ]
  },
  {
   "cell_type": "code",
   "execution_count": 14,
   "id": "54eb74f7",
   "metadata": {},
   "outputs": [
    {
     "data": {
      "text/plain": [
       "dtype('float64')"
      ]
     },
     "execution_count": 14,
     "metadata": {},
     "output_type": "execute_result"
    }
   ],
   "source": [
    "arr1.dtype"
   ]
  },
  {
   "cell_type": "code",
   "execution_count": 15,
   "id": "2524cbac",
   "metadata": {},
   "outputs": [
    {
     "data": {
      "text/plain": [
       "array([[12., 34., nan],\n",
       "       [32., nan, 45.],\n",
       "       [67., nan, 99.]])"
      ]
     },
     "execution_count": 15,
     "metadata": {},
     "output_type": "execute_result"
    }
   ],
   "source": [
    "arr2 = np.array([12, 34, np.nan , 32 , np.nan , 45 , 67, np.nan , 99 ]).reshape(3,3)\n",
    "arr2"
   ]
  },
  {
   "cell_type": "markdown",
   "id": "e4fc443c",
   "metadata": {},
   "source": [
    "#### As you can see now by default array is in float data type. because of np.nan"
   ]
  },
  {
   "cell_type": "code",
   "execution_count": 16,
   "id": "e013f14b",
   "metadata": {},
   "outputs": [
    {
     "data": {
      "text/plain": [
       "dtype('float64')"
      ]
     },
     "execution_count": 16,
     "metadata": {},
     "output_type": "execute_result"
    }
   ],
   "source": [
    "arr2.dtype"
   ]
  },
  {
   "cell_type": "markdown",
   "id": "a9c0b584",
   "metadata": {},
   "source": [
    "### Operations on Null Values\n",
    "- Count the number of null values in array.\n",
    "- Accessing the null values from an array.\n",
    "- Count the non null values in the array.\n",
    "- Accessing the non null values from an array.\n",
    "- Replacing the null values in the array.\n",
    "##### np.isnan()\n",
    "- It checks for nan values and returns a boolean array, where True means the null value is\n",
    "present and False means the non-null values is present"
   ]
  },
  {
   "cell_type": "code",
   "execution_count": 17,
   "id": "0283f586",
   "metadata": {},
   "outputs": [
    {
     "data": {
      "text/plain": [
       "array([[12., 34., nan],\n",
       "       [32., nan, 45.],\n",
       "       [67., nan, 99.]])"
      ]
     },
     "execution_count": 17,
     "metadata": {},
     "output_type": "execute_result"
    }
   ],
   "source": [
    "arr2"
   ]
  },
  {
   "cell_type": "code",
   "execution_count": 18,
   "id": "a93ea9b7",
   "metadata": {},
   "outputs": [
    {
     "data": {
      "text/plain": [
       "array([[False, False,  True],\n",
       "       [False,  True, False],\n",
       "       [False,  True, False]])"
      ]
     },
     "execution_count": 18,
     "metadata": {},
     "output_type": "execute_result"
    }
   ],
   "source": [
    "np.isnan(arr2)"
   ]
  },
  {
   "cell_type": "markdown",
   "id": "9afdfd3e",
   "metadata": {},
   "source": [
    "###  Count the null values and Non null values inside the array\n",
    "##### Syntax :\n",
    "- np.isnan().sum() ----- For Null values\n",
    "- (~ np.isnan()).sum() ----- For non Null Values"
   ]
  },
  {
   "cell_type": "code",
   "execution_count": 19,
   "id": "937d020f",
   "metadata": {},
   "outputs": [
    {
     "data": {
      "text/plain": [
       "array([[12., 34., nan],\n",
       "       [32., nan, 45.],\n",
       "       [67., nan, 99.]])"
      ]
     },
     "execution_count": 19,
     "metadata": {},
     "output_type": "execute_result"
    }
   ],
   "source": [
    "arr2"
   ]
  },
  {
   "cell_type": "code",
   "execution_count": 20,
   "id": "11d06464",
   "metadata": {},
   "outputs": [
    {
     "data": {
      "text/plain": [
       "array([[False, False,  True],\n",
       "       [False,  True, False],\n",
       "       [False,  True, False]])"
      ]
     },
     "execution_count": 20,
     "metadata": {},
     "output_type": "execute_result"
    }
   ],
   "source": [
    "np.isnan(arr2)"
   ]
  },
  {
   "cell_type": "code",
   "execution_count": 21,
   "id": "cbf4c7e2",
   "metadata": {},
   "outputs": [
    {
     "data": {
      "text/plain": [
       "3"
      ]
     },
     "execution_count": 21,
     "metadata": {},
     "output_type": "execute_result"
    }
   ],
   "source": [
    "np.isnan(arr2).sum()"
   ]
  },
  {
   "cell_type": "code",
   "execution_count": 22,
   "id": "fbefba6e",
   "metadata": {},
   "outputs": [
    {
     "data": {
      "text/plain": [
       "6"
      ]
     },
     "execution_count": 22,
     "metadata": {},
     "output_type": "execute_result"
    }
   ],
   "source": [
    "(~np.isnan(arr2)).sum()"
   ]
  },
  {
   "cell_type": "code",
   "execution_count": 23,
   "id": "ee5fbb5e",
   "metadata": {},
   "outputs": [
    {
     "data": {
      "text/plain": [
       "6"
      ]
     },
     "execution_count": 23,
     "metadata": {},
     "output_type": "execute_result"
    }
   ],
   "source": [
    "(np.isnan(arr2)== False).sum()"
   ]
  },
  {
   "cell_type": "code",
   "execution_count": 24,
   "id": "791d9a7b",
   "metadata": {},
   "outputs": [
    {
     "data": {
      "text/plain": [
       "6"
      ]
     },
     "execution_count": 24,
     "metadata": {},
     "output_type": "execute_result"
    }
   ],
   "source": [
    "len(arr2[np.isnan(arr2) == False])"
   ]
  },
  {
   "cell_type": "code",
   "execution_count": 25,
   "id": "e676d738",
   "metadata": {},
   "outputs": [
    {
     "data": {
      "text/plain": [
       "array([nan, nan, nan])"
      ]
     },
     "execution_count": 25,
     "metadata": {},
     "output_type": "execute_result"
    }
   ],
   "source": [
    "arr2[np.isnan(arr2) == True]"
   ]
  },
  {
   "cell_type": "code",
   "execution_count": 26,
   "id": "faa879ae",
   "metadata": {},
   "outputs": [
    {
     "data": {
      "text/plain": [
       "array([12., 34., 32., 45., 67., 99.])"
      ]
     },
     "execution_count": 26,
     "metadata": {},
     "output_type": "execute_result"
    }
   ],
   "source": [
    "arr2[(~np.isnan(arr2) == True)]"
   ]
  },
  {
   "cell_type": "markdown",
   "id": "7422c771",
   "metadata": {},
   "source": [
    "### Accessing the null values from an array\n",
    "##### Syntax :\n",
    "- np.where(condition)\n",
    "- np.where(condition)\n",
    "- It helps to fetch the values based on some conditions\n",
    "- It returns the index of the element where the condition is True\n",
    "- To fetch the element we pass np.where () as the index to the array object"
   ]
  },
  {
   "cell_type": "code",
   "execution_count": 27,
   "id": "c8de5f9c",
   "metadata": {},
   "outputs": [
    {
     "data": {
      "text/plain": [
       "array([[12., 34., nan],\n",
       "       [32., nan, 45.],\n",
       "       [67., nan, 99.]])"
      ]
     },
     "execution_count": 27,
     "metadata": {},
     "output_type": "execute_result"
    }
   ],
   "source": [
    "arr2"
   ]
  },
  {
   "cell_type": "code",
   "execution_count": 28,
   "id": "9aa7e878",
   "metadata": {},
   "outputs": [
    {
     "data": {
      "text/plain": [
       "(array([0, 1, 2], dtype=int64), array([2, 1, 1], dtype=int64))"
      ]
     },
     "execution_count": 28,
     "metadata": {},
     "output_type": "execute_result"
    }
   ],
   "source": [
    "np.where(np.isnan(arr2))"
   ]
  },
  {
   "cell_type": "markdown",
   "id": "93765c4d",
   "metadata": {},
   "source": [
    "#### As you can see in above code that it is returning two arrays first tarray tells us about the layers or lists in the array by indexing numbers and the another array states the position where nan values are there.\n",
    "#### As you can see at 0th list --- at 2nd position there is an nan value."
   ]
  },
  {
   "cell_type": "code",
   "execution_count": 30,
   "id": "3e19aef0",
   "metadata": {},
   "outputs": [
    {
     "data": {
      "text/plain": [
       "array([[38, 44, 13,  9, 10, 12,  6, 16,  1],\n",
       "       [17,  2, 13,  8, 46,  7, 26, 21, 38],\n",
       "       [19, 21, 12, 43, 29, 30, 15,  5, 24],\n",
       "       [24, 42, 50, 31, 33, 23, 14, 42, 10]])"
      ]
     },
     "execution_count": 30,
     "metadata": {},
     "output_type": "execute_result"
    }
   ],
   "source": [
    "np.random.seed(1)\n",
    "arr3=np.random.randint(1,51,36).reshape(4,9)\n",
    "arr3"
   ]
  },
  {
   "cell_type": "code",
   "execution_count": 31,
   "id": "293e2fc8",
   "metadata": {},
   "outputs": [
    {
     "data": {
      "text/plain": [
       "(array([0, 0, 1, 1, 2, 3, 3, 3], dtype=int64),\n",
       " array([0, 1, 4, 8, 3, 1, 2, 7], dtype=int64))"
      ]
     },
     "execution_count": 31,
     "metadata": {},
     "output_type": "execute_result"
    }
   ],
   "source": [
    "np.where(arr3>35)"
   ]
  },
  {
   "cell_type": "code",
   "execution_count": 32,
   "id": "bb04a9e5",
   "metadata": {},
   "outputs": [
    {
     "data": {
      "text/plain": [
       "array([[[85, 40],\n",
       "        [13, 42]],\n",
       "\n",
       "       [[71, 95],\n",
       "        [45, 78]],\n",
       "\n",
       "       [[25, 75],\n",
       "        [24, 63]]])"
      ]
     },
     "execution_count": 32,
     "metadata": {},
     "output_type": "execute_result"
    }
   ],
   "source": [
    "np.random.seed(45)\n",
    "arr=np.random.randint(10,100,12).reshape(3,2,2)\n",
    "arr"
   ]
  },
  {
   "cell_type": "code",
   "execution_count": 33,
   "id": "affdf557",
   "metadata": {},
   "outputs": [
    {
     "data": {
      "text/plain": [
       "(array([0, 0, 1, 1, 1, 1, 2, 2], dtype=int64),\n",
       " array([0, 1, 0, 0, 1, 1, 0, 1], dtype=int64),\n",
       " array([0, 1, 0, 1, 0, 1, 1, 1], dtype=int64))"
      ]
     },
     "execution_count": 33,
     "metadata": {},
     "output_type": "execute_result"
    }
   ],
   "source": [
    "np.where(arr>40)"
   ]
  },
  {
   "cell_type": "code",
   "execution_count": 34,
   "id": "e8df128d",
   "metadata": {},
   "outputs": [
    {
     "data": {
      "text/plain": [
       "array([[[ True, False],\n",
       "        [False, False]],\n",
       "\n",
       "       [[ True,  True],\n",
       "        [False,  True]],\n",
       "\n",
       "       [[False,  True],\n",
       "        [False,  True]]])"
      ]
     },
     "execution_count": 34,
     "metadata": {},
     "output_type": "execute_result"
    }
   ],
   "source": [
    "arr>50"
   ]
  },
  {
   "cell_type": "code",
   "execution_count": 53,
   "id": "59c8e306",
   "metadata": {},
   "outputs": [
    {
     "data": {
      "text/plain": [
       "array([ 12.,  nan,  nan,  55.,  nan,  99.,  nan,  76.,  nan,  45., 345.,\n",
       "         1.])"
      ]
     },
     "execution_count": 53,
     "metadata": {},
     "output_type": "execute_result"
    }
   ],
   "source": [
    "arr7 = np.array([12, np.nan , np.nan , 55 , np.nan , 99 , np.nan , 76 , np.nan , 45, 345,1 ])\n",
    "arr7"
   ]
  },
  {
   "cell_type": "code",
   "execution_count": 54,
   "id": "8bb67a32",
   "metadata": {},
   "outputs": [
    {
     "data": {
      "text/plain": [
       "array([nan, nan, nan, nan, nan])"
      ]
     },
     "execution_count": 54,
     "metadata": {},
     "output_type": "execute_result"
    }
   ],
   "source": [
    "arr7[np.where(np.isnan(arr7))]"
   ]
  },
  {
   "cell_type": "code",
   "execution_count": 55,
   "id": "f141dede",
   "metadata": {},
   "outputs": [
    {
     "data": {
      "text/plain": [
       "array([nan, nan, nan, nan, nan])"
      ]
     },
     "execution_count": 55,
     "metadata": {},
     "output_type": "execute_result"
    }
   ],
   "source": [
    "arr7[np.isnan(arr7)== True]"
   ]
  },
  {
   "cell_type": "markdown",
   "id": "e6c85e62",
   "metadata": {},
   "source": [
    "### Accessing the non Null Values"
   ]
  },
  {
   "cell_type": "code",
   "execution_count": 56,
   "id": "399b31d5",
   "metadata": {},
   "outputs": [
    {
     "data": {
      "text/plain": [
       "array([[[85, 40],\n",
       "        [13, 42]],\n",
       "\n",
       "       [[71, 95],\n",
       "        [45, 78]],\n",
       "\n",
       "       [[25, 75],\n",
       "        [24, 63]]])"
      ]
     },
     "execution_count": 56,
     "metadata": {},
     "output_type": "execute_result"
    }
   ],
   "source": [
    "arr"
   ]
  },
  {
   "cell_type": "code",
   "execution_count": 57,
   "id": "6a9aa442",
   "metadata": {},
   "outputs": [
    {
     "data": {
      "text/plain": [
       "array([85, 40, 42, 71, 95, 45, 78, 25, 75, 24, 63])"
      ]
     },
     "execution_count": 57,
     "metadata": {},
     "output_type": "execute_result"
    }
   ],
   "source": [
    "arr[np.where(arr>20)]"
   ]
  },
  {
   "cell_type": "code",
   "execution_count": 58,
   "id": "d41e1164",
   "metadata": {},
   "outputs": [
    {
     "data": {
      "text/plain": [
       "array([85, 40, 42, 71, 95, 45, 78, 25, 75, 24, 63])"
      ]
     },
     "execution_count": 58,
     "metadata": {},
     "output_type": "execute_result"
    }
   ],
   "source": [
    "arr[(arr>20) == True]"
   ]
  },
  {
   "cell_type": "markdown",
   "id": "fd0b6f0a",
   "metadata": {},
   "source": [
    "### np.where --- Case 2\n",
    "- Syntax : np.where(condition, x, y)\n",
    "- If the condition is True, then x is the result, otherwise y is the result"
   ]
  },
  {
   "cell_type": "code",
   "execution_count": 59,
   "id": "cea85fe0",
   "metadata": {},
   "outputs": [
    {
     "data": {
      "text/plain": [
       "array([[10, 37, 16,  1, 50, 29],\n",
       "       [26, 30, 49, 30, 50,  9],\n",
       "       [10,  1, 43, 41, 37, 17],\n",
       "       [37, 48, 12, 25, 44, 34],\n",
       "       [ 9, 37, 15, 50, 14,  6],\n",
       "       [14, 26, 14, 29, 23, 31]])"
      ]
     },
     "execution_count": 59,
     "metadata": {},
     "output_type": "execute_result"
    }
   ],
   "source": [
    "np.random.seed(10)\n",
    "arr2=np.random.randint(1,51,36).reshape(6,6)\n",
    "arr2"
   ]
  },
  {
   "cell_type": "code",
   "execution_count": 60,
   "id": "400aa21f",
   "metadata": {},
   "outputs": [
    {
     "data": {
      "text/plain": [
       "array([['Even', 'odd', 'Even', 'odd', 'Even', 'odd'],\n",
       "       ['Even', 'Even', 'odd', 'Even', 'Even', 'odd'],\n",
       "       ['Even', 'odd', 'odd', 'odd', 'odd', 'odd'],\n",
       "       ['odd', 'Even', 'Even', 'odd', 'Even', 'Even'],\n",
       "       ['odd', 'odd', 'odd', 'Even', 'Even', 'Even'],\n",
       "       ['Even', 'Even', 'Even', 'odd', 'odd', 'odd']], dtype='<U4')"
      ]
     },
     "execution_count": 60,
     "metadata": {},
     "output_type": "execute_result"
    }
   ],
   "source": [
    "np.where(arr2%2==0, \"Even\",\"odd\")"
   ]
  },
  {
   "cell_type": "code",
   "execution_count": 61,
   "id": "d9f27f2b",
   "metadata": {},
   "outputs": [
    {
     "data": {
      "text/plain": [
       "array([[ True,  True,  True,  True, False,  True],\n",
       "       [ True,  True, False,  True, False,  True],\n",
       "       [ True,  True, False, False,  True,  True],\n",
       "       [ True, False,  True,  True, False,  True],\n",
       "       [ True,  True,  True, False,  True,  True],\n",
       "       [ True,  True,  True,  True,  True,  True]])"
      ]
     },
     "execution_count": 61,
     "metadata": {},
     "output_type": "execute_result"
    }
   ],
   "source": [
    "np.where(arr2<40, True, False)"
   ]
  },
  {
   "cell_type": "markdown",
   "id": "afb70756",
   "metadata": {},
   "source": [
    "### np.where -- Case 3\n",
    "- Syntax : - np.where(condition, x, arr)\n",
    "- If the condition is True, then x is the result, otherwise the value remains the same"
   ]
  },
  {
   "cell_type": "code",
   "execution_count": 62,
   "id": "82ae75dc",
   "metadata": {},
   "outputs": [
    {
     "data": {
      "text/plain": [
       "array([[10, 37, 16,  1, 50, 29],\n",
       "       [26, 30, 49, 30, 50,  9],\n",
       "       [10,  1, 43, 41, 37, 17],\n",
       "       [37, 48, 12, 25, 44, 34],\n",
       "       [ 9, 37, 15, 50, 14,  6],\n",
       "       [14, 26, 14, 29, 23, 31]])"
      ]
     },
     "execution_count": 62,
     "metadata": {},
     "output_type": "execute_result"
    }
   ],
   "source": [
    "arr2"
   ]
  },
  {
   "cell_type": "code",
   "execution_count": 63,
   "id": "480e1455",
   "metadata": {},
   "outputs": [
    {
     "data": {
      "text/plain": [
       "array([['arr2', 'even', 'arr2', 'even', 'arr2', 'even'],\n",
       "       ['arr2', 'arr2', 'even', 'arr2', 'arr2', 'even'],\n",
       "       ['arr2', 'even', 'even', 'even', 'even', 'even'],\n",
       "       ['even', 'arr2', 'arr2', 'even', 'arr2', 'arr2'],\n",
       "       ['even', 'even', 'even', 'arr2', 'arr2', 'arr2'],\n",
       "       ['arr2', 'arr2', 'arr2', 'even', 'even', 'even']], dtype='<U4')"
      ]
     },
     "execution_count": 63,
     "metadata": {},
     "output_type": "execute_result"
    }
   ],
   "source": [
    "np.where(arr2%2, \"even\", \"arr2\")"
   ]
  },
  {
   "cell_type": "code",
   "execution_count": 64,
   "id": "09aac472",
   "metadata": {},
   "outputs": [
    {
     "data": {
      "text/plain": [
       "array([[ 1,  1,  1,  1, 50,  1],\n",
       "       [ 1,  1, 49,  1, 50,  1],\n",
       "       [ 1,  1, 43, 41,  1,  1],\n",
       "       [ 1, 48,  1,  1, 44,  1],\n",
       "       [ 1,  1,  1, 50,  1,  1],\n",
       "       [ 1,  1,  1,  1,  1,  1]])"
      ]
     },
     "execution_count": 64,
     "metadata": {},
     "output_type": "execute_result"
    }
   ],
   "source": [
    "np.where(arr2<40,1,arr2)"
   ]
  },
  {
   "cell_type": "markdown",
   "id": "8e74993a",
   "metadata": {},
   "source": [
    "### Replace the Null Values in an array"
   ]
  },
  {
   "cell_type": "code",
   "execution_count": 105,
   "id": "ad26c6b5",
   "metadata": {},
   "outputs": [
    {
     "data": {
      "text/plain": [
       "array([ 12.,   1.,   1.,  55.,   1.,  99.,   1.,  76.,   1.,  45., 345.,\n",
       "         1.])"
      ]
     },
     "execution_count": 105,
     "metadata": {},
     "output_type": "execute_result"
    }
   ],
   "source": [
    "arr7"
   ]
  },
  {
   "cell_type": "code",
   "execution_count": 106,
   "id": "161feb55",
   "metadata": {},
   "outputs": [
    {
     "data": {
      "text/plain": [
       "array([ 12.,   1.,   1.,  55.,   1.,  99.,   1.,  76.,   1.,  45., 345.,\n",
       "         1.])"
      ]
     },
     "execution_count": 106,
     "metadata": {},
     "output_type": "execute_result"
    }
   ],
   "source": [
    "arr7[np.isnan(arr7)] = 1\n",
    "arr7"
   ]
  },
  {
   "cell_type": "code",
   "execution_count": 107,
   "id": "b7b1d817",
   "metadata": {},
   "outputs": [
    {
     "data": {
      "text/plain": [
       "array([ 12,   1,   1,  55,   1,  99,   1,  76,   1,  45, 345,   1])"
      ]
     },
     "execution_count": 107,
     "metadata": {},
     "output_type": "execute_result"
    }
   ],
   "source": [
    "arr7.astype(int)"
   ]
  },
  {
   "cell_type": "markdown",
   "id": "305313ce",
   "metadata": {},
   "source": [
    "### Replacing all the Null values with means , medians\n",
    "- Both are the ways : arr[np.isnan(arr) == False].mean()\n",
    "- arr[np.isnan(arr)] = arr(~np.isnan(arr)).mean()\n",
    "#### By mean "
   ]
  },
  {
   "cell_type": "code",
   "execution_count": 108,
   "id": "fb1ead92",
   "metadata": {},
   "outputs": [
    {
     "data": {
      "text/plain": [
       "26.5"
      ]
     },
     "execution_count": 108,
     "metadata": {},
     "output_type": "execute_result"
    }
   ],
   "source": [
    "arr2.mean()"
   ]
  },
  {
   "cell_type": "code",
   "execution_count": 109,
   "id": "c4b3b113",
   "metadata": {},
   "outputs": [
    {
     "data": {
      "text/plain": [
       "26.5"
      ]
     },
     "execution_count": 109,
     "metadata": {},
     "output_type": "execute_result"
    }
   ],
   "source": [
    "m = arr2[np.isnan(arr2) == False].mean()\n",
    "m"
   ]
  },
  {
   "cell_type": "code",
   "execution_count": 110,
   "id": "d02e078c",
   "metadata": {},
   "outputs": [
    {
     "data": {
      "text/plain": [
       "array([[10, 37, 16,  1, 50, 29],\n",
       "       [26, 30, 49, 30, 50,  9],\n",
       "       [10,  1, 43, 41, 37, 17],\n",
       "       [37, 48, 12, 25, 44, 34],\n",
       "       [ 9, 37, 15, 50, 14,  6],\n",
       "       [14, 26, 14, 29, 23, 31]])"
      ]
     },
     "execution_count": 110,
     "metadata": {},
     "output_type": "execute_result"
    }
   ],
   "source": [
    "arr2"
   ]
  },
  {
   "cell_type": "code",
   "execution_count": 111,
   "id": "2021617b",
   "metadata": {},
   "outputs": [
    {
     "data": {
      "text/plain": [
       "array([[ 1.,  2.,  3.],\n",
       "       [nan,  5.,  6.],\n",
       "       [nan, nan, 76.]])"
      ]
     },
     "execution_count": 111,
     "metadata": {},
     "output_type": "execute_result"
    }
   ],
   "source": [
    "a = np.array([ 1 ,2 , 3 , np.nan , 5 ,6 , np.nan , np.nan , 76]).reshape(3,3)\n",
    "a"
   ]
  },
  {
   "cell_type": "code",
   "execution_count": 112,
   "id": "bdb8ef2a",
   "metadata": {},
   "outputs": [
    {
     "data": {
      "text/plain": [
       "nan"
      ]
     },
     "execution_count": 112,
     "metadata": {},
     "output_type": "execute_result"
    }
   ],
   "source": [
    "a.mean()"
   ]
  },
  {
   "cell_type": "code",
   "execution_count": 113,
   "id": "4cfb3dc2",
   "metadata": {},
   "outputs": [
    {
     "data": {
      "text/plain": [
       "15.5"
      ]
     },
     "execution_count": 113,
     "metadata": {},
     "output_type": "execute_result"
    }
   ],
   "source": [
    "y = a[np.isnan(a) == False].mean()\n",
    "y"
   ]
  },
  {
   "cell_type": "code",
   "execution_count": 114,
   "id": "a6e931db",
   "metadata": {},
   "outputs": [
    {
     "data": {
      "text/plain": [
       "array([[ 1. ,  2. ,  3. ],\n",
       "       [15.5,  5. ,  6. ],\n",
       "       [15.5, 15.5, 76. ]])"
      ]
     },
     "execution_count": 114,
     "metadata": {},
     "output_type": "execute_result"
    }
   ],
   "source": [
    "a[np.isnan(a)]=y\n",
    "a"
   ]
  },
  {
   "cell_type": "markdown",
   "id": "be890ec4",
   "metadata": {},
   "source": [
    "### By Median"
   ]
  },
  {
   "cell_type": "code",
   "execution_count": 115,
   "id": "82e66e87",
   "metadata": {},
   "outputs": [
    {
     "data": {
      "text/plain": [
       "array([[ 1. ,  2. ,  3. ],\n",
       "       [15.5,  5. ,  6. ],\n",
       "       [15.5, 15.5, 76. ]])"
      ]
     },
     "execution_count": 115,
     "metadata": {},
     "output_type": "execute_result"
    }
   ],
   "source": [
    "a"
   ]
  },
  {
   "cell_type": "code",
   "execution_count": 116,
   "id": "324a0237",
   "metadata": {},
   "outputs": [
    {
     "data": {
      "text/plain": [
       "6.0"
      ]
     },
     "execution_count": 116,
     "metadata": {},
     "output_type": "execute_result"
    }
   ],
   "source": [
    "np.median(a)"
   ]
  },
  {
   "cell_type": "code",
   "execution_count": 117,
   "id": "5f0e3473",
   "metadata": {},
   "outputs": [
    {
     "data": {
      "text/plain": [
       "6.0"
      ]
     },
     "execution_count": 117,
     "metadata": {},
     "output_type": "execute_result"
    }
   ],
   "source": [
    "m = a[np.isnan(a)==False]\n",
    "np.median(m)"
   ]
  },
  {
   "cell_type": "code",
   "execution_count": 118,
   "id": "f1e4457d",
   "metadata": {},
   "outputs": [
    {
     "data": {
      "text/plain": [
       "array([[ 1. ,  2. ,  3. ],\n",
       "       [15.5,  5. ,  6. ],\n",
       "       [15.5, 15.5, 76. ]])"
      ]
     },
     "execution_count": 118,
     "metadata": {},
     "output_type": "execute_result"
    }
   ],
   "source": [
    "a[np.isnan(a)] = np.median(m)\n",
    "a"
   ]
  },
  {
   "cell_type": "code",
   "execution_count": 133,
   "id": "80fa12d2",
   "metadata": {},
   "outputs": [
    {
     "data": {
      "text/plain": [
       "array([12., nan, 24., nan, 36., nan, 48., nan, 60., nan, 72., 84.])"
      ]
     },
     "execution_count": 133,
     "metadata": {},
     "output_type": "execute_result"
    }
   ],
   "source": [
    "z = np.array([ 12 , np.nan , 24 , np.nan , 36 , np.nan , 48 , np.nan , 60 , np.nan , 72, 84])\n",
    "z"
   ]
  },
  {
   "cell_type": "code",
   "execution_count": 134,
   "id": "85dd1def",
   "metadata": {},
   "outputs": [
    {
     "data": {
      "text/plain": [
       "nan"
      ]
     },
     "execution_count": 134,
     "metadata": {},
     "output_type": "execute_result"
    }
   ],
   "source": [
    "np.mean(z)"
   ]
  },
  {
   "cell_type": "code",
   "execution_count": 135,
   "id": "f60d4162",
   "metadata": {},
   "outputs": [
    {
     "data": {
      "text/plain": [
       "48.0"
      ]
     },
     "execution_count": 135,
     "metadata": {},
     "output_type": "execute_result"
    }
   ],
   "source": [
    "meannn = z[np.isnan(z) == False].mean()\n",
    "meannn"
   ]
  },
  {
   "cell_type": "code",
   "execution_count": 136,
   "id": "006a9ff5",
   "metadata": {},
   "outputs": [
    {
     "data": {
      "text/plain": [
       "array([12., 48., 24., 48., 36., 48., 48., 48., 60., 48., 72., 84.])"
      ]
     },
     "execution_count": 136,
     "metadata": {},
     "output_type": "execute_result"
    }
   ],
   "source": [
    "z[np.isnan(z)] = meannn\n",
    "z"
   ]
  },
  {
   "cell_type": "code",
   "execution_count": 137,
   "id": "24049008",
   "metadata": {},
   "outputs": [
    {
     "data": {
      "text/plain": [
       "48.0"
      ]
     },
     "execution_count": 137,
     "metadata": {},
     "output_type": "execute_result"
    }
   ],
   "source": [
    "np.median(z)"
   ]
  },
  {
   "cell_type": "code",
   "execution_count": 138,
   "id": "23b4ad6f",
   "metadata": {},
   "outputs": [
    {
     "data": {
      "text/plain": [
       "array([12., 48., 24., 48., 36., 48., 48., 48., 60., 48., 72., 84.])"
      ]
     },
     "execution_count": 138,
     "metadata": {},
     "output_type": "execute_result"
    }
   ],
   "source": [
    "v = z[np.isnan(z) == False]\n",
    "v"
   ]
  },
  {
   "cell_type": "code",
   "execution_count": 139,
   "id": "bf5fef02",
   "metadata": {},
   "outputs": [
    {
     "data": {
      "text/plain": [
       "array([12, 48, 24, 48, 36, 48, 48, 48, 60, 48, 72, 84])"
      ]
     },
     "execution_count": 139,
     "metadata": {},
     "output_type": "execute_result"
    }
   ],
   "source": [
    "z.astype(int)"
   ]
  },
  {
   "cell_type": "markdown",
   "id": "51f1932d",
   "metadata": {},
   "source": [
    "### Replacing Null values By mean"
   ]
  },
  {
   "cell_type": "code",
   "execution_count": 140,
   "id": "1c5d1061",
   "metadata": {},
   "outputs": [
    {
     "data": {
      "text/plain": [
       "array([nan, 32., 23., nan, nan, nan, 76., 87., nan])"
      ]
     },
     "execution_count": 140,
     "metadata": {},
     "output_type": "execute_result"
    }
   ],
   "source": [
    "arr1 = np.array([np.nan , 32 , 23 , np.nan , np.nan , np.nan , 76 , 87 , np.nan])\n",
    "arr1"
   ]
  },
  {
   "cell_type": "code",
   "execution_count": 141,
   "id": "6c0cef0d",
   "metadata": {},
   "outputs": [
    {
     "name": "stdout",
     "output_type": "stream",
     "text": [
      "nan\n",
      "----------------------------------------------------------\n",
      "54.5\n",
      "----------------------------------------------------------\n",
      "[54.5 32.  23.  54.5 54.5 54.5 76.  87.  54.5]\n"
     ]
    }
   ],
   "source": [
    "print(arr1.mean())\n",
    "print(\"----------------------------------------------------------\")\n",
    "w = arr1[np.isnan(arr1) == False].mean()\n",
    "print(w)\n",
    "print(\"----------------------------------------------------------\")\n",
    "arr1[np.isnan(arr1)] = w\n",
    "print(arr1)"
   ]
  },
  {
   "cell_type": "markdown",
   "id": "3cf88b8d",
   "metadata": {},
   "source": [
    "### Replacing Null values By Median"
   ]
  },
  {
   "cell_type": "code",
   "execution_count": 142,
   "id": "368306ba",
   "metadata": {},
   "outputs": [
    {
     "data": {
      "text/plain": [
       "array([ nan, 101., 223.,  nan,  nan,  nan, 676., 787.,  nan])"
      ]
     },
     "execution_count": 142,
     "metadata": {},
     "output_type": "execute_result"
    }
   ],
   "source": [
    "arr9 = np.array([np.nan , 101 , 223 , np.nan , np.nan , np.nan , 676 , 787 , np.nan])\n",
    "arr9"
   ]
  },
  {
   "cell_type": "code",
   "execution_count": 143,
   "id": "27f56cf9",
   "metadata": {},
   "outputs": [
    {
     "name": "stdout",
     "output_type": "stream",
     "text": [
      "nan\n",
      "-------------------------------------------------------\n",
      "449.5\n",
      "-------------------------------------------------------\n",
      "[449.5 101.  223.  449.5 449.5 449.5 676.  787.  449.5]\n"
     ]
    }
   ],
   "source": [
    "print(np.median(arr9))\n",
    "print(\"-------------------------------------------------------\")\n",
    "qqq = arr9[np.isnan(arr9) == False]\n",
    "x = np.median(qqq)\n",
    "print(x)\n",
    "print(\"-------------------------------------------------------\")\n",
    "arr9[np.isnan(arr9)] = x\n",
    "print(arr9)"
   ]
  },
  {
   "cell_type": "markdown",
   "id": "58eeedf0",
   "metadata": {},
   "source": [
    "##### As you can see in below code , I've replaced non null values with 22 and null values with zero(0)"
   ]
  },
  {
   "cell_type": "code",
   "execution_count": 130,
   "id": "984b4e68",
   "metadata": {},
   "outputs": [
    {
     "data": {
      "text/plain": [
       "array([22., 22., 22., 22., 22., 22., 22., 22., 22.])"
      ]
     },
     "execution_count": 130,
     "metadata": {},
     "output_type": "execute_result"
    }
   ],
   "source": [
    "arr9[np.isnan(arr9) == False]= 22\n",
    "arr9[np.isnan(arr9) == True] = 0\n",
    "arr9"
   ]
  },
  {
   "cell_type": "code",
   "execution_count": 131,
   "id": "52596877",
   "metadata": {},
   "outputs": [
    {
     "data": {
      "text/plain": [
       "array([22, 22, 22, 22, 22, 22, 22, 22, 22])"
      ]
     },
     "execution_count": 131,
     "metadata": {},
     "output_type": "execute_result"
    }
   ],
   "source": [
    "arr9.astype(int)"
   ]
  },
  {
   "cell_type": "markdown",
   "id": "0fae498b",
   "metadata": {},
   "source": [
    "### np.argwhere()\n",
    "- It returns an array object that contains the indexes of all the non zero element from the array\n",
    "##### Syntax:\n",
    "- np.argwhere(arr)"
   ]
  },
  {
   "cell_type": "code",
   "execution_count": 132,
   "id": "ddbaf8c3",
   "metadata": {},
   "outputs": [
    {
     "data": {
      "text/plain": [
       "array([22., 22., 22., 22., 22., 22., 22., 22., 22.])"
      ]
     },
     "execution_count": 132,
     "metadata": {},
     "output_type": "execute_result"
    }
   ],
   "source": [
    "arr9"
   ]
  },
  {
   "cell_type": "code",
   "execution_count": 144,
   "id": "c0324573",
   "metadata": {},
   "outputs": [
    {
     "data": {
      "text/plain": [
       "array([[0],\n",
       "       [1],\n",
       "       [2],\n",
       "       [3],\n",
       "       [4],\n",
       "       [5],\n",
       "       [6],\n",
       "       [7],\n",
       "       [8]], dtype=int64)"
      ]
     },
     "execution_count": 144,
     "metadata": {},
     "output_type": "execute_result"
    }
   ],
   "source": [
    "np.argwhere(arr9)"
   ]
  },
  {
   "cell_type": "code",
   "execution_count": 145,
   "id": "83568ae6",
   "metadata": {},
   "outputs": [
    {
     "data": {
      "text/plain": [
       "array([54.5, 32. , 23. , 54.5, 54.5, 54.5, 76. , 87. , 54.5])"
      ]
     },
     "execution_count": 145,
     "metadata": {},
     "output_type": "execute_result"
    }
   ],
   "source": [
    "arr1"
   ]
  },
  {
   "cell_type": "code",
   "execution_count": 146,
   "id": "54cd112d",
   "metadata": {},
   "outputs": [
    {
     "data": {
      "text/plain": [
       "array([[0],\n",
       "       [1],\n",
       "       [2],\n",
       "       [3],\n",
       "       [4],\n",
       "       [5],\n",
       "       [6],\n",
       "       [7],\n",
       "       [8]], dtype=int64)"
      ]
     },
     "execution_count": 146,
     "metadata": {},
     "output_type": "execute_result"
    }
   ],
   "source": [
    "np.argwhere(arr1)"
   ]
  },
  {
   "cell_type": "markdown",
   "id": "1255f5dd",
   "metadata": {},
   "source": [
    "#### As you can see that in this array there is no zero elements so it giving all the indexes"
   ]
  },
  {
   "cell_type": "code",
   "execution_count": 147,
   "id": "0c29fc30",
   "metadata": {},
   "outputs": [
    {
     "name": "stdout",
     "output_type": "stream",
     "text": [
      "[  1   2   3   4   5   0   0  78   9   0   7  89   0 222   0]\n",
      "-------------------------------------------------------------------\n",
      "Non - Zero elements Indexes :  [[ 0]\n",
      " [ 1]\n",
      " [ 2]\n",
      " [ 3]\n",
      " [ 4]\n",
      " [ 7]\n",
      " [ 8]\n",
      " [10]\n",
      " [11]\n",
      " [13]]\n",
      "-------------------------------------------------------------------\n",
      "Zero Elements Indexes :  [[ 5]\n",
      " [ 6]\n",
      " [ 9]\n",
      " [12]\n",
      " [14]]\n"
     ]
    }
   ],
   "source": [
    "argg = np.array([ 1, 2, 3, 4, 5, 0, 0, 78, 9, 0, 7, 89, 0, 222, 0])\n",
    "print(argg)\n",
    "print(\"-------------------------------------------------------------------\")\n",
    "print(\"Non - Zero elements Indexes : \" , np.argwhere(argg))\n",
    "print(\"-------------------------------------------------------------------\")\n",
    "print(\"Zero Elements Indexes : \", np.argwhere(argg == 0))"
   ]
  },
  {
   "cell_type": "markdown",
   "id": "ad8f577e",
   "metadata": {},
   "source": [
    "### np.argmax()\n",
    "- It returns the index of the maximum number\n",
    "- In case of multiple maximum number, it will return the index of the first maximum number\n",
    "- It treats the n-d array as 1-D array"
   ]
  },
  {
   "cell_type": "code",
   "execution_count": 148,
   "id": "d7732ca9",
   "metadata": {},
   "outputs": [
    {
     "data": {
      "text/plain": [
       "array([54.5, 32. , 23. , 54.5, 54.5, 54.5, 76. , 87. , 54.5])"
      ]
     },
     "execution_count": 148,
     "metadata": {},
     "output_type": "execute_result"
    }
   ],
   "source": [
    "arr1"
   ]
  },
  {
   "cell_type": "code",
   "execution_count": 149,
   "id": "4bbda48a",
   "metadata": {},
   "outputs": [
    {
     "data": {
      "text/plain": [
       "7"
      ]
     },
     "execution_count": 149,
     "metadata": {},
     "output_type": "execute_result"
    }
   ],
   "source": [
    "np.argmax(arr1)"
   ]
  },
  {
   "cell_type": "markdown",
   "id": "5668334c",
   "metadata": {},
   "source": [
    "##### As you can see , it is giving index 7th of the arr1 which is 87 . as you can see it treats the array ino 1D array."
   ]
  },
  {
   "cell_type": "markdown",
   "id": "3e55a92f",
   "metadata": {},
   "source": [
    "### np.argmin()\n",
    "- It returns the index of the minimum number\n",
    "- In case of multiple minimum number, it will return the index of the first minimum number\n",
    "- It treats the n-d array as 1-D array"
   ]
  },
  {
   "cell_type": "code",
   "execution_count": 150,
   "id": "612dee46",
   "metadata": {},
   "outputs": [
    {
     "data": {
      "text/plain": [
       "array([54.5, 32. , 23. , 54.5, 54.5, 54.5, 76. , 87. , 54.5])"
      ]
     },
     "execution_count": 150,
     "metadata": {},
     "output_type": "execute_result"
    }
   ],
   "source": [
    "arr1"
   ]
  },
  {
   "cell_type": "code",
   "execution_count": 151,
   "id": "39338ad8",
   "metadata": {},
   "outputs": [
    {
     "data": {
      "text/plain": [
       "2"
      ]
     },
     "execution_count": 151,
     "metadata": {},
     "output_type": "execute_result"
    }
   ],
   "source": [
    "np.argmin(arr1)"
   ]
  },
  {
   "cell_type": "markdown",
   "id": "8b0fa71c",
   "metadata": {},
   "source": [
    "#### As you can see , it is giving index 2nd of the arr1 which is 23 . as you can see it treats the array ino 1D array."
   ]
  },
  {
   "cell_type": "markdown",
   "id": "58e25237",
   "metadata": {},
   "source": [
    "### Capping The Value"
   ]
  },
  {
   "cell_type": "code",
   "execution_count": 152,
   "id": "344c5dac",
   "metadata": {},
   "outputs": [
    {
     "data": {
      "text/plain": [
       "array([[10, 37, 16,  1, 50, 29],\n",
       "       [26, 30, 49, 30, 50,  9],\n",
       "       [10,  1, 43, 41, 37, 17],\n",
       "       [37, 48, 12, 25, 44, 34],\n",
       "       [ 9, 37, 15, 50, 14,  6],\n",
       "       [14, 26, 14, 29, 23, 31]])"
      ]
     },
     "execution_count": 152,
     "metadata": {},
     "output_type": "execute_result"
    }
   ],
   "source": [
    "np.random.seed(10)\n",
    "arrg=np.random.randint(1,51,36).reshape(6,6)\n",
    "arrg"
   ]
  },
  {
   "cell_type": "code",
   "execution_count": 153,
   "id": "5af33d01",
   "metadata": {},
   "outputs": [],
   "source": [
    "#### cap the value of the above the above array between the range 40 -70 \n",
    "#### any value less than 40-->40 || any value greater than 70 --->70"
   ]
  },
  {
   "cell_type": "code",
   "execution_count": 154,
   "id": "19b80b30",
   "metadata": {},
   "outputs": [
    {
     "data": {
      "text/plain": [
       "array([[40, 40, 40, 40, 50, 40],\n",
       "       [40, 40, 49, 40, 50, 40],\n",
       "       [40, 40, 43, 41, 40, 40],\n",
       "       [40, 48, 40, 40, 44, 40],\n",
       "       [40, 40, 40, 50, 40, 40],\n",
       "       [40, 40, 40, 40, 40, 40]])"
      ]
     },
     "execution_count": 154,
     "metadata": {},
     "output_type": "execute_result"
    }
   ],
   "source": [
    "np.where(arrg>70,70,np.where(arrg<40,40,arrg))"
   ]
  },
  {
   "cell_type": "code",
   "execution_count": 155,
   "id": "9cd7d969",
   "metadata": {},
   "outputs": [
    {
     "data": {
      "text/plain": [
       "array([[137, 335, 496, 172, 355, 493],\n",
       "       [303, 233, 435, 244, 229, 171],\n",
       "       [337, 490, 381, 278, 376, 354],\n",
       "       [457, 502, 495, 352, 256, 498],\n",
       "       [150, 168, 315, 341, 452, 186],\n",
       "       [241, 493, 107, 419, 417, 122]])"
      ]
     },
     "execution_count": 155,
     "metadata": {},
     "output_type": "execute_result"
    }
   ],
   "source": [
    "np.random.seed(1)\n",
    "arrg2 = np.random.randint(100,510,36).reshape(6,6)\n",
    "arrg2"
   ]
  },
  {
   "cell_type": "markdown",
   "id": "0e1636f9",
   "metadata": {},
   "source": [
    "##### cap the value of the above the above array between the range 250 any value less than 250-->\"Less Than 250\" || any value greater than 250 --->\"Greater than 250\""
   ]
  },
  {
   "cell_type": "markdown",
   "id": "640d03eb",
   "metadata": {},
   "source": [
    "### np.clip()\n",
    "- It is used to clipping the value between lower limit to upper limit.\n",
    "#### Syntax\n",
    "- np.clip(arr , lower_limit , upper_limit)"
   ]
  },
  {
   "cell_type": "code",
   "execution_count": 162,
   "id": "5abb7f44",
   "metadata": {},
   "outputs": [
    {
     "data": {
      "text/plain": [
       "array([[10, 37, 16,  1, 50, 29],\n",
       "       [26, 30, 49, 30, 50,  9],\n",
       "       [10,  1, 43, 41, 37, 17],\n",
       "       [37, 48, 12, 25, 44, 34],\n",
       "       [ 9, 37, 15, 50, 14,  6],\n",
       "       [14, 26, 14, 29, 23, 31]])"
      ]
     },
     "execution_count": 162,
     "metadata": {},
     "output_type": "execute_result"
    }
   ],
   "source": [
    "arrg"
   ]
  },
  {
   "cell_type": "code",
   "execution_count": 163,
   "id": "5bec5748",
   "metadata": {},
   "outputs": [
    {
     "data": {
      "text/plain": [
       "array([[20, 30, 20, 20, 30, 29],\n",
       "       [26, 30, 30, 30, 30, 20],\n",
       "       [20, 20, 30, 30, 30, 20],\n",
       "       [30, 30, 20, 25, 30, 30],\n",
       "       [20, 30, 20, 30, 20, 20],\n",
       "       [20, 26, 20, 29, 23, 30]])"
      ]
     },
     "execution_count": 163,
     "metadata": {},
     "output_type": "execute_result"
    }
   ],
   "source": [
    "np.clip(arrg,20,30)"
   ]
  },
  {
   "cell_type": "code",
   "execution_count": 164,
   "id": "949ba2cb",
   "metadata": {},
   "outputs": [
    {
     "data": {
      "text/plain": [
       "array([[10, 37, 16,  1, 50, 29],\n",
       "       [26, 30, 49, 30, 50,  9],\n",
       "       [10,  1, 43, 41, 37, 17],\n",
       "       [37, 48, 12, 25, 44, 34],\n",
       "       [ 9, 37, 15, 50, 14,  6],\n",
       "       [14, 26, 14, 29, 23, 31]])"
      ]
     },
     "execution_count": 164,
     "metadata": {},
     "output_type": "execute_result"
    }
   ],
   "source": [
    "arr2"
   ]
  },
  {
   "cell_type": "code",
   "execution_count": 165,
   "id": "2c5b68c6",
   "metadata": {},
   "outputs": [
    {
     "data": {
      "text/plain": [
       "array([[50, 50, 50, 50, 50, 50],\n",
       "       [50, 50, 50, 50, 50, 50],\n",
       "       [50, 50, 50, 50, 50, 50],\n",
       "       [50, 50, 50, 50, 50, 50],\n",
       "       [50, 50, 50, 50, 50, 50],\n",
       "       [50, 50, 50, 50, 50, 50]])"
      ]
     },
     "execution_count": 165,
     "metadata": {},
     "output_type": "execute_result"
    }
   ],
   "source": [
    "np.clip(arrg2,30,50)"
   ]
  },
  {
   "cell_type": "code",
   "execution_count": 167,
   "id": "2e2b040c",
   "metadata": {},
   "outputs": [
    {
     "data": {
      "text/plain": [
       "array([[48,  5, 26,  4, 20, 24],\n",
       "       [40, 29, 15, 24,  9, 26],\n",
       "       [47, 43, 27,  9, 40, 39],\n",
       "       [ 5, 49,  8, 45,  1, 12],\n",
       "       [ 7, 20, 45,  6, 25, 49],\n",
       "       [ 1, 35, 10, 15, 39,  5]])"
      ]
     },
     "execution_count": 167,
     "metadata": {},
     "output_type": "execute_result"
    }
   ],
   "source": [
    "np.random.seed(7)\n",
    "arr = np.random.randint(1,51,36).reshape(6,6)\n",
    "arr"
   ]
  },
  {
   "cell_type": "code",
   "execution_count": 168,
   "id": "134a0b42",
   "metadata": {},
   "outputs": [
    {
     "data": {
      "text/plain": [
       "array([48, 29, 27, 45, 25,  5])"
      ]
     },
     "execution_count": 168,
     "metadata": {},
     "output_type": "execute_result"
    }
   ],
   "source": [
    "np.diag(arr)"
   ]
  },
  {
   "cell_type": "code",
   "execution_count": 169,
   "id": "58286b11",
   "metadata": {},
   "outputs": [
    {
     "data": {
      "text/plain": [
       "array([[48,  0,  0,  0,  0,  0],\n",
       "       [ 0, 29,  0,  0,  0,  0],\n",
       "       [ 0,  0, 27,  0,  0,  0],\n",
       "       [ 0,  0,  0, 45,  0,  0],\n",
       "       [ 0,  0,  0,  0, 25,  0],\n",
       "       [ 0,  0,  0,  0,  0,  5]])"
      ]
     },
     "execution_count": 169,
     "metadata": {},
     "output_type": "execute_result"
    }
   ],
   "source": [
    "np.diag(np.diag(arr))"
   ]
  },
  {
   "cell_type": "code",
   "execution_count": 170,
   "id": "efb96c96",
   "metadata": {},
   "outputs": [
    {
     "data": {
      "text/plain": [
       "array([[48,  5, 26,  4, 20, 24],\n",
       "       [40, 29, 15, 24,  9, 26],\n",
       "       [47, 43, 27,  9, 40, 39],\n",
       "       [ 5, 49,  8, 45,  1, 12],\n",
       "       [ 7, 20, 45,  6, 25, 49],\n",
       "       [ 1, 35, 10, 15, 39,  5]])"
      ]
     },
     "execution_count": 170,
     "metadata": {},
     "output_type": "execute_result"
    }
   ],
   "source": [
    "arr"
   ]
  },
  {
   "cell_type": "code",
   "execution_count": 171,
   "id": "0249cb01",
   "metadata": {},
   "outputs": [
    {
     "name": "stdout",
     "output_type": "stream",
     "text": [
      "23.666666666666668\n",
      "253.16666666666666\n",
      "15.911211979816832\n"
     ]
    }
   ],
   "source": [
    "print(np.mean(arr))\n",
    "print(np.var(arr))\n",
    "print(np.std(arr))"
   ]
  },
  {
   "cell_type": "code",
   "execution_count": 172,
   "id": "78bcc064",
   "metadata": {},
   "outputs": [
    {
     "data": {
      "text/plain": [
       "15.911211979816832"
      ]
     },
     "execution_count": 172,
     "metadata": {},
     "output_type": "execute_result"
    }
   ],
   "source": [
    "import math\n",
    "math.sqrt(253.16666666666666)"
   ]
  },
  {
   "cell_type": "code",
   "execution_count": 173,
   "id": "33adc53f",
   "metadata": {},
   "outputs": [
    {
     "data": {
      "text/plain": [
       "24.0"
      ]
     },
     "execution_count": 173,
     "metadata": {},
     "output_type": "execute_result"
    }
   ],
   "source": [
    "np.median(arr)"
   ]
  },
  {
   "cell_type": "code",
   "execution_count": 175,
   "id": "6e5312e9",
   "metadata": {},
   "outputs": [
    {
     "data": {
      "text/plain": [
       "array([[12., nan, 31.],\n",
       "       [nan, nan, nan],\n",
       "       [34., 35., 89.]])"
      ]
     },
     "execution_count": 175,
     "metadata": {},
     "output_type": "execute_result"
    }
   ],
   "source": [
    "arr3 = np.array([12, np.nan , 31 , np.nan , np.nan , np.nan , 34 ,35 , 89]).reshape(3,3)\n",
    "arr3"
   ]
  },
  {
   "cell_type": "code",
   "execution_count": 176,
   "id": "b219f8a3",
   "metadata": {},
   "outputs": [
    {
     "data": {
      "text/plain": [
       "array([12., 31., 34., 35., 89.])"
      ]
     },
     "execution_count": 176,
     "metadata": {},
     "output_type": "execute_result"
    }
   ],
   "source": [
    "arr3[np.isnan(arr3) == False]"
   ]
  },
  {
   "cell_type": "code",
   "execution_count": 177,
   "id": "5563f85f",
   "metadata": {},
   "outputs": [
    {
     "data": {
      "text/plain": [
       "40.2"
      ]
     },
     "execution_count": 177,
     "metadata": {},
     "output_type": "execute_result"
    }
   ],
   "source": [
    "meann = arr3[np.isnan(arr3) == False].mean()\n",
    "meann"
   ]
  },
  {
   "cell_type": "code",
   "execution_count": 178,
   "id": "6a58a9df",
   "metadata": {},
   "outputs": [
    {
     "name": "stdout",
     "output_type": "stream",
     "text": [
      "[[12.  40.2 31. ]\n",
      " [40.2 40.2 40.2]\n",
      " [34.  35.  89. ]]\n"
     ]
    }
   ],
   "source": [
    "arr3[np.isnan(arr3)] = meann\n",
    "print(arr3)"
   ]
  },
  {
   "cell_type": "code",
   "execution_count": 180,
   "id": "c58dcaf5",
   "metadata": {},
   "outputs": [
    {
     "data": {
      "text/plain": [
       "array([[12, 40, 31],\n",
       "       [40, 40, 40],\n",
       "       [34, 35, 89]])"
      ]
     },
     "execution_count": 180,
     "metadata": {},
     "output_type": "execute_result"
    }
   ],
   "source": [
    "arr3.astype(int)"
   ]
  },
  {
   "cell_type": "code",
   "execution_count": 181,
   "id": "5c15a20b",
   "metadata": {},
   "outputs": [
    {
     "data": {
      "text/plain": [
       "array([[48,  5, 26,  4, 20, 24],\n",
       "       [40, 29, 15, 24,  9, 26],\n",
       "       [47, 43, 27,  9, 40, 39],\n",
       "       [ 5, 49,  8, 45,  1, 12],\n",
       "       [ 7, 20, 45,  6, 25, 49],\n",
       "       [ 1, 35, 10, 15, 39,  5]])"
      ]
     },
     "execution_count": 181,
     "metadata": {},
     "output_type": "execute_result"
    }
   ],
   "source": [
    "arr"
   ]
  },
  {
   "cell_type": "code",
   "execution_count": 182,
   "id": "5a52597d",
   "metadata": {},
   "outputs": [
    {
     "data": {
      "text/plain": [
       "array([[48,  5, 26,  4, 20, 24],\n",
       "       [22, 21, 19, 15, 51, 21],\n",
       "       [47, 43, 27,  9, 40, 39],\n",
       "       [ 5, 49,  8, 45,  1, 12],\n",
       "       [ 7, 20, 45,  6, 25, 49],\n",
       "       [ 1, 35, 10, 15, 39,  5]])"
      ]
     },
     "execution_count": 182,
     "metadata": {},
     "output_type": "execute_result"
    }
   ],
   "source": [
    "arr[1,(0,1,2,3,4,5)] = 22,21,19,15,51,21\n",
    "arr"
   ]
  },
  {
   "cell_type": "code",
   "execution_count": 183,
   "id": "23886922",
   "metadata": {},
   "outputs": [
    {
     "data": {
      "text/plain": [
       "array([[48],\n",
       "       [22],\n",
       "       [47],\n",
       "       [ 5],\n",
       "       [ 7],\n",
       "       [ 1]])"
      ]
     },
     "execution_count": 183,
     "metadata": {},
     "output_type": "execute_result"
    }
   ],
   "source": [
    "arr[:: , :1:]"
   ]
  },
  {
   "cell_type": "markdown",
   "id": "0cbeb54a",
   "metadata": {},
   "source": [
    "### Condition Statements on Array\n",
    "- It returns boolean values of array. Syntax\n",
    "    - arr_name[condition]"
   ]
  },
  {
   "cell_type": "code",
   "execution_count": 11,
   "id": "774fde53",
   "metadata": {},
   "outputs": [
    {
     "data": {
      "text/plain": [
       "array([[49, 28, 24, 25, 70, 44],\n",
       "       [71, 74, 27, 35, 56, 22],\n",
       "       [35, 57, 84, 57, 55, 52],\n",
       "       [85, 40, 72, 28, 67, 52],\n",
       "       [54, 49, 81, 81, 47, 78],\n",
       "       [26, 66, 59, 75, 75, 69]])"
      ]
     },
     "execution_count": 11,
     "metadata": {},
     "output_type": "execute_result"
    }
   ],
   "source": [
    "np.random.seed(12)\n",
    "arr1 = np.random.randint(22,87,36).reshape(6,6)\n",
    "arr1"
   ]
  },
  {
   "cell_type": "markdown",
   "id": "f04c4648",
   "metadata": {},
   "source": [
    "##### As you can see in below code that it is giving bool values of arrays because we directly put arr1>25 if we put the same condition inside arr_name then it'll only show the greater elements of arr1 by 25 you can see in below codes."
   ]
  },
  {
   "cell_type": "code",
   "execution_count": 12,
   "id": "0c733b2f",
   "metadata": {},
   "outputs": [
    {
     "data": {
      "text/plain": [
       "array([[ True,  True, False, False,  True,  True],\n",
       "       [ True,  True,  True,  True,  True, False],\n",
       "       [ True,  True,  True,  True,  True,  True],\n",
       "       [ True,  True,  True,  True,  True,  True],\n",
       "       [ True,  True,  True,  True,  True,  True],\n",
       "       [ True,  True,  True,  True,  True,  True]])"
      ]
     },
     "execution_count": 12,
     "metadata": {},
     "output_type": "execute_result"
    }
   ],
   "source": [
    "arr1>25"
   ]
  },
  {
   "cell_type": "code",
   "execution_count": 13,
   "id": "9b136cd5",
   "metadata": {},
   "outputs": [
    {
     "data": {
      "text/plain": [
       "array([49, 28, 70, 44, 71, 74, 27, 35, 56, 35, 57, 84, 57, 55, 52, 85, 40,\n",
       "       72, 28, 67, 52, 54, 49, 81, 81, 47, 78, 26, 66, 59, 75, 75, 69])"
      ]
     },
     "execution_count": 13,
     "metadata": {},
     "output_type": "execute_result"
    }
   ],
   "source": [
    "arr1[arr1>25]\n"
   ]
  },
  {
   "cell_type": "code",
   "execution_count": 14,
   "id": "90c7994b",
   "metadata": {},
   "outputs": [
    {
     "data": {
      "text/plain": [
       "array([28, 24, 25, 27, 35, 22, 35, 28, 26])"
      ]
     },
     "execution_count": 14,
     "metadata": {},
     "output_type": "execute_result"
    }
   ],
   "source": [
    "arr1[arr1<36]"
   ]
  },
  {
   "cell_type": "markdown",
   "id": "e3461509",
   "metadata": {},
   "source": [
    "### Filtering elements by giving conditions"
   ]
  },
  {
   "cell_type": "code",
   "execution_count": 15,
   "id": "4853202e",
   "metadata": {},
   "outputs": [
    {
     "data": {
      "text/plain": [
       "array([[49, 28, 24, 25, 70, 44],\n",
       "       [71, 74, 27, 35, 56, 22],\n",
       "       [35, 57, 84, 57, 55, 52],\n",
       "       [85, 40, 72, 28, 67, 52],\n",
       "       [54, 49, 81, 81, 47, 78],\n",
       "       [26, 66, 59, 75, 75, 69]])"
      ]
     },
     "execution_count": 15,
     "metadata": {},
     "output_type": "execute_result"
    }
   ],
   "source": [
    "arr1"
   ]
  },
  {
   "cell_type": "code",
   "execution_count": 16,
   "id": "e8d876ca",
   "metadata": {},
   "outputs": [
    {
     "data": {
      "text/plain": [
       "array([24, 84, 72, 54, 78, 66])"
      ]
     },
     "execution_count": 16,
     "metadata": {},
     "output_type": "execute_result"
    }
   ],
   "source": [
    "arr1[(arr1 % 3 ==0) & (arr1 % 2 == 0) ]"
   ]
  },
  {
   "cell_type": "markdown",
   "id": "a49b750e",
   "metadata": {},
   "source": [
    "###  Array Concatination\n",
    "- Vertical Concatination\n",
    "- Horizontal Concatination\n",
    "#### Syntax\n",
    "- np.concatenate((x,y) , axis = 0,1)"
   ]
  },
  {
   "cell_type": "code",
   "execution_count": 1,
   "id": "36810211",
   "metadata": {},
   "outputs": [],
   "source": [
    "import numpy as np"
   ]
  },
  {
   "cell_type": "code",
   "execution_count": 2,
   "id": "3db157f6",
   "metadata": {},
   "outputs": [
    {
     "data": {
      "text/plain": [
       "array([[ 0,  1,  2,  3,  4,  5],\n",
       "       [ 6,  7,  8,  9, 10, 11],\n",
       "       [12, 13, 14, 15, 16, 17],\n",
       "       [18, 19, 20, 21, 22, 23]])"
      ]
     },
     "execution_count": 2,
     "metadata": {},
     "output_type": "execute_result"
    }
   ],
   "source": [
    "a = np.arange(24).reshape(4,6)\n",
    "a"
   ]
  },
  {
   "cell_type": "code",
   "execution_count": 3,
   "id": "870fd75d",
   "metadata": {},
   "outputs": [
    {
     "data": {
      "text/plain": [
       "(4, 6)"
      ]
     },
     "execution_count": 3,
     "metadata": {},
     "output_type": "execute_result"
    }
   ],
   "source": [
    "a.shape"
   ]
  },
  {
   "cell_type": "code",
   "execution_count": 5,
   "id": "c25a943b",
   "metadata": {},
   "outputs": [
    {
     "data": {
      "text/plain": [
       "array([[0, 1, 2, 3, 4, 5]])"
      ]
     },
     "execution_count": 5,
     "metadata": {},
     "output_type": "execute_result"
    }
   ],
   "source": [
    "b=np.arange(6).reshape(1,6)\n",
    "b"
   ]
  },
  {
   "cell_type": "code",
   "execution_count": 6,
   "id": "addf5690",
   "metadata": {},
   "outputs": [
    {
     "data": {
      "text/plain": [
       "array([[ 0,  1,  2,  3,  4,  5],\n",
       "       [ 6,  7,  8,  9, 10, 11],\n",
       "       [12, 13, 14, 15, 16, 17],\n",
       "       [18, 19, 20, 21, 22, 23],\n",
       "       [ 0,  1,  2,  3,  4,  5]])"
      ]
     },
     "execution_count": 6,
     "metadata": {},
     "output_type": "execute_result"
    }
   ],
   "source": [
    "np.concatenate((a,b), axis=0)"
   ]
  },
  {
   "cell_type": "markdown",
   "id": "2cf6245b",
   "metadata": {},
   "source": [
    "##### Watch the shape and size of \"a\" array which is shape(4,6) means 4 rows and 6 columns thats why now we have to make the another array in that suitable way"
   ]
  },
  {
   "cell_type": "code",
   "execution_count": 7,
   "id": "172e5f3b",
   "metadata": {},
   "outputs": [
    {
     "name": "stdout",
     "output_type": "stream",
     "text": [
      "[[0]\n",
      " [1]\n",
      " [2]\n",
      " [3]]\n"
     ]
    }
   ],
   "source": [
    "c = np.arange(4).reshape(4,1)\n",
    "print(c)"
   ]
  },
  {
   "cell_type": "code",
   "execution_count": 8,
   "id": "eca24e9f",
   "metadata": {},
   "outputs": [
    {
     "name": "stdout",
     "output_type": "stream",
     "text": [
      "------------------------------------------\n",
      "[[ 0  1  2  3  4  5  0]\n",
      " [ 6  7  8  9 10 11  1]\n",
      " [12 13 14 15 16 17  2]\n",
      " [18 19 20 21 22 23  3]]\n"
     ]
    }
   ],
   "source": [
    "print(\"------------------------------------------\")\n",
    "print(np.concatenate((a,c) , axis = 1))"
   ]
  },
  {
   "cell_type": "markdown",
   "id": "c41007bc",
   "metadata": {},
   "source": [
    "### Arthemetic Operations on Array"
   ]
  },
  {
   "cell_type": "code",
   "execution_count": 17,
   "id": "d6ba9456",
   "metadata": {},
   "outputs": [
    {
     "data": {
      "text/plain": [
       "array([[49, 28, 24, 25, 70, 44],\n",
       "       [71, 74, 27, 35, 56, 22],\n",
       "       [35, 57, 84, 57, 55, 52],\n",
       "       [85, 40, 72, 28, 67, 52],\n",
       "       [54, 49, 81, 81, 47, 78],\n",
       "       [26, 66, 59, 75, 75, 69]])"
      ]
     },
     "execution_count": 17,
     "metadata": {},
     "output_type": "execute_result"
    }
   ],
   "source": [
    "arr1"
   ]
  },
  {
   "cell_type": "code",
   "execution_count": 18,
   "id": "2556c5f6",
   "metadata": {},
   "outputs": [
    {
     "data": {
      "text/plain": [
       "array([[54, 33, 29, 30, 75, 49],\n",
       "       [76, 79, 32, 40, 61, 27],\n",
       "       [40, 62, 89, 62, 60, 57],\n",
       "       [90, 45, 77, 33, 72, 57],\n",
       "       [59, 54, 86, 86, 52, 83],\n",
       "       [31, 71, 64, 80, 80, 74]])"
      ]
     },
     "execution_count": 18,
     "metadata": {},
     "output_type": "execute_result"
    }
   ],
   "source": [
    "arr1+5"
   ]
  },
  {
   "cell_type": "code",
   "execution_count": 20,
   "id": "a0de6804",
   "metadata": {},
   "outputs": [
    {
     "data": {
      "text/plain": [
       "array([[16,  9,  8,  8, 23, 14],\n",
       "       [23, 24,  9, 11, 18,  7],\n",
       "       [11, 19, 28, 19, 18, 17],\n",
       "       [28, 13, 24,  9, 22, 17],\n",
       "       [18, 16, 27, 27, 15, 26],\n",
       "       [ 8, 22, 19, 25, 25, 23]], dtype=int32)"
      ]
     },
     "execution_count": 20,
     "metadata": {},
     "output_type": "execute_result"
    }
   ],
   "source": [
    "arr1//3"
   ]
  },
  {
   "cell_type": "code",
   "execution_count": 21,
   "id": "6b6f0517",
   "metadata": {},
   "outputs": [
    {
     "data": {
      "text/plain": [
       "array([[245, 140, 120, 125, 350, 220],\n",
       "       [355, 370, 135, 175, 280, 110],\n",
       "       [175, 285, 420, 285, 275, 260],\n",
       "       [425, 200, 360, 140, 335, 260],\n",
       "       [270, 245, 405, 405, 235, 390],\n",
       "       [130, 330, 295, 375, 375, 345]])"
      ]
     },
     "execution_count": 21,
     "metadata": {},
     "output_type": "execute_result"
    }
   ],
   "source": [
    "arr1*5"
   ]
  },
  {
   "cell_type": "code",
   "execution_count": 22,
   "id": "caef668c",
   "metadata": {},
   "outputs": [
    {
     "data": {
      "text/plain": [
       "array([[1, 0, 0, 1, 2, 0],\n",
       "       [3, 2, 3, 3, 0, 2],\n",
       "       [3, 1, 0, 1, 3, 0],\n",
       "       [1, 0, 0, 0, 3, 0],\n",
       "       [2, 1, 1, 1, 3, 2],\n",
       "       [2, 2, 3, 3, 3, 1]], dtype=int32)"
      ]
     },
     "execution_count": 22,
     "metadata": {},
     "output_type": "execute_result"
    }
   ],
   "source": [
    "arr1%4"
   ]
  },
  {
   "cell_type": "code",
   "execution_count": 23,
   "id": "a7a1d590",
   "metadata": {},
   "outputs": [
    {
     "data": {
      "text/plain": [
       "array([[45, 24, 20, 21, 66, 40],\n",
       "       [67, 70, 23, 31, 52, 18],\n",
       "       [31, 53, 80, 53, 51, 48],\n",
       "       [81, 36, 68, 24, 63, 48],\n",
       "       [50, 45, 77, 77, 43, 74],\n",
       "       [22, 62, 55, 71, 71, 65]])"
      ]
     },
     "execution_count": 23,
     "metadata": {},
     "output_type": "execute_result"
    }
   ],
   "source": [
    "arr1-4"
   ]
  },
  {
   "cell_type": "markdown",
   "id": "885908d6",
   "metadata": {},
   "source": [
    "###### As you can see all these arthemetic operations are done over arrays which is basically asked by the interviewer how these operations are handled by numpy.\n",
    "###### That where we can say that we are using array Broadcasting. "
   ]
  },
  {
   "cell_type": "markdown",
   "id": "a4bf3f76",
   "metadata": {},
   "source": [
    "### Array Broadcasting\n",
    "- When we perform some array to array operation on an array of different size then to make the operation possible Numpy adds some dumpy rows and dummy columns to match the shape of both the arrays \n",
    "- This process is called as Array Broadcasting\n",
    "- NOTE : - Atleast one dimension should be same and the other dimension hould be 1 in either of the array "
   ]
  },
  {
   "cell_type": "code",
   "execution_count": 24,
   "id": "8ba37693",
   "metadata": {},
   "outputs": [
    {
     "data": {
      "text/plain": [
       "array([[54, 33, 29, 30, 75, 49],\n",
       "       [76, 79, 32, 40, 61, 27],\n",
       "       [40, 62, 89, 62, 60, 57],\n",
       "       [90, 45, 77, 33, 72, 57],\n",
       "       [59, 54, 86, 86, 52, 83],\n",
       "       [31, 71, 64, 80, 80, 74]])"
      ]
     },
     "execution_count": 24,
     "metadata": {},
     "output_type": "execute_result"
    }
   ],
   "source": [
    "arr1+5"
   ]
  },
  {
   "cell_type": "markdown",
   "id": "aaa6a4eb",
   "metadata": {},
   "source": [
    "### Iterate over an Array"
   ]
  },
  {
   "cell_type": "code",
   "execution_count": 25,
   "id": "3f1bbc4a",
   "metadata": {},
   "outputs": [
    {
     "data": {
      "text/plain": [
       "array([ 0,  1,  2,  3,  4,  5,  6,  7,  8,  9, 10, 11, 12, 13, 14, 15, 16,\n",
       "       17, 18, 19, 20, 21, 22, 23])"
      ]
     },
     "execution_count": 25,
     "metadata": {},
     "output_type": "execute_result"
    }
   ],
   "source": [
    "w = np.arange(24)\n",
    "w"
   ]
  },
  {
   "cell_type": "code",
   "execution_count": 26,
   "id": "6acbca4a",
   "metadata": {},
   "outputs": [
    {
     "name": "stdout",
     "output_type": "stream",
     "text": [
      "0\n",
      "1\n",
      "2\n",
      "3\n",
      "4\n",
      "5\n",
      "6\n",
      "7\n",
      "8\n",
      "9\n",
      "10\n",
      "11\n",
      "12\n",
      "13\n",
      "14\n",
      "15\n",
      "16\n",
      "17\n",
      "18\n",
      "19\n",
      "20\n",
      "21\n",
      "22\n",
      "23\n"
     ]
    }
   ],
   "source": [
    "for i in w:\n",
    "    print(i)"
   ]
  },
  {
   "cell_type": "code",
   "execution_count": 27,
   "id": "45867729",
   "metadata": {},
   "outputs": [
    {
     "data": {
      "text/plain": [
       "array([[49, 28, 24, 25, 70, 44],\n",
       "       [71, 74, 27, 35, 56, 22],\n",
       "       [35, 57, 84, 57, 55, 52],\n",
       "       [85, 40, 72, 28, 67, 52],\n",
       "       [54, 49, 81, 81, 47, 78],\n",
       "       [26, 66, 59, 75, 75, 69]])"
      ]
     },
     "execution_count": 27,
     "metadata": {},
     "output_type": "execute_result"
    }
   ],
   "source": [
    "arr1"
   ]
  },
  {
   "cell_type": "code",
   "execution_count": 28,
   "id": "3136a465",
   "metadata": {},
   "outputs": [
    {
     "name": "stdout",
     "output_type": "stream",
     "text": [
      "[49 28 24 25 70 44]\n",
      "[71 74 27 35 56 22]\n",
      "[35 57 84 57 55 52]\n",
      "[85 40 72 28 67 52]\n",
      "[54 49 81 81 47 78]\n",
      "[26 66 59 75 75 69]\n"
     ]
    }
   ],
   "source": [
    "for i in arr1:\n",
    "    print(i)"
   ]
  },
  {
   "cell_type": "markdown",
   "id": "b927eacb",
   "metadata": {},
   "source": [
    "#####  As you can see it is not giving elements over an iteration so we have a function for that in numpy which is known as np.nditer()"
   ]
  },
  {
   "cell_type": "markdown",
   "id": "2d879b95",
   "metadata": {},
   "source": [
    "### np.nditer()\n",
    "- It returns an iterable object. "
   ]
  },
  {
   "cell_type": "code",
   "execution_count": 29,
   "id": "91c9b7ff",
   "metadata": {},
   "outputs": [
    {
     "data": {
      "text/plain": [
       "array([[49, 28, 24, 25, 70, 44],\n",
       "       [71, 74, 27, 35, 56, 22],\n",
       "       [35, 57, 84, 57, 55, 52],\n",
       "       [85, 40, 72, 28, 67, 52],\n",
       "       [54, 49, 81, 81, 47, 78],\n",
       "       [26, 66, 59, 75, 75, 69]])"
      ]
     },
     "execution_count": 29,
     "metadata": {},
     "output_type": "execute_result"
    }
   ],
   "source": [
    "arr1"
   ]
  },
  {
   "cell_type": "code",
   "execution_count": 31,
   "id": "d1fa3214",
   "metadata": {},
   "outputs": [
    {
     "name": "stdout",
     "output_type": "stream",
     "text": [
      "49 28 24 25 70 44 71 74 27 35 56 22 35 57 84 57 55 52 85 40 72 28 67 52 54 49 81 81 47 78 26 66 59 75 75 69 "
     ]
    }
   ],
   "source": [
    "for i in np.nditer(arr1):\n",
    "    print(i,end=\" \")"
   ]
  },
  {
   "cell_type": "markdown",
   "id": "64823a75",
   "metadata": {},
   "source": [
    "###  Determinant\n",
    "- It is used to find the determinant of the array.\n",
    "- Formula\n",
    "    - det=a(ei−fh)−b(di−fg)+c(dh−eg)\n",
    "    - Which differs to array like this:\n",
    "    - [[a,b,c], [d,e,f],[g,h,i]\n",
    "##### Syntax\n",
    "- np.linalg.det(arr)]]"
   ]
  },
  {
   "cell_type": "code",
   "execution_count": 32,
   "id": "e4fb1ca5",
   "metadata": {},
   "outputs": [
    {
     "data": {
      "text/plain": [
       "array([[49, 28, 24, 25, 70, 44],\n",
       "       [71, 74, 27, 35, 56, 22],\n",
       "       [35, 57, 84, 57, 55, 52],\n",
       "       [85, 40, 72, 28, 67, 52],\n",
       "       [54, 49, 81, 81, 47, 78],\n",
       "       [26, 66, 59, 75, 75, 69]])"
      ]
     },
     "execution_count": 32,
     "metadata": {},
     "output_type": "execute_result"
    }
   ],
   "source": [
    "arr1"
   ]
  },
  {
   "cell_type": "code",
   "execution_count": 33,
   "id": "d73a2db1",
   "metadata": {},
   "outputs": [
    {
     "data": {
      "text/plain": [
       "2266430643.0000033"
      ]
     },
     "execution_count": 33,
     "metadata": {},
     "output_type": "execute_result"
    }
   ],
   "source": [
    "np.linalg.det(arr1)"
   ]
  },
  {
   "cell_type": "code",
   "execution_count": 34,
   "id": "632fe999",
   "metadata": {},
   "outputs": [
    {
     "data": {
      "text/plain": [
       "array([[0, 1, 2],\n",
       "       [3, 4, 5],\n",
       "       [6, 7, 8]])"
      ]
     },
     "execution_count": 34,
     "metadata": {},
     "output_type": "execute_result"
    }
   ],
   "source": [
    "arr2 = np.arange(9).reshape(3,3)\n",
    "arr2"
   ]
  },
  {
   "cell_type": "code",
   "execution_count": 35,
   "id": "db200c74",
   "metadata": {},
   "outputs": [
    {
     "data": {
      "text/plain": [
       "0.0"
      ]
     },
     "execution_count": 35,
     "metadata": {},
     "output_type": "execute_result"
    }
   ],
   "source": [
    "np.linalg.det(arr2)"
   ]
  },
  {
   "cell_type": "code",
   "execution_count": null,
   "id": "53a67728",
   "metadata": {},
   "outputs": [],
   "source": []
  }
 ],
 "metadata": {
  "kernelspec": {
   "display_name": "Python 3 (ipykernel)",
   "language": "python",
   "name": "python3"
  },
  "language_info": {
   "codemirror_mode": {
    "name": "ipython",
    "version": 3
   },
   "file_extension": ".py",
   "mimetype": "text/x-python",
   "name": "python",
   "nbconvert_exporter": "python",
   "pygments_lexer": "ipython3",
   "version": "3.11.4"
  }
 },
 "nbformat": 4,
 "nbformat_minor": 5
}
