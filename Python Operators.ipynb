{
 "cells": [
  {
   "cell_type": "markdown",
   "id": "36194f74",
   "metadata": {},
   "source": [
    "### # Operators in Python\n",
    "   1. Arithmetic -> +, -, *, /(Floor Division), //(Float Division), %(Modulo), **(Exponent)\n",
    "   2. Comparison Operator - >, <, >=, <=\n",
    "   3. Equality Operator - ==, !=\n",
    "   4. Logical Operator - and or not\n",
    "   5. Bitwise Operator - &, |, ^, ~, <<, >>\n",
    "   6. Assignment Operator - =, +=, -=, *=, /=, //=, %=, **=, &=, |=, ^=, ~=, <<=, >>=\n",
    "   7. Identity Operator - is, is not\n",
    "   8. Membership Operator - in, not in\n",
    "   9. Ternary Operator - expr1 if codn else expr2\n",
    "   10. Operator Precedence"
   ]
  },
  {
   "cell_type": "markdown",
   "id": "cd66816f",
   "metadata": {},
   "source": [
    "#### 1. Arithmetic Operators\n",
    "- Arithmetic -> +, -, *, /(Floor Division), //(Float Division), %(Modulo), **(Exponent)"
   ]
  },
  {
   "cell_type": "code",
   "execution_count": 2,
   "id": "138d2567",
   "metadata": {},
   "outputs": [
    {
     "name": "stdout",
     "output_type": "stream",
     "text": [
      "30\n",
      "-10\n",
      "200\n",
      "0.5\n",
      "10\n",
      "0\n",
      "100000000000000000000\n"
     ]
    }
   ],
   "source": [
    "a=10\n",
    "b=20\n",
    "print(a+b) # Addition\n",
    "print(a-b) # Subtraction\n",
    "print(a*b) # Multiplication\n",
    "print(a/b) # division\n",
    "print(a%b) # Modulus\n",
    "print(a//b) # Floor division\n",
    "print(a**b) # Exponentiation"
   ]
  },
  {
   "cell_type": "markdown",
   "id": "2910b1e5",
   "metadata": {},
   "source": [
    "####  2. Comparison Operator \n",
    "- Comparison >, <, >=, <="
   ]
  },
  {
   "cell_type": "code",
   "execution_count": 3,
   "id": "5f063b69",
   "metadata": {},
   "outputs": [
    {
     "name": "stdout",
     "output_type": "stream",
     "text": [
      "False\n",
      "True\n",
      "False\n",
      "True\n"
     ]
    }
   ],
   "source": [
    "x=10\n",
    "y=20\n",
    "print(x>y) # Greater than\n",
    "print(x<y) # Less than\n",
    "print(x>=y) # Greater than or equal to\n",
    "print(x<=y) # less than or equal to"
   ]
  },
  {
   "cell_type": "markdown",
   "id": "4cf88a62",
   "metadata": {},
   "source": [
    "#### 3. Equality Operator\n",
    "- Equality ==, !="
   ]
  },
  {
   "cell_type": "code",
   "execution_count": 4,
   "id": "7a59eadf",
   "metadata": {},
   "outputs": [
    {
     "name": "stdout",
     "output_type": "stream",
     "text": [
      "False\n",
      "True\n"
     ]
    }
   ],
   "source": [
    "x=10\n",
    "y=20\n",
    "print(x==y) # Equal\n",
    "print(x!=y) # Not Equal"
   ]
  },
  {
   "cell_type": "markdown",
   "id": "aace51e8",
   "metadata": {},
   "source": [
    "#### 4. Logical Operator\n",
    "- Logical and, or, not"
   ]
  },
  {
   "cell_type": "code",
   "execution_count": 7,
   "id": "7319097f",
   "metadata": {},
   "outputs": [
    {
     "name": "stdout",
     "output_type": "stream",
     "text": [
      "True\n",
      "False\n",
      "False\n"
     ]
    }
   ],
   "source": [
    "x=5\n",
    "print(x<20 and x<10) # Returns True if both statements are true\n",
    "print(x<5 or x<4) # Returns True if one of the statements is true\n",
    "print(not(x > 3 and x < 10)) # Reverse the result, returns False if the result is true"
   ]
  },
  {
   "cell_type": "markdown",
   "id": "6a364560",
   "metadata": {},
   "source": [
    "#### 5.Bitwise Operator \n",
    "- Bitwise &, |, ^, ~, <<, >>"
   ]
  },
  {
   "cell_type": "code",
   "execution_count": 8,
   "id": "da596349",
   "metadata": {},
   "outputs": [
    {
     "name": "stdout",
     "output_type": "stream",
     "text": [
      "2\n",
      "10\n",
      "8\n",
      "-11\n",
      "2048\n",
      "0\n"
     ]
    }
   ],
   "source": [
    "a=2\n",
    "b=10\n",
    "print(a&b) # And (Sets each bit to 1 if both bits are 1)\n",
    "print(a|b) # Or (Sets each bit to 1 if one of two bits is 1)\n",
    "print(a^b) #  XOR (Sets each bit to 1 if only one of two bits is 1)\n",
    "print(~b) # NOT (Inverts all the bits)\n",
    "print(a<<b) # Zero fill left shift (Shift left by pushing zeros in from the right and let the leftmost bits fall off)\n",
    "print(a>>b) # Signed right shift (Shift right by pushing copies of the leftmost bit in from the left, and let the rightmost bits fall off)\n"
   ]
  },
  {
   "cell_type": "markdown",
   "id": "b60e271e",
   "metadata": {},
   "source": [
    "#### 6.Assignment Operator\n",
    "- Assignment =, +=, -=, *=, /=, //=, %=, **=, &=, |=, ^=, ~=, <<=, >>="
   ]
  },
  {
   "cell_type": "code",
   "execution_count": 17,
   "id": "dcbc431e",
   "metadata": {},
   "outputs": [
    {
     "name": "stdout",
     "output_type": "stream",
     "text": [
      "5\n",
      "8\n",
      "5\n",
      "15\n",
      "5.0\n",
      "1.0\n",
      "1.0\n",
      "1.0\n",
      "1\n",
      "3\n",
      "0\n",
      "0\n",
      "0\n"
     ]
    }
   ],
   "source": [
    "x=5\n",
    "print(x)\n",
    "x+=3\n",
    "print(x)\n",
    "x-=3\n",
    "print(x)\n",
    "x*=3\n",
    "print(x)\n",
    "x/=3\n",
    "print(x)\n",
    "x//=3\n",
    "print(x)\n",
    "x%=3\n",
    "print(x)\n",
    "x**3\n",
    "print(x)\n",
    "x=5\n",
    "x &=3\n",
    "print(x)\n",
    "x|=3\n",
    "print(x)\n",
    "x^=3\n",
    "print(x)\n",
    "x<<=3\n",
    "print(x)\n",
    "x>>=3\n",
    "print(x\n",
    "     )"
   ]
  },
  {
   "cell_type": "markdown",
   "id": "04ab87c9",
   "metadata": {},
   "source": [
    "#### 7. Identity Operator \n",
    "- Identity is, is not"
   ]
  },
  {
   "cell_type": "code",
   "execution_count": 18,
   "id": "ab516cb3",
   "metadata": {},
   "outputs": [
    {
     "name": "stdout",
     "output_type": "stream",
     "text": [
      "False\n",
      "True\n"
     ]
    }
   ],
   "source": [
    "x = [\"apple\", \"banana\"]\n",
    "y = [\"apple\", \"banana\"]\n",
    "\n",
    "print(x is y) # Returns True if both variables are the same object\n",
    "print(x is not y) # Returns True if both variables are not the same object"
   ]
  },
  {
   "cell_type": "markdown",
   "id": "812ce99f",
   "metadata": {},
   "source": [
    "#### 8.  Membership Operator \n",
    "- Membership in, not in"
   ]
  },
  {
   "cell_type": "code",
   "execution_count": 19,
   "id": "a20a851f",
   "metadata": {},
   "outputs": [
    {
     "name": "stdout",
     "output_type": "stream",
     "text": [
      "True\n",
      "True\n"
     ]
    }
   ],
   "source": [
    "x = [\"apple\", \"banana\"]\n",
    "\n",
    "print(\"banana\" in x) # Returns True if a sequence with the specified value is present in the object\n",
    "print(\"pineapple\" not in x) # Returns True if a sequence with the specified value is not present in the object"
   ]
  },
  {
   "cell_type": "markdown",
   "id": "239c8ecc",
   "metadata": {},
   "source": [
    "#### 9. Ternary Operator\n",
    "- expr1 if cond else expr2\n",
    "- expr1 is resut if cond is True else expr2 will be result\n",
    "- The ternary operator is a simplified conditional operator like if / else.\n",
    "- Syntax: condition ? <expression if true> : <expression if false>\n",
    "- Here is an example using if / else:"
   ]
  },
  {
   "cell_type": "code",
   "execution_count": 20,
   "id": "c6afb070",
   "metadata": {},
   "outputs": [
    {
     "name": "stdout",
     "output_type": "stream",
     "text": [
      "b is greater than a\n"
     ]
    }
   ],
   "source": [
    "\n",
    "a, b = 10, 20\n",
    " \n",
    "if a != b:\n",
    "    if a > b:\n",
    "        print(\"a is greater than b\")\n",
    "    else:\n",
    "        print(\"b is greater than a\")\n",
    "else:\n",
    "    print(\"Both a and b are equal\")"
   ]
  },
  {
   "cell_type": "markdown",
   "id": "ebcbb523",
   "metadata": {},
   "source": [
    "#### 10. Operator Precedence\n",
    "- Operator precedence describes the order in which operations are performed."
   ]
  },
  {
   "cell_type": "code",
   "execution_count": null,
   "id": "62e1bade",
   "metadata": {},
   "outputs": [],
   "source": []
  }
 ],
 "metadata": {
  "kernelspec": {
   "display_name": "Python 3 (ipykernel)",
   "language": "python",
   "name": "python3"
  },
  "language_info": {
   "codemirror_mode": {
    "name": "ipython",
    "version": 3
   },
   "file_extension": ".py",
   "mimetype": "text/x-python",
   "name": "python",
   "nbconvert_exporter": "python",
   "pygments_lexer": "ipython3",
   "version": "3.11.4"
  }
 },
 "nbformat": 4,
 "nbformat_minor": 5
}
